{
  "nbformat": 4,
  "nbformat_minor": 0,
  "metadata": {
    "colab": {
      "provenance": [],
      "authorship_tag": "ABX9TyOUgKARtfwGEXQPvpVMSSiG",
      "include_colab_link": true
    },
    "kernelspec": {
      "name": "python3",
      "display_name": "Python 3"
    },
    "language_info": {
      "name": "python"
    }
  },
  "cells": [
    {
      "cell_type": "markdown",
      "metadata": {
        "id": "view-in-github",
        "colab_type": "text"
      },
      "source": [
        "<a href=\"https://colab.research.google.com/github/mannatkaurgithub/SynData/blob/main/SynData.ipynb\" target=\"_parent\"><img src=\"https://colab.research.google.com/assets/colab-badge.svg\" alt=\"Open In Colab\"/></a>"
      ]
    },
    {
      "cell_type": "markdown",
      "source": [
        "# **INTRODUCTION**\n",
        "Fraud detection models are an essential tool for companies in various industries to detect and prevent fraudulent activities such as credit card fraud or false claims in insurance.\n",
        "\n",
        "These models have the objective to identify fraudulent transactions or activities by analyzing large amounts of data and detecting patterns that deviate from normal behavior.\n",
        "\n",
        "However, , the fraud instances (the minority class) are by far less frequent than the non-fraudulent ones (the majority class). Because of this class imbalance and confidentiality clause, not enough data is present to train the model. Therefore, the model struggles to distinguish between the two classes and therefore is not properly capable of detecting fraud."
      ],
      "metadata": {
        "id": "4KyOkqlpvrpZ"
      }
    },
    {
      "cell_type": "markdown",
      "source": [
        "# **DATA PREPROCESSING**\n",
        "We would be working with Kaggle dataset (Credit card fraud detection) which is publicly available."
      ],
      "metadata": {
        "id": "cyteq5O9wfKu"
      }
    },
    {
      "cell_type": "code",
      "source": [
        "import os\n",
        "os.environ['KAGGLE_CONFIG_DIR']='/content'"
      ],
      "metadata": {
        "id": "uDrJBPsXzdYW"
      },
      "execution_count": null,
      "outputs": []
    },
    {
      "cell_type": "code",
      "source": [
        "!kaggle datasets download -d mlg-ulb/creditcardfraud"
      ],
      "metadata": {
        "colab": {
          "base_uri": "https://localhost:8080/"
        },
        "id": "hwN0UyYeL-4m",
        "outputId": "7a560baf-b478-423c-96c7-6c492b40ce03"
      },
      "execution_count": null,
      "outputs": [
        {
          "output_type": "stream",
          "name": "stdout",
          "text": [
            "Warning: Your Kaggle API key is readable by other users on this system! To fix this, you can run 'chmod 600 /content/kaggle.json'\n",
            "Downloading creditcardfraud.zip to /content\n",
            " 74% 49.0M/66.0M [00:00<00:00, 175MB/s]\n",
            "100% 66.0M/66.0M [00:00<00:00, 178MB/s]\n"
          ]
        }
      ]
    },
    {
      "cell_type": "code",
      "source": [
        "!unzip \\*.zip && rm *.zip"
      ],
      "metadata": {
        "colab": {
          "base_uri": "https://localhost:8080/"
        },
        "id": "NvaK6qlq1iVd",
        "outputId": "a5cd6e93-e18a-4ba9-f4a9-bd8561b356b9"
      },
      "execution_count": null,
      "outputs": [
        {
          "output_type": "stream",
          "name": "stdout",
          "text": [
            "Archive:  creditcardfraud.zip\n",
            "  inflating: creditcard.csv          \n"
          ]
        }
      ]
    },
    {
      "cell_type": "code",
      "metadata": {
        "id": "zj83NIwuUFGE",
        "colab": {
          "base_uri": "https://localhost:8080/"
        },
        "outputId": "2db9e910-68a0-4a3f-af76-1debabe5de33"
      },
      "source": [
        "!pip install --force-reinstall --no-deps https://github.com/ceshine/ydata-synthetic/archive/master.zip"
      ],
      "execution_count": null,
      "outputs": [
        {
          "output_type": "stream",
          "name": "stdout",
          "text": [
            "Collecting https://github.com/ceshine/ydata-synthetic/archive/master.zip\n",
            "  Downloading https://github.com/ceshine/ydata-synthetic/archive/master.zip\n",
            "\u001b[2K     \u001b[32m\\\u001b[0m \u001b[32m107.4 kB\u001b[0m \u001b[31m1.1 MB/s\u001b[0m \u001b[33m0:00:00\u001b[0m\n",
            "\u001b[?25h  Preparing metadata (setup.py) ... \u001b[?25l\u001b[?25hdone\n",
            "Building wheels for collected packages: ydata-synthetic\n",
            "  Building wheel for ydata-synthetic (setup.py) ... \u001b[?25l\u001b[?25hdone\n",
            "  Created wheel for ydata-synthetic: filename=ydata_synthetic-0.0.0-py2.py3-none-any.whl size=28722 sha256=d3460eb0d7d643ebe6ba7fb659b0b44074005a998fa6de1b1cffdc58e01cd370\n",
            "  Stored in directory: /tmp/pip-ephem-wheel-cache-nhayj_8t/wheels/f1/13/9b/3b8879ef0d20911690d162440bd5b71f5324fb94d088e9fbe6\n",
            "Successfully built ydata-synthetic\n",
            "Installing collected packages: ydata-synthetic\n",
            "Successfully installed ydata-synthetic-0.0.0\n"
          ]
        }
      ]
    },
    {
      "cell_type": "code",
      "source": [
        "!pip install -U pmlb tensorflow-privacy watermark"
      ],
      "metadata": {
        "colab": {
          "base_uri": "https://localhost:8080/"
        },
        "id": "S2XWNd2feV75",
        "outputId": "55597786-0e77-4fec-9e52-b3dcea73f6a0"
      },
      "execution_count": null,
      "outputs": [
        {
          "output_type": "stream",
          "name": "stdout",
          "text": [
            "Collecting pmlb\n",
            "  Downloading pmlb-1.0.1.post3-py3-none-any.whl (19 kB)\n",
            "Collecting tensorflow-privacy\n",
            "  Downloading tensorflow_privacy-0.8.12-py3-none-any.whl (405 kB)\n",
            "\u001b[2K     \u001b[90m━━━━━━━━━━━━━━━━━━━━━━━━━━━━━━━━━━━━━━━━\u001b[0m \u001b[32m405.5/405.5 kB\u001b[0m \u001b[31m3.1 MB/s\u001b[0m eta \u001b[36m0:00:00\u001b[0m\n",
            "\u001b[?25hCollecting watermark\n",
            "  Downloading watermark-2.4.3-py2.py3-none-any.whl (7.6 kB)\n",
            "Requirement already satisfied: pandas>=1.0.5 in /usr/local/lib/python3.10/dist-packages (from pmlb) (1.5.3)\n",
            "Requirement already satisfied: requests>=2.24.0 in /usr/local/lib/python3.10/dist-packages (from pmlb) (2.31.0)\n",
            "Requirement already satisfied: pyyaml>=5.3.1 in /usr/local/lib/python3.10/dist-packages (from pmlb) (6.0.1)\n",
            "Requirement already satisfied: absl-py==1.*,>=1.0 in /usr/local/lib/python3.10/dist-packages (from tensorflow-privacy) (1.4.0)\n",
            "Requirement already satisfied: attrs>=21.4 in /usr/local/lib/python3.10/dist-packages (from tensorflow-privacy) (23.1.0)\n",
            "Requirement already satisfied: dm-tree==0.1.8 in /usr/local/lib/python3.10/dist-packages (from tensorflow-privacy) (0.1.8)\n",
            "Collecting dp-accounting==0.4.3 (from tensorflow-privacy)\n",
            "  Downloading dp_accounting-0.4.3-py3-none-any.whl (104 kB)\n",
            "\u001b[2K     \u001b[90m━━━━━━━━━━━━━━━━━━━━━━━━━━━━━━━━━━━━━━━━\u001b[0m \u001b[32m104.8/104.8 kB\u001b[0m \u001b[31m13.3 MB/s\u001b[0m eta \u001b[36m0:00:00\u001b[0m\n",
            "\u001b[?25hCollecting immutabledict~=2.2 (from tensorflow-privacy)\n",
            "  Downloading immutabledict-2.2.5-py3-none-any.whl (4.1 kB)\n",
            "Requirement already satisfied: matplotlib~=3.3 in /usr/local/lib/python3.10/dist-packages (from tensorflow-privacy) (3.7.1)\n",
            "Requirement already satisfied: numpy~=1.21 in /usr/local/lib/python3.10/dist-packages (from tensorflow-privacy) (1.23.5)\n",
            "Collecting packaging~=22.0 (from tensorflow-privacy)\n",
            "  Downloading packaging-22.0-py3-none-any.whl (42 kB)\n",
            "\u001b[2K     \u001b[90m━━━━━━━━━━━━━━━━━━━━━━━━━━━━━━━━━━━━━━━━\u001b[0m \u001b[32m42.6/42.6 kB\u001b[0m \u001b[31m5.1 MB/s\u001b[0m eta \u001b[36m0:00:00\u001b[0m\n",
            "\u001b[?25hRequirement already satisfied: scikit-learn==1.*,>=1.0 in /usr/local/lib/python3.10/dist-packages (from tensorflow-privacy) (1.2.2)\n",
            "Requirement already satisfied: scipy~=1.9 in /usr/local/lib/python3.10/dist-packages (from tensorflow-privacy) (1.11.4)\n",
            "Requirement already satisfied: statsmodels~=0.13 in /usr/local/lib/python3.10/dist-packages (from tensorflow-privacy) (0.14.0)\n",
            "Requirement already satisfied: tensorflow-estimator~=2.4 in /usr/local/lib/python3.10/dist-packages (from tensorflow-privacy) (2.14.0)\n",
            "Requirement already satisfied: tensorflow-probability~=0.22.0 in /usr/local/lib/python3.10/dist-packages (from tensorflow-privacy) (0.22.0)\n",
            "Requirement already satisfied: tensorflow~=2.4 in /usr/local/lib/python3.10/dist-packages (from tensorflow-privacy) (2.14.0)\n",
            "Collecting tf-models-official~=2.13 (from tensorflow-privacy)\n",
            "  Downloading tf_models_official-2.15.0-py2.py3-none-any.whl (2.7 MB)\n",
            "\u001b[2K     \u001b[90m━━━━━━━━━━━━━━━━━━━━━━━━━━━━━━━━━━━━━━━━\u001b[0m \u001b[32m2.7/2.7 MB\u001b[0m \u001b[31m23.5 MB/s\u001b[0m eta \u001b[36m0:00:00\u001b[0m\n",
            "\u001b[?25hRequirement already satisfied: mpmath~=1.2 in /usr/local/lib/python3.10/dist-packages (from dp-accounting==0.4.3->tensorflow-privacy) (1.3.0)\n",
            "Requirement already satisfied: joblib>=1.1.1 in /usr/local/lib/python3.10/dist-packages (from scikit-learn==1.*,>=1.0->tensorflow-privacy) (1.3.2)\n",
            "Requirement already satisfied: threadpoolctl>=2.0.0 in /usr/local/lib/python3.10/dist-packages (from scikit-learn==1.*,>=1.0->tensorflow-privacy) (3.2.0)\n",
            "Requirement already satisfied: ipython>=6.0 in /usr/local/lib/python3.10/dist-packages (from watermark) (7.34.0)\n",
            "Requirement already satisfied: importlib-metadata>=1.4 in /usr/local/lib/python3.10/dist-packages (from watermark) (6.8.0)\n",
            "Requirement already satisfied: setuptools in /usr/local/lib/python3.10/dist-packages (from watermark) (67.7.2)\n",
            "Requirement already satisfied: zipp>=0.5 in /usr/local/lib/python3.10/dist-packages (from importlib-metadata>=1.4->watermark) (3.17.0)\n",
            "Collecting jedi>=0.16 (from ipython>=6.0->watermark)\n",
            "  Downloading jedi-0.19.1-py2.py3-none-any.whl (1.6 MB)\n",
            "\u001b[2K     \u001b[90m━━━━━━━━━━━━━━━━━━━━━━━━━━━━━━━━━━━━━━━━\u001b[0m \u001b[32m1.6/1.6 MB\u001b[0m \u001b[31m71.6 MB/s\u001b[0m eta \u001b[36m0:00:00\u001b[0m\n",
            "\u001b[?25hRequirement already satisfied: decorator in /usr/local/lib/python3.10/dist-packages (from ipython>=6.0->watermark) (4.4.2)\n",
            "Requirement already satisfied: pickleshare in /usr/local/lib/python3.10/dist-packages (from ipython>=6.0->watermark) (0.7.5)\n",
            "Requirement already satisfied: traitlets>=4.2 in /usr/local/lib/python3.10/dist-packages (from ipython>=6.0->watermark) (5.7.1)\n",
            "Requirement already satisfied: prompt-toolkit!=3.0.0,!=3.0.1,<3.1.0,>=2.0.0 in /usr/local/lib/python3.10/dist-packages (from ipython>=6.0->watermark) (3.0.41)\n",
            "Requirement already satisfied: pygments in /usr/local/lib/python3.10/dist-packages (from ipython>=6.0->watermark) (2.16.1)\n",
            "Requirement already satisfied: backcall in /usr/local/lib/python3.10/dist-packages (from ipython>=6.0->watermark) (0.2.0)\n",
            "Requirement already satisfied: matplotlib-inline in /usr/local/lib/python3.10/dist-packages (from ipython>=6.0->watermark) (0.1.6)\n",
            "Requirement already satisfied: pexpect>4.3 in /usr/local/lib/python3.10/dist-packages (from ipython>=6.0->watermark) (4.9.0)\n",
            "Requirement already satisfied: contourpy>=1.0.1 in /usr/local/lib/python3.10/dist-packages (from matplotlib~=3.3->tensorflow-privacy) (1.2.0)\n",
            "Requirement already satisfied: cycler>=0.10 in /usr/local/lib/python3.10/dist-packages (from matplotlib~=3.3->tensorflow-privacy) (0.12.1)\n",
            "Requirement already satisfied: fonttools>=4.22.0 in /usr/local/lib/python3.10/dist-packages (from matplotlib~=3.3->tensorflow-privacy) (4.45.1)\n",
            "Requirement already satisfied: kiwisolver>=1.0.1 in /usr/local/lib/python3.10/dist-packages (from matplotlib~=3.3->tensorflow-privacy) (1.4.5)\n",
            "Requirement already satisfied: pillow>=6.2.0 in /usr/local/lib/python3.10/dist-packages (from matplotlib~=3.3->tensorflow-privacy) (9.4.0)\n",
            "Requirement already satisfied: pyparsing>=2.3.1 in /usr/local/lib/python3.10/dist-packages (from matplotlib~=3.3->tensorflow-privacy) (3.1.1)\n",
            "Requirement already satisfied: python-dateutil>=2.7 in /usr/local/lib/python3.10/dist-packages (from matplotlib~=3.3->tensorflow-privacy) (2.8.2)\n",
            "Requirement already satisfied: pytz>=2020.1 in /usr/local/lib/python3.10/dist-packages (from pandas>=1.0.5->pmlb) (2023.3.post1)\n",
            "Requirement already satisfied: charset-normalizer<4,>=2 in /usr/local/lib/python3.10/dist-packages (from requests>=2.24.0->pmlb) (3.3.2)\n",
            "Requirement already satisfied: idna<4,>=2.5 in /usr/local/lib/python3.10/dist-packages (from requests>=2.24.0->pmlb) (3.6)\n",
            "Requirement already satisfied: urllib3<3,>=1.21.1 in /usr/local/lib/python3.10/dist-packages (from requests>=2.24.0->pmlb) (2.0.7)\n",
            "Requirement already satisfied: certifi>=2017.4.17 in /usr/local/lib/python3.10/dist-packages (from requests>=2.24.0->pmlb) (2023.11.17)\n",
            "Requirement already satisfied: patsy>=0.5.2 in /usr/local/lib/python3.10/dist-packages (from statsmodels~=0.13->tensorflow-privacy) (0.5.3)\n",
            "Requirement already satisfied: astunparse>=1.6.0 in /usr/local/lib/python3.10/dist-packages (from tensorflow~=2.4->tensorflow-privacy) (1.6.3)\n",
            "Requirement already satisfied: flatbuffers>=23.5.26 in /usr/local/lib/python3.10/dist-packages (from tensorflow~=2.4->tensorflow-privacy) (23.5.26)\n",
            "Requirement already satisfied: gast!=0.5.0,!=0.5.1,!=0.5.2,>=0.2.1 in /usr/local/lib/python3.10/dist-packages (from tensorflow~=2.4->tensorflow-privacy) (0.5.4)\n",
            "Requirement already satisfied: google-pasta>=0.1.1 in /usr/local/lib/python3.10/dist-packages (from tensorflow~=2.4->tensorflow-privacy) (0.2.0)\n",
            "Requirement already satisfied: h5py>=2.9.0 in /usr/local/lib/python3.10/dist-packages (from tensorflow~=2.4->tensorflow-privacy) (3.9.0)\n",
            "Requirement already satisfied: libclang>=13.0.0 in /usr/local/lib/python3.10/dist-packages (from tensorflow~=2.4->tensorflow-privacy) (16.0.6)\n",
            "Requirement already satisfied: ml-dtypes==0.2.0 in /usr/local/lib/python3.10/dist-packages (from tensorflow~=2.4->tensorflow-privacy) (0.2.0)\n",
            "Requirement already satisfied: opt-einsum>=2.3.2 in /usr/local/lib/python3.10/dist-packages (from tensorflow~=2.4->tensorflow-privacy) (3.3.0)\n",
            "Requirement already satisfied: protobuf!=4.21.0,!=4.21.1,!=4.21.2,!=4.21.3,!=4.21.4,!=4.21.5,<5.0.0dev,>=3.20.3 in /usr/local/lib/python3.10/dist-packages (from tensorflow~=2.4->tensorflow-privacy) (3.20.3)\n",
            "Requirement already satisfied: six>=1.12.0 in /usr/local/lib/python3.10/dist-packages (from tensorflow~=2.4->tensorflow-privacy) (1.16.0)\n",
            "Requirement already satisfied: termcolor>=1.1.0 in /usr/local/lib/python3.10/dist-packages (from tensorflow~=2.4->tensorflow-privacy) (2.3.0)\n",
            "Requirement already satisfied: typing-extensions>=3.6.6 in /usr/local/lib/python3.10/dist-packages (from tensorflow~=2.4->tensorflow-privacy) (4.5.0)\n",
            "Requirement already satisfied: wrapt<1.15,>=1.11.0 in /usr/local/lib/python3.10/dist-packages (from tensorflow~=2.4->tensorflow-privacy) (1.14.1)\n",
            "Requirement already satisfied: tensorflow-io-gcs-filesystem>=0.23.1 in /usr/local/lib/python3.10/dist-packages (from tensorflow~=2.4->tensorflow-privacy) (0.34.0)\n",
            "Requirement already satisfied: grpcio<2.0,>=1.24.3 in /usr/local/lib/python3.10/dist-packages (from tensorflow~=2.4->tensorflow-privacy) (1.59.3)\n",
            "Requirement already satisfied: tensorboard<2.15,>=2.14 in /usr/local/lib/python3.10/dist-packages (from tensorflow~=2.4->tensorflow-privacy) (2.14.1)\n",
            "Requirement already satisfied: keras<2.15,>=2.14.0 in /usr/local/lib/python3.10/dist-packages (from tensorflow~=2.4->tensorflow-privacy) (2.14.0)\n",
            "Requirement already satisfied: cloudpickle>=1.3 in /usr/local/lib/python3.10/dist-packages (from tensorflow-probability~=0.22.0->tensorflow-privacy) (2.2.1)\n",
            "Requirement already satisfied: Cython in /usr/local/lib/python3.10/dist-packages (from tf-models-official~=2.13->tensorflow-privacy) (3.0.6)\n",
            "Requirement already satisfied: gin-config in /usr/local/lib/python3.10/dist-packages (from tf-models-official~=2.13->tensorflow-privacy) (0.5.0)\n",
            "Requirement already satisfied: google-api-python-client>=1.6.7 in /usr/local/lib/python3.10/dist-packages (from tf-models-official~=2.13->tensorflow-privacy) (2.84.0)\n",
            "Requirement already satisfied: kaggle>=1.3.9 in /usr/local/lib/python3.10/dist-packages (from tf-models-official~=2.13->tensorflow-privacy) (1.5.16)\n",
            "Requirement already satisfied: oauth2client in /usr/local/lib/python3.10/dist-packages (from tf-models-official~=2.13->tensorflow-privacy) (4.1.3)\n",
            "Requirement already satisfied: opencv-python-headless in /usr/local/lib/python3.10/dist-packages (from tf-models-official~=2.13->tensorflow-privacy) (4.8.1.78)\n",
            "Requirement already satisfied: psutil>=5.4.3 in /usr/local/lib/python3.10/dist-packages (from tf-models-official~=2.13->tensorflow-privacy) (5.9.5)\n",
            "Requirement already satisfied: py-cpuinfo>=3.3.0 in /usr/local/lib/python3.10/dist-packages (from tf-models-official~=2.13->tensorflow-privacy) (9.0.0)\n",
            "Requirement already satisfied: pycocotools in /usr/local/lib/python3.10/dist-packages (from tf-models-official~=2.13->tensorflow-privacy) (2.0.7)\n",
            "Collecting sacrebleu (from tf-models-official~=2.13->tensorflow-privacy)\n",
            "  Downloading sacrebleu-2.3.3-py3-none-any.whl (106 kB)\n",
            "\u001b[2K     \u001b[90m━━━━━━━━━━━━━━━━━━━━━━━━━━━━━━━━━━━━━━━━\u001b[0m \u001b[32m106.4/106.4 kB\u001b[0m \u001b[31m13.8 MB/s\u001b[0m eta \u001b[36m0:00:00\u001b[0m\n",
            "\u001b[?25hCollecting sentencepiece (from tf-models-official~=2.13->tensorflow-privacy)\n",
            "  Downloading sentencepiece-0.1.99-cp310-cp310-manylinux_2_17_x86_64.manylinux2014_x86_64.whl (1.3 MB)\n",
            "\u001b[2K     \u001b[90m━━━━━━━━━━━━━━━━━━━━━━━━━━━━━━━━━━━━━━━━\u001b[0m \u001b[32m1.3/1.3 MB\u001b[0m \u001b[31m38.8 MB/s\u001b[0m eta \u001b[36m0:00:00\u001b[0m\n",
            "\u001b[?25hCollecting seqeval (from tf-models-official~=2.13->tensorflow-privacy)\n",
            "  Downloading seqeval-1.2.2.tar.gz (43 kB)\n",
            "\u001b[2K     \u001b[90m━━━━━━━━━━━━━━━━━━━━━━━━━━━━━━━━━━━━━━━━\u001b[0m \u001b[32m43.6/43.6 kB\u001b[0m \u001b[31m4.2 MB/s\u001b[0m eta \u001b[36m0:00:00\u001b[0m\n",
            "\u001b[?25h  Preparing metadata (setup.py) ... \u001b[?25l\u001b[?25hdone\n",
            "Requirement already satisfied: tensorflow-datasets in /usr/local/lib/python3.10/dist-packages (from tf-models-official~=2.13->tensorflow-privacy) (4.9.3)\n",
            "Requirement already satisfied: tensorflow-hub>=0.6.0 in /usr/local/lib/python3.10/dist-packages (from tf-models-official~=2.13->tensorflow-privacy) (0.15.0)\n",
            "Collecting tensorflow-model-optimization>=0.4.1 (from tf-models-official~=2.13->tensorflow-privacy)\n",
            "  Downloading tensorflow_model_optimization-0.7.5-py2.py3-none-any.whl (241 kB)\n",
            "\u001b[2K     \u001b[90m━━━━━━━━━━━━━━━━━━━━━━━━━━━━━━━━━━━━━━━━\u001b[0m \u001b[32m241.2/241.2 kB\u001b[0m \u001b[31m22.5 MB/s\u001b[0m eta \u001b[36m0:00:00\u001b[0m\n",
            "\u001b[?25hCollecting tensorflow-text~=2.15.0 (from tf-models-official~=2.13->tensorflow-privacy)\n",
            "  Downloading tensorflow_text-2.15.0-cp310-cp310-manylinux_2_17_x86_64.manylinux2014_x86_64.whl (5.2 MB)\n",
            "\u001b[2K     \u001b[90m━━━━━━━━━━━━━━━━━━━━━━━━━━━━━━━━━━━━━━━━\u001b[0m \u001b[32m5.2/5.2 MB\u001b[0m \u001b[31m61.3 MB/s\u001b[0m eta \u001b[36m0:00:00\u001b[0m\n",
            "\u001b[?25hCollecting tensorflow~=2.4 (from tensorflow-privacy)\n",
            "  Downloading tensorflow-2.15.0-cp310-cp310-manylinux_2_17_x86_64.manylinux2014_x86_64.whl (475.2 MB)\n",
            "\u001b[2K     \u001b[90m━━━━━━━━━━━━━━━━━━━━━━━━━━━━━━━━━━━━━━━━\u001b[0m \u001b[32m475.2/475.2 MB\u001b[0m \u001b[31m3.2 MB/s\u001b[0m eta \u001b[36m0:00:00\u001b[0m\n",
            "\u001b[?25hRequirement already satisfied: tf-slim>=1.1.0 in /usr/local/lib/python3.10/dist-packages (from tf-models-official~=2.13->tensorflow-privacy) (1.1.0)\n",
            "Collecting tensorboard<2.16,>=2.15 (from tensorflow~=2.4->tensorflow-privacy)\n",
            "  Downloading tensorboard-2.15.1-py3-none-any.whl (5.5 MB)\n",
            "\u001b[2K     \u001b[90m━━━━━━━━━━━━━━━━━━━━━━━━━━━━━━━━━━━━━━━━\u001b[0m \u001b[32m5.5/5.5 MB\u001b[0m \u001b[31m63.7 MB/s\u001b[0m eta \u001b[36m0:00:00\u001b[0m\n",
            "\u001b[?25hCollecting tensorflow-estimator~=2.4 (from tensorflow-privacy)\n",
            "  Downloading tensorflow_estimator-2.15.0-py2.py3-none-any.whl (441 kB)\n",
            "\u001b[2K     \u001b[90m━━━━━━━━━━━━━━━━━━━━━━━━━━━━━━━━━━━━━━━━\u001b[0m \u001b[32m442.0/442.0 kB\u001b[0m \u001b[31m32.2 MB/s\u001b[0m eta \u001b[36m0:00:00\u001b[0m\n",
            "\u001b[?25hCollecting keras<2.16,>=2.15.0 (from tensorflow~=2.4->tensorflow-privacy)\n",
            "  Downloading keras-2.15.0-py3-none-any.whl (1.7 MB)\n",
            "\u001b[2K     \u001b[90m━━━━━━━━━━━━━━━━━━━━━━━━━━━━━━━━━━━━━━━━\u001b[0m \u001b[32m1.7/1.7 MB\u001b[0m \u001b[31m58.9 MB/s\u001b[0m eta \u001b[36m0:00:00\u001b[0m\n",
            "\u001b[?25hRequirement already satisfied: wheel<1.0,>=0.23.0 in /usr/local/lib/python3.10/dist-packages (from astunparse>=1.6.0->tensorflow~=2.4->tensorflow-privacy) (0.42.0)\n",
            "Requirement already satisfied: httplib2<1dev,>=0.15.0 in /usr/local/lib/python3.10/dist-packages (from google-api-python-client>=1.6.7->tf-models-official~=2.13->tensorflow-privacy) (0.22.0)\n",
            "Requirement already satisfied: google-auth<3.0.0dev,>=1.19.0 in /usr/local/lib/python3.10/dist-packages (from google-api-python-client>=1.6.7->tf-models-official~=2.13->tensorflow-privacy) (2.17.3)\n",
            "Requirement already satisfied: google-auth-httplib2>=0.1.0 in /usr/local/lib/python3.10/dist-packages (from google-api-python-client>=1.6.7->tf-models-official~=2.13->tensorflow-privacy) (0.1.1)\n",
            "Requirement already satisfied: google-api-core!=2.0.*,!=2.1.*,!=2.2.*,!=2.3.0,<3.0.0dev,>=1.31.5 in /usr/local/lib/python3.10/dist-packages (from google-api-python-client>=1.6.7->tf-models-official~=2.13->tensorflow-privacy) (2.11.1)\n",
            "Requirement already satisfied: uritemplate<5,>=3.0.1 in /usr/local/lib/python3.10/dist-packages (from google-api-python-client>=1.6.7->tf-models-official~=2.13->tensorflow-privacy) (4.1.1)\n",
            "Requirement already satisfied: parso<0.9.0,>=0.8.3 in /usr/local/lib/python3.10/dist-packages (from jedi>=0.16->ipython>=6.0->watermark) (0.8.3)\n",
            "Requirement already satisfied: tqdm in /usr/local/lib/python3.10/dist-packages (from kaggle>=1.3.9->tf-models-official~=2.13->tensorflow-privacy) (4.66.1)\n",
            "Requirement already satisfied: python-slugify in /usr/local/lib/python3.10/dist-packages (from kaggle>=1.3.9->tf-models-official~=2.13->tensorflow-privacy) (8.0.1)\n",
            "Requirement already satisfied: bleach in /usr/local/lib/python3.10/dist-packages (from kaggle>=1.3.9->tf-models-official~=2.13->tensorflow-privacy) (6.1.0)\n",
            "Requirement already satisfied: ptyprocess>=0.5 in /usr/local/lib/python3.10/dist-packages (from pexpect>4.3->ipython>=6.0->watermark) (0.7.0)\n",
            "Requirement already satisfied: wcwidth in /usr/local/lib/python3.10/dist-packages (from prompt-toolkit!=3.0.0,!=3.0.1,<3.1.0,>=2.0.0->ipython>=6.0->watermark) (0.2.12)\n",
            "Requirement already satisfied: google-auth-oauthlib<2,>=0.5 in /usr/local/lib/python3.10/dist-packages (from tensorboard<2.16,>=2.15->tensorflow~=2.4->tensorflow-privacy) (1.0.0)\n",
            "Requirement already satisfied: markdown>=2.6.8 in /usr/local/lib/python3.10/dist-packages (from tensorboard<2.16,>=2.15->tensorflow~=2.4->tensorflow-privacy) (3.5.1)\n",
            "Requirement already satisfied: tensorboard-data-server<0.8.0,>=0.7.0 in /usr/local/lib/python3.10/dist-packages (from tensorboard<2.16,>=2.15->tensorflow~=2.4->tensorflow-privacy) (0.7.2)\n",
            "Requirement already satisfied: werkzeug>=1.0.1 in /usr/local/lib/python3.10/dist-packages (from tensorboard<2.16,>=2.15->tensorflow~=2.4->tensorflow-privacy) (3.0.1)\n",
            "Requirement already satisfied: pyasn1>=0.1.7 in /usr/local/lib/python3.10/dist-packages (from oauth2client->tf-models-official~=2.13->tensorflow-privacy) (0.5.1)\n",
            "Requirement already satisfied: pyasn1-modules>=0.0.5 in /usr/local/lib/python3.10/dist-packages (from oauth2client->tf-models-official~=2.13->tensorflow-privacy) (0.3.0)\n",
            "Requirement already satisfied: rsa>=3.1.4 in /usr/local/lib/python3.10/dist-packages (from oauth2client->tf-models-official~=2.13->tensorflow-privacy) (4.9)\n",
            "Collecting portalocker (from sacrebleu->tf-models-official~=2.13->tensorflow-privacy)\n",
            "  Downloading portalocker-2.8.2-py3-none-any.whl (17 kB)\n",
            "Requirement already satisfied: regex in /usr/local/lib/python3.10/dist-packages (from sacrebleu->tf-models-official~=2.13->tensorflow-privacy) (2023.6.3)\n",
            "Requirement already satisfied: tabulate>=0.8.9 in /usr/local/lib/python3.10/dist-packages (from sacrebleu->tf-models-official~=2.13->tensorflow-privacy) (0.9.0)\n",
            "Collecting colorama (from sacrebleu->tf-models-official~=2.13->tensorflow-privacy)\n",
            "  Downloading colorama-0.4.6-py2.py3-none-any.whl (25 kB)\n",
            "Requirement already satisfied: lxml in /usr/local/lib/python3.10/dist-packages (from sacrebleu->tf-models-official~=2.13->tensorflow-privacy) (4.9.3)\n",
            "Requirement already satisfied: array-record in /usr/local/lib/python3.10/dist-packages (from tensorflow-datasets->tf-models-official~=2.13->tensorflow-privacy) (0.5.0)\n",
            "Requirement already satisfied: click in /usr/local/lib/python3.10/dist-packages (from tensorflow-datasets->tf-models-official~=2.13->tensorflow-privacy) (8.1.7)\n",
            "Requirement already satisfied: etils[enp,epath,etree]>=0.9.0 in /usr/local/lib/python3.10/dist-packages (from tensorflow-datasets->tf-models-official~=2.13->tensorflow-privacy) (1.5.2)\n",
            "Requirement already satisfied: promise in /usr/local/lib/python3.10/dist-packages (from tensorflow-datasets->tf-models-official~=2.13->tensorflow-privacy) (2.3)\n",
            "Requirement already satisfied: tensorflow-metadata in /usr/local/lib/python3.10/dist-packages (from tensorflow-datasets->tf-models-official~=2.13->tensorflow-privacy) (1.14.0)\n",
            "Requirement already satisfied: toml in /usr/local/lib/python3.10/dist-packages (from tensorflow-datasets->tf-models-official~=2.13->tensorflow-privacy) (0.10.2)\n",
            "Requirement already satisfied: fsspec in /usr/local/lib/python3.10/dist-packages (from etils[enp,epath,etree]>=0.9.0->tensorflow-datasets->tf-models-official~=2.13->tensorflow-privacy) (2023.6.0)\n",
            "Requirement already satisfied: importlib_resources in /usr/local/lib/python3.10/dist-packages (from etils[enp,epath,etree]>=0.9.0->tensorflow-datasets->tf-models-official~=2.13->tensorflow-privacy) (6.1.1)\n",
            "Requirement already satisfied: googleapis-common-protos<2.0.dev0,>=1.56.2 in /usr/local/lib/python3.10/dist-packages (from google-api-core!=2.0.*,!=2.1.*,!=2.2.*,!=2.3.0,<3.0.0dev,>=1.31.5->google-api-python-client>=1.6.7->tf-models-official~=2.13->tensorflow-privacy) (1.61.0)\n",
            "Requirement already satisfied: cachetools<6.0,>=2.0.0 in /usr/local/lib/python3.10/dist-packages (from google-auth<3.0.0dev,>=1.19.0->google-api-python-client>=1.6.7->tf-models-official~=2.13->tensorflow-privacy) (5.3.2)\n",
            "Requirement already satisfied: requests-oauthlib>=0.7.0 in /usr/local/lib/python3.10/dist-packages (from google-auth-oauthlib<2,>=0.5->tensorboard<2.16,>=2.15->tensorflow~=2.4->tensorflow-privacy) (1.3.1)\n",
            "Requirement already satisfied: MarkupSafe>=2.1.1 in /usr/local/lib/python3.10/dist-packages (from werkzeug>=1.0.1->tensorboard<2.16,>=2.15->tensorflow~=2.4->tensorflow-privacy) (2.1.3)\n",
            "Requirement already satisfied: webencodings in /usr/local/lib/python3.10/dist-packages (from bleach->kaggle>=1.3.9->tf-models-official~=2.13->tensorflow-privacy) (0.5.1)\n",
            "Requirement already satisfied: text-unidecode>=1.3 in /usr/local/lib/python3.10/dist-packages (from python-slugify->kaggle>=1.3.9->tf-models-official~=2.13->tensorflow-privacy) (1.3)\n",
            "Requirement already satisfied: oauthlib>=3.0.0 in /usr/local/lib/python3.10/dist-packages (from requests-oauthlib>=0.7.0->google-auth-oauthlib<2,>=0.5->tensorboard<2.16,>=2.15->tensorflow~=2.4->tensorflow-privacy) (3.2.2)\n",
            "Building wheels for collected packages: seqeval\n",
            "  Building wheel for seqeval (setup.py) ... \u001b[?25l\u001b[?25hdone\n",
            "  Created wheel for seqeval: filename=seqeval-1.2.2-py3-none-any.whl size=16162 sha256=40af9732fad6c7256c9c8caefa19bdf3346da32ee5eb98953a1fb74018c08805\n",
            "  Stored in directory: /root/.cache/pip/wheels/1a/67/4a/ad4082dd7dfc30f2abfe4d80a2ed5926a506eb8a972b4767fa\n",
            "Successfully built seqeval\n",
            "Installing collected packages: sentencepiece, tensorflow-model-optimization, tensorflow-estimator, portalocker, packaging, keras, jedi, immutabledict, colorama, sacrebleu, dp-accounting, watermark, seqeval, pmlb, tensorboard, tensorflow, tensorflow-text, tf-models-official, tensorflow-privacy\n",
            "  Attempting uninstall: tensorflow-estimator\n",
            "    Found existing installation: tensorflow-estimator 2.14.0\n",
            "    Uninstalling tensorflow-estimator-2.14.0:\n",
            "      Successfully uninstalled tensorflow-estimator-2.14.0\n",
            "  Attempting uninstall: packaging\n",
            "    Found existing installation: packaging 23.2\n",
            "    Uninstalling packaging-23.2:\n",
            "      Successfully uninstalled packaging-23.2\n",
            "  Attempting uninstall: keras\n",
            "    Found existing installation: keras 2.14.0\n",
            "    Uninstalling keras-2.14.0:\n",
            "      Successfully uninstalled keras-2.14.0\n",
            "  Attempting uninstall: tensorboard\n",
            "    Found existing installation: tensorboard 2.14.1\n",
            "    Uninstalling tensorboard-2.14.1:\n",
            "      Successfully uninstalled tensorboard-2.14.1\n",
            "  Attempting uninstall: tensorflow\n",
            "    Found existing installation: tensorflow 2.14.0\n",
            "    Uninstalling tensorflow-2.14.0:\n",
            "      Successfully uninstalled tensorflow-2.14.0\n",
            "\u001b[31mERROR: pip's dependency resolver does not currently take into account all the packages that are installed. This behaviour is the source of the following dependency conflicts.\n",
            "lida 0.0.10 requires fastapi, which is not installed.\n",
            "lida 0.0.10 requires kaleido, which is not installed.\n",
            "lida 0.0.10 requires python-multipart, which is not installed.\n",
            "lida 0.0.10 requires uvicorn, which is not installed.\n",
            "ydata-synthetic 0.0.0 requires kaggle==1.5.9, but you have kaggle 1.5.16 which is incompatible.\n",
            "ydata-synthetic 0.0.0 requires matplotlib==3.3.2, but you have matplotlib 3.7.1 which is incompatible.\n",
            "ydata-synthetic 0.0.0 requires numpy==1.17.4, but you have numpy 1.23.5 which is incompatible.\n",
            "ydata-synthetic 0.0.0 requires pandas==1.0.3, but you have pandas 1.5.3 which is incompatible.\n",
            "ydata-synthetic 0.0.0 requires scikit-learn==0.22.2, but you have scikit-learn 1.2.2 which is incompatible.\n",
            "ydata-synthetic 0.0.0 requires tensorflow==2.1.2, but you have tensorflow 2.15.0 which is incompatible.\n",
            "ydata-synthetic 0.0.0 requires tensorflow-privacy==0.5.1, but you have tensorflow-privacy 0.8.12 which is incompatible.\u001b[0m\u001b[31m\n",
            "\u001b[0mSuccessfully installed colorama-0.4.6 dp-accounting-0.4.3 immutabledict-2.2.5 jedi-0.19.1 keras-2.15.0 packaging-22.0 pmlb-1.0.1.post3 portalocker-2.8.2 sacrebleu-2.3.3 sentencepiece-0.1.99 seqeval-1.2.2 tensorboard-2.15.1 tensorflow-2.15.0 tensorflow-estimator-2.15.0 tensorflow-model-optimization-0.7.5 tensorflow-privacy-0.8.12 tensorflow-text-2.15.0 tf-models-official-2.15.0 watermark-2.4.3\n"
          ]
        }
      ]
    },
    {
      "cell_type": "code",
      "source": [
        "%load_ext watermark\n",
        "%watermark -p tensorflow,pandas -z -v -n -m -w"
      ],
      "metadata": {
        "colab": {
          "base_uri": "https://localhost:8080/"
        },
        "id": "iYVcErXgeav6",
        "outputId": "a29c5cbf-4a33-4701-a498-b16663b48bee"
      },
      "execution_count": null,
      "outputs": [
        {
          "output_type": "stream",
          "name": "stdout",
          "text": [
            "Python implementation: CPython\n",
            "Python version       : 3.10.12\n",
            "IPython version      : 7.34.0\n",
            "\n",
            "tensorflow: 2.15.0\n",
            "pandas    : 1.5.3\n",
            "\n",
            "Compiler    : GCC 11.4.0\n",
            "OS          : Linux\n",
            "Release     : 5.15.120+\n",
            "Machine     : x86_64\n",
            "Processor   : x86_64\n",
            "CPU cores   : 2\n",
            "Architecture: 64bit\n",
            "\n",
            "Watermark: 2.4.3\n",
            "\n"
          ]
        }
      ]
    },
    {
      "cell_type": "code",
      "source": [
        "import importlib\n",
        "import sys\n",
        "\n",
        "import pandas as pd\n",
        "import numpy as np\n",
        "import sklearn.cluster as cluster\n",
        "import matplotlib.pyplot as plt\n",
        "\n",
        "from ydata_synthetic.synthesizers import WGAN_GP\n",
        "from ydata_synthetic.preprocessing.credit_fraud import *"
      ],
      "metadata": {
        "id": "B9sQ_pqHexrk"
      },
      "execution_count": null,
      "outputs": []
    },
    {
      "cell_type": "code",
      "source": [
        "data = pd.read_csv('creditcard.csv', index_col=[0])"
      ],
      "metadata": {
        "id": "LQrvpkOFe6FZ"
      },
      "execution_count": null,
      "outputs": []
    },
    {
      "cell_type": "code",
      "source": [
        "label_cols = [ i for i in data.columns if 'Class' in i ]\n",
        "data_cols = [ i for i in data.columns if i not in label_cols ]\n",
        "\n",
        "print('Dataset columns: {}'.format(\", \".join(data_cols)))"
      ],
      "metadata": {
        "colab": {
          "base_uri": "https://localhost:8080/"
        },
        "id": "QPMWtJ84fD1S",
        "outputId": "5066e46c-bf01-459c-9ca8-1ebf6b73ef92"
      },
      "execution_count": null,
      "outputs": [
        {
          "output_type": "stream",
          "name": "stdout",
          "text": [
            "Dataset columns: V1, V2, V3, V4, V5, V6, V7, V8, V9, V10, V11, V12, V13, V14, V15, V16, V17, V18, V19, V20, V21, V22, V23, V24, V25, V26, V27, V28, Amount\n"
          ]
        }
      ]
    },
    {
      "cell_type": "code",
      "source": [
        "data = transformations(data)"
      ],
      "metadata": {
        "id": "rSAHoLC1fxqO"
      },
      "execution_count": null,
      "outputs": []
    },
    {
      "cell_type": "code",
      "source": [
        "train_data = data.loc[ data['Class']==1 ].copy()"
      ],
      "metadata": {
        "id": "VwXU6AUigAjz"
      },
      "execution_count": null,
      "outputs": []
    },
    {
      "cell_type": "code",
      "source": [
        "print(\"Dataset info: Number of records - {} Number of varibles - {}\".format(train_data.shape[0], train_data.shape[1]))"
      ],
      "metadata": {
        "colab": {
          "base_uri": "https://localhost:8080/"
        },
        "id": "2OA9_bLDgD0a",
        "outputId": "bf739bd2-0274-41f9-f5da-1e8683e81ed0"
      },
      "execution_count": null,
      "outputs": [
        {
          "output_type": "stream",
          "name": "stdout",
          "text": [
            "Dataset info: Number of records - 492 Number of varibles - 30\n"
          ]
        }
      ]
    },
    {
      "cell_type": "code",
      "source": [
        "algorithm = cluster.KMeans\n",
        "args, kwds = (), {'n_clusters':2, 'random_state':0}\n",
        "labels = algorithm(*args, **kwds).fit_predict(train_data[ data_cols ])\n",
        "\n",
        "print( pd.DataFrame( [ [np.sum(labels==i)] for i in np.unique(labels) ], columns=['count'], index=np.unique(labels) ) )\n",
        "\n",
        "fraud_w_classes = train_data.copy()\n",
        "fraud_w_classes['Class'] = labels"
      ],
      "metadata": {
        "colab": {
          "base_uri": "https://localhost:8080/"
        },
        "id": "QKKu0tUNgITr",
        "outputId": "84c758dd-1058-49e5-9537-4e4f89719973"
      },
      "execution_count": null,
      "outputs": [
        {
          "output_type": "stream",
          "name": "stderr",
          "text": [
            "/usr/local/lib/python3.10/dist-packages/sklearn/cluster/_kmeans.py:870: FutureWarning: The default value of `n_init` will change from 10 to 'auto' in 1.4. Set the value of `n_init` explicitly to suppress the warning\n",
            "  warnings.warn(\n"
          ]
        },
        {
          "output_type": "stream",
          "name": "stdout",
          "text": [
            "   count\n",
            "0    384\n",
            "1    108\n"
          ]
        }
      ]
    },
    {
      "cell_type": "code",
      "source": [
        "from sklearn.ensemble import RandomForestClassifier\n",
        "from sklearn.model_selection import StratifiedShuffleSplit\n",
        "sss_1 = StratifiedShuffleSplit(test_size=0.4, random_state=42)\n",
        "sss_2 = StratifiedShuffleSplit(test_size=0.5, random_state=42)\n",
        "data = pd.read_csv('creditcard.csv', index_col=[0])[data_cols + [\"Class\"]]\n",
        "#Before training the GAN do not forget to apply the required data transformations\n",
        "#To ease here we've applied a PowerTransformation\n",
        "data = transformations(data)\n",
        "data[\"Class\"].value_counts()"
      ],
      "metadata": {
        "colab": {
          "base_uri": "https://localhost:8080/"
        },
        "id": "RskaiuTcgQGy",
        "outputId": "83362982-3bec-4907-d63b-0421d6726ee6"
      },
      "execution_count": null,
      "outputs": [
        {
          "output_type": "execute_result",
          "data": {
            "text/plain": [
              "0    284315\n",
              "1       492\n",
              "Name: Class, dtype: int64"
            ]
          },
          "metadata": {},
          "execution_count": 14
        }
      ]
    },
    {
      "cell_type": "code",
      "source": [
        "sampled_data = pd.concat([data[data.Class == 1], data[data.Class==0].sample(20000)], axis=0)\n",
        "train_idx, test_idx = next(sss_1.split(sampled_data, sampled_data[\"Class\"]))\n",
        "X_train, X_test, y_train, y_test = sampled_data.iloc[train_idx][data_cols], sampled_data.iloc[test_idx][data_cols], sampled_data.iloc[train_idx][\"Class\"], sampled_data.iloc[test_idx][\"Class\"]\n",
        "valid_idx, test_idx = next(sss_2.split(X_test, y_test))\n",
        "X_valid, X_test, y_valid, y_test = X_test.iloc[valid_idx], X_test.iloc[test_idx], y_test.iloc[valid_idx], y_test.iloc[test_idx]\n",
        "X_train.shape, X_test.shape, X_valid.shape, y_train.shape, y_test.shape, y_valid.shape"
      ],
      "metadata": {
        "colab": {
          "base_uri": "https://localhost:8080/"
        },
        "id": "hvlJNWdHgZ8S",
        "outputId": "db2fcdd5-5351-4f4b-fd36-fe9cca43ccfc"
      },
      "execution_count": null,
      "outputs": [
        {
          "output_type": "execute_result",
          "data": {
            "text/plain": [
              "((12295, 29), (4099, 29), (4098, 29), (12295,), (4099,), (4098,))"
            ]
          },
          "metadata": {},
          "execution_count": 15
        }
      ]
    },
    {
      "cell_type": "code",
      "source": [
        "#Define the GAN and training parameters\n",
        "noise_dim = 32\n",
        "dim = 64\n",
        "batch_size = 192\n",
        "\n",
        "log_step = 100\n",
        "epochs = 1200+1\n",
        "learning_rate = 5e-4\n",
        "beta_1 = 0.5\n",
        "beta_2 = 0.9\n",
        "models_dir = './cache'\n",
        "\n",
        "gan_args = [batch_size, learning_rate, beta_1, beta_2, noise_dim, X_train.shape[1], dim]\n",
        "train_args = ['', epochs, log_step]\n",
        "train_samples = X_train[y_train==1].reset_index(drop=True)\n",
        "train_samples.shape"
      ],
      "metadata": {
        "colab": {
          "base_uri": "https://localhost:8080/"
        },
        "id": "xWovaswrgane",
        "outputId": "9c085c7e-694e-40b6-993a-18e082ab63f0"
      },
      "execution_count": null,
      "outputs": [
        {
          "output_type": "execute_result",
          "data": {
            "text/plain": [
              "(295, 29)"
            ]
          },
          "metadata": {},
          "execution_count": 16
        }
      ]
    },
    {
      "cell_type": "code",
      "source": [
        "#Training the GAN model chosen: Vanilla GAN, CGAN, DCGAN, etc.\n",
        "synthesizer = WGAN_GP(gan_args, n_critic=4)\n",
        "# Only generate fraud data\n",
        "synthesizer.train(train_samples, train_args)"
      ],
      "metadata": {
        "colab": {
          "base_uri": "https://localhost:8080/"
        },
        "id": "QhsrjUPSgfSh",
        "outputId": "3ef241b2-7ad0-4a31-d616-4b40f9dee794"
      },
      "execution_count": null,
      "outputs": [
        {
          "output_type": "stream",
          "name": "stderr",
          "text": [
            "  0%|          | 4/1201 [00:06<24:26,  1.22s/it]  "
          ]
        },
        {
          "output_type": "stream",
          "name": "stdout",
          "text": [
            "Iteration: 0 | disc_loss: 46.50120162963867 | gen_loss: -0.027190396562218666\n",
            "Iteration: 1 | disc_loss: 24.378257751464844 | gen_loss: 0.0007001140620559454\n",
            "Iteration: 2 | disc_loss: 16.059171676635742 | gen_loss: 0.007492891047149897\n",
            "Iteration: 3 | disc_loss: 9.05204963684082 | gen_loss: 0.014763069339096546\n",
            "Iteration: 4 | disc_loss: 6.269775867462158 | gen_loss: 0.019805526360869408\n"
          ]
        },
        {
          "output_type": "stream",
          "name": "stderr",
          "text": [
            "  1%|          | 11/1201 [00:06<06:04,  3.27it/s]"
          ]
        },
        {
          "output_type": "stream",
          "name": "stdout",
          "text": [
            "Iteration: 5 | disc_loss: 4.803416728973389 | gen_loss: 0.026349855586886406\n",
            "Iteration: 6 | disc_loss: 3.533897638320923 | gen_loss: 0.02541474439203739\n",
            "Iteration: 7 | disc_loss: 2.166443109512329 | gen_loss: 0.02746669203042984\n",
            "Iteration: 8 | disc_loss: 1.4808543920516968 | gen_loss: 0.030703725293278694\n",
            "Iteration: 9 | disc_loss: 0.8109647035598755 | gen_loss: 0.039315495640039444\n",
            "Iteration: 10 | disc_loss: 0.42773884534835815 | gen_loss: 0.040244586765766144\n",
            "Iteration: 11 | disc_loss: 0.12291625142097473 | gen_loss: 0.04550708457827568\n"
          ]
        },
        {
          "output_type": "stream",
          "name": "stderr",
          "text": [
            "  1%|▏         | 17/1201 [00:06<03:01,  6.53it/s]"
          ]
        },
        {
          "output_type": "stream",
          "name": "stdout",
          "text": [
            "Iteration: 12 | disc_loss: -0.0976516604423523 | gen_loss: 0.048906221985816956\n",
            "Iteration: 13 | disc_loss: -0.32454735040664673 | gen_loss: 0.05337406322360039\n",
            "Iteration: 14 | disc_loss: -0.4404999017715454 | gen_loss: 0.049550194293260574\n",
            "Iteration: 15 | disc_loss: -0.6156198978424072 | gen_loss: 0.048806533217430115\n",
            "Iteration: 16 | disc_loss: -0.7006855607032776 | gen_loss: 0.04833827540278435\n",
            "Iteration: 17 | disc_loss: -0.7087745666503906 | gen_loss: 0.054773617535829544\n"
          ]
        },
        {
          "output_type": "stream",
          "name": "stderr",
          "text": [
            "  2%|▏         | 25/1201 [00:07<01:33, 12.61it/s]"
          ]
        },
        {
          "output_type": "stream",
          "name": "stdout",
          "text": [
            "Iteration: 18 | disc_loss: -0.7971163988113403 | gen_loss: 0.044261518865823746\n",
            "Iteration: 19 | disc_loss: -0.9203855395317078 | gen_loss: 0.030301809310913086\n",
            "Iteration: 20 | disc_loss: -0.8889893293380737 | gen_loss: 0.042743682861328125\n",
            "Iteration: 21 | disc_loss: -0.8350300788879395 | gen_loss: 0.036454424262046814\n",
            "Iteration: 22 | disc_loss: -0.9679745435714722 | gen_loss: 0.05371186137199402\n",
            "Iteration: 23 | disc_loss: -0.9974746704101562 | gen_loss: 0.040797967463731766\n",
            "Iteration: 24 | disc_loss: -1.0561137199401855 | gen_loss: 0.017441729083657265\n"
          ]
        },
        {
          "output_type": "stream",
          "name": "stderr",
          "text": [
            "  3%|▎         | 32/1201 [00:07<01:04, 18.03it/s]"
          ]
        },
        {
          "output_type": "stream",
          "name": "stdout",
          "text": [
            "Iteration: 25 | disc_loss: -0.9534268379211426 | gen_loss: 0.0532677061855793\n",
            "Iteration: 26 | disc_loss: -1.0688471794128418 | gen_loss: 0.018493587151169777\n",
            "Iteration: 27 | disc_loss: -1.0467629432678223 | gen_loss: 0.00955047644674778\n",
            "Iteration: 28 | disc_loss: -1.046921968460083 | gen_loss: -0.03595244511961937\n",
            "Iteration: 29 | disc_loss: -1.0250225067138672 | gen_loss: -0.006215693429112434\n",
            "Iteration: 30 | disc_loss: -0.9376921653747559 | gen_loss: -0.057820629328489304\n",
            "Iteration: 31 | disc_loss: -1.0101450681686401 | gen_loss: -0.055635448545217514\n"
          ]
        },
        {
          "output_type": "stream",
          "name": "stderr",
          "text": [
            "  3%|▎         | 38/1201 [00:07<00:52, 21.98it/s]"
          ]
        },
        {
          "output_type": "stream",
          "name": "stdout",
          "text": [
            "Iteration: 32 | disc_loss: -0.9923239946365356 | gen_loss: -0.04899733141064644\n",
            "Iteration: 33 | disc_loss: -0.9375196695327759 | gen_loss: -0.08342482894659042\n",
            "Iteration: 34 | disc_loss: -0.9492990374565125 | gen_loss: -0.05728951469063759\n",
            "Iteration: 35 | disc_loss: -0.9155422449111938 | gen_loss: -0.08767015486955643\n",
            "Iteration: 36 | disc_loss: -0.8971402049064636 | gen_loss: -0.0669388696551323\n",
            "Iteration: 37 | disc_loss: -0.8382453918457031 | gen_loss: -0.08638507127761841\n",
            "Iteration: 38 | disc_loss: -0.8127779364585876 | gen_loss: -0.05726360157132149\n"
          ]
        },
        {
          "output_type": "stream",
          "name": "stderr",
          "text": [
            "  4%|▎         | 45/1201 [00:07<00:44, 25.79it/s]"
          ]
        },
        {
          "output_type": "stream",
          "name": "stdout",
          "text": [
            "Iteration: 39 | disc_loss: -0.7951859831809998 | gen_loss: -0.11904898285865784\n",
            "Iteration: 40 | disc_loss: -0.6779636144638062 | gen_loss: -0.037294600158929825\n",
            "Iteration: 41 | disc_loss: -0.7431400418281555 | gen_loss: -0.01288966927677393\n",
            "Iteration: 42 | disc_loss: -0.7273129820823669 | gen_loss: 0.00024070963263511658\n",
            "Iteration: 43 | disc_loss: -0.6840685606002808 | gen_loss: 0.020603617653250694\n",
            "Iteration: 44 | disc_loss: -0.7026228904724121 | gen_loss: 0.03825056552886963\n",
            "Iteration: 45 | disc_loss: -0.6963492631912231 | gen_loss: 0.01580248959362507\n"
          ]
        },
        {
          "output_type": "stream",
          "name": "stderr",
          "text": [
            "  4%|▍         | 51/1201 [00:07<00:41, 27.63it/s]"
          ]
        },
        {
          "output_type": "stream",
          "name": "stdout",
          "text": [
            "Iteration: 46 | disc_loss: -0.7019078731536865 | gen_loss: 0.04318259283900261\n",
            "Iteration: 47 | disc_loss: -0.6759072542190552 | gen_loss: 0.059604715555906296\n",
            "Iteration: 48 | disc_loss: -0.7280899286270142 | gen_loss: 0.05667327344417572\n",
            "Iteration: 49 | disc_loss: -0.7129077315330505 | gen_loss: 0.06888614594936371\n",
            "Iteration: 50 | disc_loss: -0.6813597679138184 | gen_loss: 0.16033999621868134\n",
            "Iteration: 51 | disc_loss: -0.6989586353302002 | gen_loss: 0.07870405167341232\n",
            "Iteration: 52 | disc_loss: -0.7107453942298889 | gen_loss: 0.15427449345588684\n"
          ]
        },
        {
          "output_type": "stream",
          "name": "stderr",
          "text": [
            "  5%|▍         | 59/1201 [00:08<00:38, 29.62it/s]"
          ]
        },
        {
          "output_type": "stream",
          "name": "stdout",
          "text": [
            "Iteration: 53 | disc_loss: -0.6681318879127502 | gen_loss: 0.13126058876514435\n",
            "Iteration: 54 | disc_loss: -0.6314982175827026 | gen_loss: 0.16125896573066711\n",
            "Iteration: 55 | disc_loss: -0.629162609577179 | gen_loss: 0.13746774196624756\n",
            "Iteration: 56 | disc_loss: -0.6679707169532776 | gen_loss: 0.06565436720848083\n",
            "Iteration: 57 | disc_loss: -0.6941394805908203 | gen_loss: 0.1204843819141388\n",
            "Iteration: 58 | disc_loss: -0.6969810724258423 | gen_loss: 0.12348709255456924\n",
            "Iteration: 59 | disc_loss: -0.7084516286849976 | gen_loss: 0.1201569065451622\n"
          ]
        },
        {
          "output_type": "stream",
          "name": "stderr",
          "text": [
            "\r  5%|▌         | 63/1201 [00:08<00:38, 29.86it/s]"
          ]
        },
        {
          "output_type": "stream",
          "name": "stdout",
          "text": [
            "Iteration: 60 | disc_loss: -0.7000522017478943 | gen_loss: 0.12331870943307877\n",
            "Iteration: 61 | disc_loss: -0.665965735912323 | gen_loss: 0.1390596479177475\n",
            "Iteration: 62 | disc_loss: -0.6802711486816406 | gen_loss: 0.2633382976055145\n",
            "Iteration: 63 | disc_loss: -0.6377975940704346 | gen_loss: 0.0579390712082386\n",
            "Iteration: 64 | disc_loss: -0.7019315361976624 | gen_loss: 0.07877912372350693\n",
            "Iteration: 65 | disc_loss: -0.720295786857605 | gen_loss: 0.08927219361066818\n"
          ]
        },
        {
          "output_type": "stream",
          "name": "stderr",
          "text": [
            "  6%|▌         | 70/1201 [00:08<00:39, 28.43it/s]"
          ]
        },
        {
          "output_type": "stream",
          "name": "stdout",
          "text": [
            "Iteration: 66 | disc_loss: -0.6962921619415283 | gen_loss: 0.16504409909248352\n",
            "Iteration: 67 | disc_loss: -0.7471622228622437 | gen_loss: 0.07431437075138092\n",
            "Iteration: 68 | disc_loss: -0.5431321859359741 | gen_loss: 0.16046565771102905\n",
            "Iteration: 69 | disc_loss: -0.7048702836036682 | gen_loss: 0.10548633337020874\n",
            "Iteration: 70 | disc_loss: -0.7000631093978882 | gen_loss: 0.08333320170640945\n",
            "Iteration: 71 | disc_loss: -0.7281289100646973 | gen_loss: 0.04410905763506889\n"
          ]
        },
        {
          "output_type": "stream",
          "name": "stderr",
          "text": [
            "  6%|▋         | 76/1201 [00:08<00:39, 28.50it/s]"
          ]
        },
        {
          "output_type": "stream",
          "name": "stdout",
          "text": [
            "Iteration: 72 | disc_loss: -0.7066141963005066 | gen_loss: 0.11890725046396255\n",
            "Iteration: 73 | disc_loss: -0.6507278680801392 | gen_loss: 0.08703089505434036\n",
            "Iteration: 74 | disc_loss: -0.698453426361084 | gen_loss: 0.07744903117418289\n",
            "Iteration: 75 | disc_loss: -0.6779161691665649 | gen_loss: 0.22718612849712372\n",
            "Iteration: 76 | disc_loss: -0.707882821559906 | gen_loss: 0.11891362816095352\n",
            "Iteration: 77 | disc_loss: -0.6396491527557373 | gen_loss: 0.13722391426563263\n"
          ]
        },
        {
          "output_type": "stream",
          "name": "stderr",
          "text": [
            "  7%|▋         | 84/1201 [00:09<00:37, 29.70it/s]"
          ]
        },
        {
          "output_type": "stream",
          "name": "stdout",
          "text": [
            "Iteration: 78 | disc_loss: -0.6761101484298706 | gen_loss: 0.11188822239637375\n",
            "Iteration: 79 | disc_loss: -0.706560492515564 | gen_loss: 0.010897054336965084\n",
            "Iteration: 80 | disc_loss: -0.6744558811187744 | gen_loss: 0.12305539846420288\n",
            "Iteration: 81 | disc_loss: -0.6633824706077576 | gen_loss: 0.09147991985082626\n",
            "Iteration: 82 | disc_loss: -0.6975424289703369 | gen_loss: 0.13742771744728088\n",
            "Iteration: 83 | disc_loss: -0.7100456953048706 | gen_loss: 0.1318175494670868\n",
            "Iteration: 84 | disc_loss: -0.7187238931655884 | gen_loss: 0.09670952707529068\n"
          ]
        },
        {
          "output_type": "stream",
          "name": "stderr",
          "text": [
            "  8%|▊         | 91/1201 [00:09<00:37, 29.51it/s]"
          ]
        },
        {
          "output_type": "stream",
          "name": "stdout",
          "text": [
            "Iteration: 85 | disc_loss: -0.6657134294509888 | gen_loss: 0.12403149157762527\n",
            "Iteration: 86 | disc_loss: -0.6127460598945618 | gen_loss: 0.09722209721803665\n",
            "Iteration: 87 | disc_loss: -0.6752130389213562 | gen_loss: -0.05558326467871666\n",
            "Iteration: 88 | disc_loss: -0.6396806836128235 | gen_loss: 0.04228216037154198\n",
            "Iteration: 89 | disc_loss: -0.6600552797317505 | gen_loss: 0.07065167278051376\n",
            "Iteration: 90 | disc_loss: -0.6872053742408752 | gen_loss: -0.041204776614904404\n",
            "Iteration: 91 | disc_loss: -0.6657175421714783 | gen_loss: 0.11576255410909653\n"
          ]
        },
        {
          "output_type": "stream",
          "name": "stderr",
          "text": [
            "  8%|▊         | 98/1201 [00:09<00:37, 29.09it/s]"
          ]
        },
        {
          "output_type": "stream",
          "name": "stdout",
          "text": [
            "Iteration: 92 | disc_loss: -0.6693941950798035 | gen_loss: 0.06955914944410324\n",
            "Iteration: 93 | disc_loss: -0.6835435032844543 | gen_loss: 0.3206234872341156\n",
            "Iteration: 94 | disc_loss: -0.6813711524009705 | gen_loss: 0.20240418612957\n",
            "Iteration: 95 | disc_loss: -0.6232210397720337 | gen_loss: 0.17842619121074677\n",
            "Iteration: 96 | disc_loss: -0.6637161374092102 | gen_loss: 0.14731091260910034\n",
            "Iteration: 97 | disc_loss: -0.6429986953735352 | gen_loss: -0.013214264996349812\n"
          ]
        },
        {
          "output_type": "stream",
          "name": "stderr",
          "text": [
            "  9%|▊         | 104/1201 [00:09<00:39, 27.44it/s]"
          ]
        },
        {
          "output_type": "stream",
          "name": "stdout",
          "text": [
            "Iteration: 98 | disc_loss: -0.6094315648078918 | gen_loss: 0.03005639649927616\n",
            "Iteration: 99 | disc_loss: -0.6665341258049011 | gen_loss: -0.04125339910387993\n",
            "Iteration: 100 | disc_loss: -0.6274177432060242 | gen_loss: 0.07460949569940567\n",
            "Iteration: 101 | disc_loss: -0.6762220859527588 | gen_loss: 0.021109456196427345\n",
            "Iteration: 102 | disc_loss: -0.629610002040863 | gen_loss: 0.13308198750019073\n",
            "Iteration: 103 | disc_loss: -0.6610872149467468 | gen_loss: 0.2720172703266144\n"
          ]
        },
        {
          "output_type": "stream",
          "name": "stderr",
          "text": [
            "  9%|▉         | 111/1201 [00:10<00:37, 29.41it/s]"
          ]
        },
        {
          "output_type": "stream",
          "name": "stdout",
          "text": [
            "Iteration: 104 | disc_loss: -0.6629818677902222 | gen_loss: 0.09330672025680542\n",
            "Iteration: 105 | disc_loss: -0.6783849000930786 | gen_loss: -0.0787675753235817\n",
            "Iteration: 106 | disc_loss: -0.6262212991714478 | gen_loss: 0.07822171598672867\n",
            "Iteration: 107 | disc_loss: -0.6752555966377258 | gen_loss: 0.026424169540405273\n",
            "Iteration: 108 | disc_loss: -0.6999329328536987 | gen_loss: -0.007400350645184517\n",
            "Iteration: 109 | disc_loss: -0.6741726994514465 | gen_loss: 0.12366747111082077\n",
            "Iteration: 110 | disc_loss: -0.663192093372345 | gen_loss: 0.103080153465271\n"
          ]
        },
        {
          "output_type": "stream",
          "name": "stderr",
          "text": [
            "\r 10%|▉         | 115/1201 [00:10<00:36, 30.07it/s]"
          ]
        },
        {
          "output_type": "stream",
          "name": "stdout",
          "text": [
            "Iteration: 111 | disc_loss: -0.6626120805740356 | gen_loss: 0.11296846717596054\n",
            "Iteration: 112 | disc_loss: -0.6743998527526855 | gen_loss: 0.07116585969924927\n",
            "Iteration: 113 | disc_loss: -0.6363682150840759 | gen_loss: 0.1751352995634079\n",
            "Iteration: 114 | disc_loss: -0.6717469692230225 | gen_loss: 0.2494366616010666\n",
            "Iteration: 115 | disc_loss: -0.6538203954696655 | gen_loss: 0.11601153016090393\n",
            "Iteration: 116 | disc_loss: -0.5865221619606018 | gen_loss: 0.17148326337337494\n",
            "Iteration: 117 | disc_loss: -0.6490409970283508 | gen_loss: 0.16402404010295868\n"
          ]
        },
        {
          "output_type": "stream",
          "name": "stderr",
          "text": [
            " 10%|█         | 123/1201 [00:10<00:36, 29.56it/s]"
          ]
        },
        {
          "output_type": "stream",
          "name": "stdout",
          "text": [
            "Iteration: 118 | disc_loss: -0.6535247564315796 | gen_loss: 0.15515965223312378\n",
            "Iteration: 119 | disc_loss: -0.6514357924461365 | gen_loss: 0.16524207592010498\n",
            "Iteration: 120 | disc_loss: -0.6553343534469604 | gen_loss: -0.06347634643316269\n",
            "Iteration: 121 | disc_loss: -0.6171628832817078 | gen_loss: 0.16166983544826508\n",
            "Iteration: 122 | disc_loss: -0.6502308249473572 | gen_loss: 0.0034816141705960035\n",
            "Iteration: 123 | disc_loss: -0.6568731069564819 | gen_loss: 0.08057388663291931\n"
          ]
        },
        {
          "output_type": "stream",
          "name": "stderr",
          "text": [
            " 11%|█         | 130/1201 [00:10<00:35, 30.24it/s]"
          ]
        },
        {
          "output_type": "stream",
          "name": "stdout",
          "text": [
            "Iteration: 124 | disc_loss: -0.6125235557556152 | gen_loss: 0.1618705838918686\n",
            "Iteration: 125 | disc_loss: -0.6276749968528748 | gen_loss: 0.0802903100848198\n",
            "Iteration: 126 | disc_loss: -0.603785514831543 | gen_loss: 0.02072976343333721\n",
            "Iteration: 127 | disc_loss: -0.5719794034957886 | gen_loss: 0.07414766401052475\n",
            "Iteration: 128 | disc_loss: -0.6578071713447571 | gen_loss: -0.004196390509605408\n",
            "Iteration: 129 | disc_loss: -0.6409174799919128 | gen_loss: 0.00011996800458291546\n",
            "Iteration: 130 | disc_loss: -0.5830388069152832 | gen_loss: 0.11597856134176254\n"
          ]
        },
        {
          "output_type": "stream",
          "name": "stderr",
          "text": [
            " 11%|█▏        | 137/1201 [00:10<00:36, 29.44it/s]"
          ]
        },
        {
          "output_type": "stream",
          "name": "stdout",
          "text": [
            "Iteration: 131 | disc_loss: -0.6169042587280273 | gen_loss: -0.002674594521522522\n",
            "Iteration: 132 | disc_loss: -0.6201287508010864 | gen_loss: -0.07660236954689026\n",
            "Iteration: 133 | disc_loss: -0.5642322301864624 | gen_loss: 0.047908201813697815\n",
            "Iteration: 134 | disc_loss: -0.596871554851532 | gen_loss: 0.08473554998636246\n",
            "Iteration: 135 | disc_loss: -0.5644251108169556 | gen_loss: 0.016652099788188934\n",
            "Iteration: 136 | disc_loss: -0.6030964255332947 | gen_loss: -0.02432926557958126\n"
          ]
        },
        {
          "output_type": "stream",
          "name": "stderr",
          "text": [
            "\r 12%|█▏        | 141/1201 [00:11<00:35, 30.03it/s]"
          ]
        },
        {
          "output_type": "stream",
          "name": "stdout",
          "text": [
            "Iteration: 137 | disc_loss: -0.619515597820282 | gen_loss: -0.07075183838605881\n",
            "Iteration: 138 | disc_loss: -0.6027283668518066 | gen_loss: -0.18765218555927277\n",
            "Iteration: 139 | disc_loss: -0.5614583492279053 | gen_loss: 0.08178213983774185\n",
            "Iteration: 140 | disc_loss: -0.5744774341583252 | gen_loss: 0.05019824579358101\n",
            "Iteration: 141 | disc_loss: -0.6126776337623596 | gen_loss: 0.02217254973948002\n",
            "Iteration: 142 | disc_loss: -0.582714319229126 | gen_loss: 0.015758683905005455\n",
            "Iteration: 143 | disc_loss: -0.5749265551567078 | gen_loss: -0.09834619611501694\n"
          ]
        },
        {
          "output_type": "stream",
          "name": "stderr",
          "text": [
            " 12%|█▏        | 149/1201 [00:11<00:34, 30.56it/s]"
          ]
        },
        {
          "output_type": "stream",
          "name": "stdout",
          "text": [
            "Iteration: 144 | disc_loss: -0.5377628803253174 | gen_loss: -0.10011857002973557\n",
            "Iteration: 145 | disc_loss: -0.580621063709259 | gen_loss: -0.13798804581165314\n",
            "Iteration: 146 | disc_loss: -0.5156145095825195 | gen_loss: -0.13233453035354614\n",
            "Iteration: 147 | disc_loss: -0.5750804543495178 | gen_loss: -0.06513497978448868\n",
            "Iteration: 148 | disc_loss: -0.5355150699615479 | gen_loss: -0.043853044509887695\n",
            "Iteration: 149 | disc_loss: -0.5649477243423462 | gen_loss: -0.057597529143095016\n",
            "Iteration: 150 | disc_loss: -0.5879759192466736 | gen_loss: -0.011445327661931515\n"
          ]
        },
        {
          "output_type": "stream",
          "name": "stderr",
          "text": [
            " 13%|█▎        | 157/1201 [00:11<00:36, 28.92it/s]"
          ]
        },
        {
          "output_type": "stream",
          "name": "stdout",
          "text": [
            "Iteration: 151 | disc_loss: -0.5603135824203491 | gen_loss: -0.02489328570663929\n",
            "Iteration: 152 | disc_loss: -0.5274391174316406 | gen_loss: -0.10991094261407852\n",
            "Iteration: 153 | disc_loss: -0.521353006362915 | gen_loss: 0.0162274818867445\n",
            "Iteration: 154 | disc_loss: -0.5316370725631714 | gen_loss: -0.1938292384147644\n",
            "Iteration: 155 | disc_loss: -0.49555668234825134 | gen_loss: -0.018284348770976067\n",
            "Iteration: 156 | disc_loss: -0.5233089327812195 | gen_loss: 0.06186452507972717\n"
          ]
        },
        {
          "output_type": "stream",
          "name": "stderr",
          "text": [
            " 14%|█▎        | 163/1201 [00:11<00:35, 29.10it/s]"
          ]
        },
        {
          "output_type": "stream",
          "name": "stdout",
          "text": [
            "Iteration: 157 | disc_loss: -0.5103495121002197 | gen_loss: -0.04505010321736336\n",
            "Iteration: 158 | disc_loss: -0.4802013337612152 | gen_loss: 0.020425943657755852\n",
            "Iteration: 159 | disc_loss: -0.5048088431358337 | gen_loss: -0.07767180353403091\n",
            "Iteration: 160 | disc_loss: -0.5083646774291992 | gen_loss: -0.10543298721313477\n",
            "Iteration: 161 | disc_loss: -0.5145425796508789 | gen_loss: -0.12467081099748611\n",
            "Iteration: 162 | disc_loss: -0.5462585091590881 | gen_loss: 0.014901177026331425\n",
            "Iteration: 163 | disc_loss: -0.5153401494026184 | gen_loss: 0.061746012419462204\n"
          ]
        },
        {
          "output_type": "stream",
          "name": "stderr",
          "text": [
            " 14%|█▍        | 170/1201 [00:12<00:34, 29.68it/s]"
          ]
        },
        {
          "output_type": "stream",
          "name": "stdout",
          "text": [
            "Iteration: 164 | disc_loss: -0.5183327794075012 | gen_loss: 0.04407370090484619\n",
            "Iteration: 165 | disc_loss: -0.48251959681510925 | gen_loss: -0.015351626090705395\n",
            "Iteration: 166 | disc_loss: -0.5337870717048645 | gen_loss: -0.01483138557523489\n",
            "Iteration: 167 | disc_loss: -0.5404600501060486 | gen_loss: -0.06068086624145508\n",
            "Iteration: 168 | disc_loss: -0.5473410487174988 | gen_loss: -0.12023357301950455\n",
            "Iteration: 169 | disc_loss: -0.5543199181556702 | gen_loss: -0.17950749397277832\n",
            "Iteration: 170 | disc_loss: -0.45595210790634155 | gen_loss: -0.07448812574148178\n"
          ]
        },
        {
          "output_type": "stream",
          "name": "stderr",
          "text": [
            " 15%|█▍        | 177/1201 [00:12<00:34, 29.96it/s]"
          ]
        },
        {
          "output_type": "stream",
          "name": "stdout",
          "text": [
            "Iteration: 171 | disc_loss: -0.5113655924797058 | gen_loss: 0.004978108685463667\n",
            "Iteration: 172 | disc_loss: -0.5345671772956848 | gen_loss: 0.18289022147655487\n",
            "Iteration: 173 | disc_loss: -0.5261234045028687 | gen_loss: 0.188581645488739\n",
            "Iteration: 174 | disc_loss: -0.5010133981704712 | gen_loss: 0.02897031046450138\n",
            "Iteration: 175 | disc_loss: -0.514981210231781 | gen_loss: -0.09020862728357315\n",
            "Iteration: 176 | disc_loss: -0.511276125907898 | gen_loss: -0.13651424646377563\n",
            "Iteration: 177 | disc_loss: -0.5312942266464233 | gen_loss: -0.07821551710367203\n"
          ]
        },
        {
          "output_type": "stream",
          "name": "stderr",
          "text": [
            " 15%|█▌        | 184/1201 [00:12<00:34, 29.22it/s]"
          ]
        },
        {
          "output_type": "stream",
          "name": "stdout",
          "text": [
            "Iteration: 178 | disc_loss: -0.5379431247711182 | gen_loss: 0.10306204110383987\n",
            "Iteration: 179 | disc_loss: -0.5181971192359924 | gen_loss: 0.15592622756958008\n",
            "Iteration: 180 | disc_loss: -0.5000783801078796 | gen_loss: 0.03602547571063042\n",
            "Iteration: 181 | disc_loss: -0.4954560399055481 | gen_loss: -0.03137435019016266\n",
            "Iteration: 182 | disc_loss: -0.5602136850357056 | gen_loss: -0.07708905637264252\n",
            "Iteration: 183 | disc_loss: -0.5172816514968872 | gen_loss: 0.033186640590429306\n"
          ]
        },
        {
          "output_type": "stream",
          "name": "stderr",
          "text": [
            "\r 16%|█▌        | 188/1201 [00:12<00:34, 29.70it/s]"
          ]
        },
        {
          "output_type": "stream",
          "name": "stdout",
          "text": [
            "Iteration: 184 | disc_loss: -0.4503153860569 | gen_loss: -0.04283895716071129\n",
            "Iteration: 185 | disc_loss: -0.5244141817092896 | gen_loss: 0.02702593058347702\n",
            "Iteration: 186 | disc_loss: -0.5357699990272522 | gen_loss: 0.07858075946569443\n",
            "Iteration: 187 | disc_loss: -0.49987849593162537 | gen_loss: 0.09599631279706955\n",
            "Iteration: 188 | disc_loss: -0.5045568943023682 | gen_loss: -0.02254955656826496\n",
            "Iteration: 189 | disc_loss: -0.47957226634025574 | gen_loss: -0.0391807034611702\n",
            "Iteration: 190 | disc_loss: -0.49237310886383057 | gen_loss: -0.07192058116197586\n"
          ]
        },
        {
          "output_type": "stream",
          "name": "stderr",
          "text": [
            " 16%|█▌        | 195/1201 [00:12<00:34, 29.31it/s]"
          ]
        },
        {
          "output_type": "stream",
          "name": "stdout",
          "text": [
            "Iteration: 191 | disc_loss: -0.49151304364204407 | gen_loss: 0.09449154138565063\n",
            "Iteration: 192 | disc_loss: -0.5091811418533325 | gen_loss: 0.0434681661427021\n",
            "Iteration: 193 | disc_loss: -0.4962676465511322 | gen_loss: 0.08199445903301239\n",
            "Iteration: 194 | disc_loss: -0.5001359581947327 | gen_loss: 0.00507211871445179\n",
            "Iteration: 195 | disc_loss: -0.5290475487709045 | gen_loss: -0.059560272842645645\n",
            "Iteration: 196 | disc_loss: -0.5526880621910095 | gen_loss: -0.030125154182314873\n"
          ]
        },
        {
          "output_type": "stream",
          "name": "stderr",
          "text": [
            " 17%|█▋        | 201/1201 [00:13<00:36, 27.12it/s]"
          ]
        },
        {
          "output_type": "stream",
          "name": "stdout",
          "text": [
            "Iteration: 197 | disc_loss: -0.5198107957839966 | gen_loss: -0.15406382083892822\n",
            "Iteration: 198 | disc_loss: -0.47690731287002563 | gen_loss: 0.01810481958091259\n",
            "Iteration: 199 | disc_loss: -0.5143777132034302 | gen_loss: 0.10344920307397842\n",
            "Iteration: 200 | disc_loss: -0.4906004071235657 | gen_loss: 0.108723483979702\n",
            "Iteration: 201 | disc_loss: -0.5205782055854797 | gen_loss: 0.20214076340198517\n",
            "Iteration: 202 | disc_loss: -0.4916939437389374 | gen_loss: 0.026993250474333763\n"
          ]
        },
        {
          "output_type": "stream",
          "name": "stderr",
          "text": [
            " 17%|█▋        | 209/1201 [00:13<00:34, 28.94it/s]"
          ]
        },
        {
          "output_type": "stream",
          "name": "stdout",
          "text": [
            "Iteration: 203 | disc_loss: -0.28235334157943726 | gen_loss: 0.03992803767323494\n",
            "Iteration: 204 | disc_loss: -0.5179088115692139 | gen_loss: -0.04133158177137375\n",
            "Iteration: 205 | disc_loss: -0.5267260074615479 | gen_loss: -0.02507857419550419\n",
            "Iteration: 206 | disc_loss: -0.515567421913147 | gen_loss: -0.10727190226316452\n",
            "Iteration: 207 | disc_loss: -0.48830705881118774 | gen_loss: 0.06741046905517578\n",
            "Iteration: 208 | disc_loss: -0.5121480822563171 | gen_loss: 0.12752175331115723\n",
            "Iteration: 209 | disc_loss: -0.48459795117378235 | gen_loss: 0.1898149698972702\n"
          ]
        },
        {
          "output_type": "stream",
          "name": "stderr",
          "text": [
            " 18%|█▊        | 215/1201 [00:13<00:35, 28.05it/s]"
          ]
        },
        {
          "output_type": "stream",
          "name": "stdout",
          "text": [
            "Iteration: 210 | disc_loss: -0.5304920673370361 | gen_loss: 0.10363781452178955\n",
            "Iteration: 211 | disc_loss: -0.49116751551628113 | gen_loss: 0.018491918221116066\n",
            "Iteration: 212 | disc_loss: -0.4900501072406769 | gen_loss: 0.05659724399447441\n",
            "Iteration: 213 | disc_loss: -0.5403259992599487 | gen_loss: -0.01542721688747406\n",
            "Iteration: 214 | disc_loss: -0.4712896943092346 | gen_loss: 0.04680319130420685\n",
            "Iteration: 215 | disc_loss: -0.49399101734161377 | gen_loss: 0.03975522890686989\n"
          ]
        },
        {
          "output_type": "stream",
          "name": "stderr",
          "text": [
            " 18%|█▊        | 221/1201 [00:13<00:34, 28.33it/s]"
          ]
        },
        {
          "output_type": "stream",
          "name": "stdout",
          "text": [
            "Iteration: 216 | disc_loss: -0.5191004276275635 | gen_loss: -0.00664815679192543\n",
            "Iteration: 217 | disc_loss: -0.5124017000198364 | gen_loss: 0.0964052751660347\n",
            "Iteration: 218 | disc_loss: -0.5119870901107788 | gen_loss: 0.06966788321733475\n",
            "Iteration: 219 | disc_loss: -0.47848477959632874 | gen_loss: 0.16164205968379974\n",
            "Iteration: 220 | disc_loss: -0.5109131932258606 | gen_loss: 0.046974655240774155\n",
            "Iteration: 221 | disc_loss: -0.511391818523407 | gen_loss: -0.030338356271386147\n"
          ]
        },
        {
          "output_type": "stream",
          "name": "stderr",
          "text": [
            " 19%|█▉        | 228/1201 [00:14<00:32, 29.77it/s]"
          ]
        },
        {
          "output_type": "stream",
          "name": "stdout",
          "text": [
            "Iteration: 222 | disc_loss: -0.4970340132713318 | gen_loss: 0.07792089879512787\n",
            "Iteration: 223 | disc_loss: -0.5133854150772095 | gen_loss: 0.07983497530221939\n",
            "Iteration: 224 | disc_loss: -0.45590782165527344 | gen_loss: 0.14791087806224823\n",
            "Iteration: 225 | disc_loss: -0.4956895709037781 | gen_loss: 0.008558405563235283\n",
            "Iteration: 226 | disc_loss: -0.48847195506095886 | gen_loss: 0.06034064292907715\n",
            "Iteration: 227 | disc_loss: -0.5099932551383972 | gen_loss: -0.014279169030487537\n",
            "Iteration: 228 | disc_loss: -0.5232726335525513 | gen_loss: 0.06166223809123039\n"
          ]
        },
        {
          "output_type": "stream",
          "name": "stderr",
          "text": [
            " 20%|█▉        | 236/1201 [00:14<00:32, 29.92it/s]"
          ]
        },
        {
          "output_type": "stream",
          "name": "stdout",
          "text": [
            "Iteration: 229 | disc_loss: -0.5348847508430481 | gen_loss: -0.00026962533593177795\n",
            "Iteration: 230 | disc_loss: -0.5005433559417725 | gen_loss: 0.20291884243488312\n",
            "Iteration: 231 | disc_loss: -0.49854952096939087 | gen_loss: 0.03522726520895958\n",
            "Iteration: 232 | disc_loss: -0.5250535607337952 | gen_loss: 0.051097720861434937\n",
            "Iteration: 233 | disc_loss: -0.501712441444397 | gen_loss: 0.04909738898277283\n",
            "Iteration: 234 | disc_loss: -0.5317112803459167 | gen_loss: 0.0837940201163292\n",
            "Iteration: 235 | disc_loss: -0.5027419328689575 | gen_loss: 0.03302042558789253\n"
          ]
        },
        {
          "output_type": "stream",
          "name": "stderr",
          "text": [
            " 20%|██        | 243/1201 [00:14<00:31, 30.19it/s]"
          ]
        },
        {
          "output_type": "stream",
          "name": "stdout",
          "text": [
            "Iteration: 236 | disc_loss: -0.4510098695755005 | gen_loss: 0.04043949022889137\n",
            "Iteration: 237 | disc_loss: -0.5080768465995789 | gen_loss: 0.03617837652564049\n",
            "Iteration: 238 | disc_loss: -0.4451032876968384 | gen_loss: 0.01166508812457323\n",
            "Iteration: 239 | disc_loss: -0.5271437764167786 | gen_loss: 0.08504227548837662\n",
            "Iteration: 240 | disc_loss: -0.5237836837768555 | gen_loss: -0.0019297230755910277\n",
            "Iteration: 241 | disc_loss: -0.5373825430870056 | gen_loss: 0.08745041489601135\n",
            "Iteration: 242 | disc_loss: -0.5193986892700195 | gen_loss: 0.041642483323812485\n"
          ]
        },
        {
          "output_type": "stream",
          "name": "stderr",
          "text": [
            " 21%|██        | 250/1201 [00:14<00:32, 29.59it/s]"
          ]
        },
        {
          "output_type": "stream",
          "name": "stdout",
          "text": [
            "Iteration: 243 | disc_loss: -0.5199845433235168 | gen_loss: -0.043504778295755386\n",
            "Iteration: 244 | disc_loss: -0.533970832824707 | gen_loss: 0.17924277484416962\n",
            "Iteration: 245 | disc_loss: -0.5061931014060974 | gen_loss: 0.1426345854997635\n",
            "Iteration: 246 | disc_loss: -0.5443109273910522 | gen_loss: 0.16570797562599182\n",
            "Iteration: 247 | disc_loss: -0.5153368711471558 | gen_loss: -0.0008320212364196777\n",
            "Iteration: 248 | disc_loss: -0.5161001086235046 | gen_loss: -0.014813538640737534\n",
            "Iteration: 249 | disc_loss: -0.47714707255363464 | gen_loss: -0.06236237287521362\n"
          ]
        },
        {
          "output_type": "stream",
          "name": "stderr",
          "text": [
            " 21%|██▏       | 256/1201 [00:15<00:32, 29.19it/s]"
          ]
        },
        {
          "output_type": "stream",
          "name": "stdout",
          "text": [
            "Iteration: 250 | disc_loss: -0.520905613899231 | gen_loss: -0.06656385213136673\n",
            "Iteration: 251 | disc_loss: -0.5088385343551636 | gen_loss: 0.05870905518531799\n",
            "Iteration: 252 | disc_loss: -0.5306473970413208 | gen_loss: 0.1367771029472351\n",
            "Iteration: 253 | disc_loss: -0.5094079375267029 | gen_loss: 0.2149505615234375\n",
            "Iteration: 254 | disc_loss: -0.49095618724823 | gen_loss: 0.008584343828260899\n",
            "Iteration: 255 | disc_loss: -0.47215113043785095 | gen_loss: -0.050188761204481125\n"
          ]
        },
        {
          "output_type": "stream",
          "name": "stderr",
          "text": [
            "\r 22%|██▏       | 260/1201 [00:15<00:31, 29.99it/s]"
          ]
        },
        {
          "output_type": "stream",
          "name": "stdout",
          "text": [
            "Iteration: 256 | disc_loss: -0.49836158752441406 | gen_loss: -0.05028155818581581\n",
            "Iteration: 257 | disc_loss: -0.48777562379837036 | gen_loss: 0.038546185940504074\n",
            "Iteration: 258 | disc_loss: -0.4692629277706146 | gen_loss: 0.09719523787498474\n",
            "Iteration: 259 | disc_loss: -0.5121299028396606 | gen_loss: 0.04762279987335205\n",
            "Iteration: 260 | disc_loss: -0.5186656713485718 | gen_loss: 0.04420432448387146\n",
            "Iteration: 261 | disc_loss: -0.5075744986534119 | gen_loss: -0.0033063709270209074\n",
            "Iteration: 262 | disc_loss: -0.5191015601158142 | gen_loss: 0.17307205498218536\n"
          ]
        },
        {
          "output_type": "stream",
          "name": "stderr",
          "text": [
            " 22%|██▏       | 268/1201 [00:15<00:34, 26.94it/s]"
          ]
        },
        {
          "output_type": "stream",
          "name": "stdout",
          "text": [
            "Iteration: 263 | disc_loss: -0.49553048610687256 | gen_loss: 0.11893761157989502\n",
            "Iteration: 264 | disc_loss: -0.5045142769813538 | gen_loss: 0.05878352001309395\n",
            "Iteration: 265 | disc_loss: -0.4397079646587372 | gen_loss: 0.02340894192457199\n",
            "Iteration: 266 | disc_loss: -0.4875110685825348 | gen_loss: 0.06646331399679184\n",
            "Iteration: 267 | disc_loss: -0.4908520579338074 | gen_loss: -0.025558317080140114\n"
          ]
        },
        {
          "output_type": "stream",
          "name": "stderr",
          "text": [
            "\r 23%|██▎       | 271/1201 [00:15<00:38, 24.29it/s]"
          ]
        },
        {
          "output_type": "stream",
          "name": "stdout",
          "text": [
            "Iteration: 268 | disc_loss: -0.47185850143432617 | gen_loss: 0.09350999444723129\n",
            "Iteration: 269 | disc_loss: -0.48016226291656494 | gen_loss: 0.1326131820678711\n",
            "Iteration: 270 | disc_loss: -0.5279034376144409 | gen_loss: 0.008436188101768494\n",
            "Iteration: 271 | disc_loss: -0.4244439899921417 | gen_loss: 0.0862106904387474\n"
          ]
        },
        {
          "output_type": "stream",
          "name": "stderr",
          "text": [
            " 23%|██▎       | 277/1201 [00:15<00:42, 21.77it/s]"
          ]
        },
        {
          "output_type": "stream",
          "name": "stdout",
          "text": [
            "Iteration: 272 | disc_loss: -0.42417824268341064 | gen_loss: 0.12187850475311279\n",
            "Iteration: 273 | disc_loss: -0.4700177311897278 | gen_loss: 0.032152604311704636\n",
            "Iteration: 274 | disc_loss: -0.33962464332580566 | gen_loss: 0.04428647831082344\n",
            "Iteration: 275 | disc_loss: -0.4349750876426697 | gen_loss: 0.028784552589058876\n",
            "Iteration: 276 | disc_loss: -0.4074852168560028 | gen_loss: 0.036888618022203445\n"
          ]
        },
        {
          "output_type": "stream",
          "name": "stderr",
          "text": [
            "\r 23%|██▎       | 280/1201 [00:16<00:44, 20.71it/s]"
          ]
        },
        {
          "output_type": "stream",
          "name": "stdout",
          "text": [
            "Iteration: 277 | disc_loss: -0.43454891443252563 | gen_loss: 0.08798222988843918\n",
            "Iteration: 278 | disc_loss: -0.335515558719635 | gen_loss: 0.1303377002477646\n",
            "Iteration: 279 | disc_loss: -0.48908111453056335 | gen_loss: 0.09195701032876968\n",
            "Iteration: 280 | disc_loss: -0.4415779411792755 | gen_loss: 0.05796477571129799\n"
          ]
        },
        {
          "output_type": "stream",
          "name": "stderr",
          "text": [
            " 24%|██▎       | 285/1201 [00:16<00:47, 19.22it/s]"
          ]
        },
        {
          "output_type": "stream",
          "name": "stdout",
          "text": [
            "Iteration: 281 | disc_loss: -0.4849637448787689 | gen_loss: 0.08883059024810791\n",
            "Iteration: 282 | disc_loss: -0.49410930275917053 | gen_loss: -0.05261273309588432\n",
            "Iteration: 283 | disc_loss: -0.4586184620857239 | gen_loss: 0.04043428972363472\n",
            "Iteration: 284 | disc_loss: -0.48255619406700134 | gen_loss: 0.00405974080786109\n"
          ]
        },
        {
          "output_type": "stream",
          "name": "stderr",
          "text": [
            " 24%|██▍       | 289/1201 [00:16<00:48, 18.95it/s]"
          ]
        },
        {
          "output_type": "stream",
          "name": "stdout",
          "text": [
            "Iteration: 285 | disc_loss: -0.4132857918739319 | gen_loss: 0.033640068024396896\n",
            "Iteration: 286 | disc_loss: -0.46459341049194336 | gen_loss: 0.04389146342873573\n",
            "Iteration: 287 | disc_loss: -0.47965776920318604 | gen_loss: 0.09707608073949814\n",
            "Iteration: 288 | disc_loss: -0.46924689412117004 | gen_loss: 0.1269073784351349\n"
          ]
        },
        {
          "output_type": "stream",
          "name": "stderr",
          "text": [
            " 24%|██▍       | 293/1201 [00:16<00:49, 18.39it/s]"
          ]
        },
        {
          "output_type": "stream",
          "name": "stdout",
          "text": [
            "Iteration: 289 | disc_loss: -0.4478774666786194 | gen_loss: 0.12850873172283173\n",
            "Iteration: 290 | disc_loss: -0.4563833475112915 | gen_loss: 0.06998106837272644\n",
            "Iteration: 291 | disc_loss: -0.39890074729919434 | gen_loss: 0.10184412449598312\n",
            "Iteration: 292 | disc_loss: -0.41709843277931213 | gen_loss: 0.06660816073417664\n"
          ]
        },
        {
          "output_type": "stream",
          "name": "stderr",
          "text": [
            " 25%|██▍       | 298/1201 [00:17<00:48, 18.74it/s]"
          ]
        },
        {
          "output_type": "stream",
          "name": "stdout",
          "text": [
            "Iteration: 293 | disc_loss: -0.45782044529914856 | gen_loss: 0.04374617710709572\n",
            "Iteration: 294 | disc_loss: -0.41887959837913513 | gen_loss: 0.131110280752182\n",
            "Iteration: 295 | disc_loss: -0.4526737928390503 | gen_loss: 0.1955399066209793\n",
            "Iteration: 296 | disc_loss: -0.42386069893836975 | gen_loss: 0.13954411447048187\n",
            "Iteration: 297 | disc_loss: -0.4452148973941803 | gen_loss: 0.09677059203386307\n"
          ]
        },
        {
          "output_type": "stream",
          "name": "stderr",
          "text": [
            " 25%|██▌       | 302/1201 [00:17<00:50, 17.86it/s]"
          ]
        },
        {
          "output_type": "stream",
          "name": "stdout",
          "text": [
            "Iteration: 298 | disc_loss: -0.33800560235977173 | gen_loss: 0.13980495929718018\n",
            "Iteration: 299 | disc_loss: -0.45068657398223877 | gen_loss: 0.10181913524866104\n",
            "Iteration: 300 | disc_loss: -0.46881750226020813 | gen_loss: 0.02703930251300335\n",
            "Iteration: 301 | disc_loss: -0.4306340217590332 | gen_loss: 0.12269074469804764\n"
          ]
        },
        {
          "output_type": "stream",
          "name": "stderr",
          "text": [
            " 25%|██▌       | 306/1201 [00:17<00:48, 18.64it/s]"
          ]
        },
        {
          "output_type": "stream",
          "name": "stdout",
          "text": [
            "Iteration: 302 | disc_loss: -0.47121667861938477 | gen_loss: 0.061190590262413025\n",
            "Iteration: 303 | disc_loss: -0.4663463830947876 | gen_loss: 0.0881994366645813\n",
            "Iteration: 304 | disc_loss: -0.38301825523376465 | gen_loss: 0.1705498844385147\n",
            "Iteration: 305 | disc_loss: -0.4899156093597412 | gen_loss: 0.0501570962369442\n"
          ]
        },
        {
          "output_type": "stream",
          "name": "stderr",
          "text": [
            " 26%|██▌       | 310/1201 [00:17<00:47, 18.96it/s]"
          ]
        },
        {
          "output_type": "stream",
          "name": "stdout",
          "text": [
            "Iteration: 306 | disc_loss: -0.3781889081001282 | gen_loss: 0.05283735319972038\n",
            "Iteration: 307 | disc_loss: -0.47363850474357605 | gen_loss: 0.1212625578045845\n",
            "Iteration: 308 | disc_loss: -0.45487505197525024 | gen_loss: 0.13432615995407104\n",
            "Iteration: 309 | disc_loss: -0.45147714018821716 | gen_loss: 0.1688808649778366\n"
          ]
        },
        {
          "output_type": "stream",
          "name": "stderr",
          "text": [
            " 26%|██▌       | 315/1201 [00:17<00:45, 19.27it/s]"
          ]
        },
        {
          "output_type": "stream",
          "name": "stdout",
          "text": [
            "Iteration: 310 | disc_loss: -0.42821431159973145 | gen_loss: 0.1444453001022339\n",
            "Iteration: 311 | disc_loss: -0.44731229543685913 | gen_loss: 0.08215246349573135\n",
            "Iteration: 312 | disc_loss: -0.4762364327907562 | gen_loss: 0.08791208267211914\n",
            "Iteration: 313 | disc_loss: -0.45508402585983276 | gen_loss: 0.027735212817788124\n",
            "Iteration: 314 | disc_loss: -0.4512997269630432 | gen_loss: -0.02971719391644001\n"
          ]
        },
        {
          "output_type": "stream",
          "name": "stderr",
          "text": [
            " 27%|██▋       | 319/1201 [00:18<00:46, 18.89it/s]"
          ]
        },
        {
          "output_type": "stream",
          "name": "stdout",
          "text": [
            "Iteration: 315 | disc_loss: -0.46048828959465027 | gen_loss: 0.10768850892782211\n",
            "Iteration: 316 | disc_loss: -0.42829859256744385 | gen_loss: 0.058589667081832886\n",
            "Iteration: 317 | disc_loss: -0.4550178647041321 | gen_loss: 0.12607456743717194\n",
            "Iteration: 318 | disc_loss: -0.42308297753334045 | gen_loss: 0.06169688701629639\n"
          ]
        },
        {
          "output_type": "stream",
          "name": "stderr",
          "text": [
            " 27%|██▋       | 323/1201 [00:18<00:45, 19.13it/s]"
          ]
        },
        {
          "output_type": "stream",
          "name": "stdout",
          "text": [
            "Iteration: 319 | disc_loss: -0.43023166060447693 | gen_loss: 0.07915175706148148\n",
            "Iteration: 320 | disc_loss: -0.4724259674549103 | gen_loss: 0.14422564208507538\n",
            "Iteration: 321 | disc_loss: -0.47675490379333496 | gen_loss: 0.1480700820684433\n",
            "Iteration: 322 | disc_loss: -0.41989371180534363 | gen_loss: 0.15838001668453217\n"
          ]
        },
        {
          "output_type": "stream",
          "name": "stderr",
          "text": [
            " 27%|██▋       | 327/1201 [00:18<00:46, 18.63it/s]"
          ]
        },
        {
          "output_type": "stream",
          "name": "stdout",
          "text": [
            "Iteration: 323 | disc_loss: -0.4164717197418213 | gen_loss: 0.10369837284088135\n",
            "Iteration: 324 | disc_loss: -0.45779740810394287 | gen_loss: 0.08393138647079468\n",
            "Iteration: 325 | disc_loss: -0.4229862093925476 | gen_loss: 0.0760468915104866\n",
            "Iteration: 326 | disc_loss: -0.45171594619750977 | gen_loss: -0.01508752629160881\n"
          ]
        },
        {
          "output_type": "stream",
          "name": "stderr",
          "text": [
            " 28%|██▊       | 331/1201 [00:18<00:47, 18.45it/s]"
          ]
        },
        {
          "output_type": "stream",
          "name": "stdout",
          "text": [
            "Iteration: 327 | disc_loss: -0.4234912097454071 | gen_loss: 0.024623440578579903\n",
            "Iteration: 328 | disc_loss: -0.4205920696258545 | gen_loss: 0.2099938839673996\n",
            "Iteration: 329 | disc_loss: -0.44525381922721863 | gen_loss: 0.287195086479187\n",
            "Iteration: 330 | disc_loss: -0.42526975274086 | gen_loss: 0.1746860295534134\n"
          ]
        },
        {
          "output_type": "stream",
          "name": "stderr",
          "text": [
            " 28%|██▊       | 335/1201 [00:19<00:47, 18.31it/s]"
          ]
        },
        {
          "output_type": "stream",
          "name": "stdout",
          "text": [
            "Iteration: 331 | disc_loss: -0.44279155135154724 | gen_loss: 0.09048866480588913\n",
            "Iteration: 332 | disc_loss: -0.43413180112838745 | gen_loss: 0.04908784106373787\n",
            "Iteration: 333 | disc_loss: -0.458700031042099 | gen_loss: 0.06767389923334122\n",
            "Iteration: 334 | disc_loss: -0.47039639949798584 | gen_loss: 0.039297763258218765\n"
          ]
        },
        {
          "output_type": "stream",
          "name": "stderr",
          "text": [
            " 28%|██▊       | 339/1201 [00:19<00:45, 18.78it/s]"
          ]
        },
        {
          "output_type": "stream",
          "name": "stdout",
          "text": [
            "Iteration: 335 | disc_loss: -0.44978153705596924 | gen_loss: 0.0520777590572834\n",
            "Iteration: 336 | disc_loss: -0.4510294497013092 | gen_loss: 0.08434296399354935\n",
            "Iteration: 337 | disc_loss: -0.4253723919391632 | gen_loss: 0.0832962915301323\n",
            "Iteration: 338 | disc_loss: -0.4438955783843994 | gen_loss: 0.14921261370182037\n",
            "Iteration: 339 | disc_loss: -0.4786735475063324 | gen_loss: -0.00401553139090538\n"
          ]
        },
        {
          "output_type": "stream",
          "name": "stderr",
          "text": [
            " 29%|██▊       | 343/1201 [00:19<00:45, 19.03it/s]"
          ]
        },
        {
          "output_type": "stream",
          "name": "stdout",
          "text": [
            "Iteration: 340 | disc_loss: -0.4356892704963684 | gen_loss: 0.0294045303016901\n",
            "Iteration: 341 | disc_loss: -0.45003509521484375 | gen_loss: -0.09828018397092819\n",
            "Iteration: 342 | disc_loss: -0.3506484031677246 | gen_loss: 0.1570994108915329\n",
            "Iteration: 343 | disc_loss: -0.41235417127609253 | gen_loss: 0.1725982427597046\n"
          ]
        },
        {
          "output_type": "stream",
          "name": "stderr",
          "text": [
            " 29%|██▉       | 347/1201 [00:19<00:44, 18.99it/s]"
          ]
        },
        {
          "output_type": "stream",
          "name": "stdout",
          "text": [
            "Iteration: 344 | disc_loss: -0.4656509459018707 | gen_loss: 0.09797459095716476\n",
            "Iteration: 345 | disc_loss: -0.40489983558654785 | gen_loss: 0.21612071990966797\n",
            "Iteration: 346 | disc_loss: -0.4728674292564392 | gen_loss: 0.29730868339538574\n",
            "Iteration: 347 | disc_loss: -0.45876723527908325 | gen_loss: 0.07660766690969467\n"
          ]
        },
        {
          "output_type": "stream",
          "name": "stderr",
          "text": [
            " 29%|██▉       | 351/1201 [00:19<00:46, 18.38it/s]"
          ]
        },
        {
          "output_type": "stream",
          "name": "stdout",
          "text": [
            "Iteration: 348 | disc_loss: -0.446399986743927 | gen_loss: -0.0220835879445076\n",
            "Iteration: 349 | disc_loss: -0.42121151089668274 | gen_loss: 0.015732554718852043\n",
            "Iteration: 350 | disc_loss: -0.4556455612182617 | gen_loss: 0.018621163442730904\n",
            "Iteration: 351 | disc_loss: -0.44711339473724365 | gen_loss: 0.0806107446551323\n"
          ]
        },
        {
          "output_type": "stream",
          "name": "stderr",
          "text": [
            " 30%|██▉       | 355/1201 [00:20<00:46, 18.29it/s]"
          ]
        },
        {
          "output_type": "stream",
          "name": "stdout",
          "text": [
            "Iteration: 352 | disc_loss: -0.3985709249973297 | gen_loss: 0.09934994578361511\n",
            "Iteration: 353 | disc_loss: -0.391925573348999 | gen_loss: 0.15515242516994476\n",
            "Iteration: 354 | disc_loss: -0.4220045506954193 | gen_loss: 0.09863931685686111\n",
            "Iteration: 355 | disc_loss: -0.4078251123428345 | gen_loss: 0.0738275945186615\n"
          ]
        },
        {
          "output_type": "stream",
          "name": "stderr",
          "text": [
            " 30%|██▉       | 360/1201 [00:20<00:40, 21.00it/s]"
          ]
        },
        {
          "output_type": "stream",
          "name": "stdout",
          "text": [
            "Iteration: 356 | disc_loss: -0.47464877367019653 | gen_loss: 0.03351232036948204\n",
            "Iteration: 357 | disc_loss: -0.44012075662612915 | gen_loss: 0.030832847580313683\n",
            "Iteration: 358 | disc_loss: -0.45948079228401184 | gen_loss: 0.03456099331378937\n",
            "Iteration: 359 | disc_loss: -0.43957534432411194 | gen_loss: -0.05972421169281006\n",
            "Iteration: 360 | disc_loss: -0.46590736508369446 | gen_loss: -0.018617630004882812\n",
            "Iteration: 361 | disc_loss: -0.4372914433479309 | gen_loss: 0.10830944776535034\n"
          ]
        },
        {
          "output_type": "stream",
          "name": "stderr",
          "text": [
            " 31%|███       | 367/1201 [00:20<00:32, 25.82it/s]"
          ]
        },
        {
          "output_type": "stream",
          "name": "stdout",
          "text": [
            "Iteration: 362 | disc_loss: -0.4719681441783905 | gen_loss: 0.24196867644786835\n",
            "Iteration: 363 | disc_loss: -0.47427991032600403 | gen_loss: 0.1507800966501236\n",
            "Iteration: 364 | disc_loss: -0.4120672643184662 | gen_loss: 0.18268124759197235\n",
            "Iteration: 365 | disc_loss: -0.3853384852409363 | gen_loss: 0.159129336476326\n",
            "Iteration: 366 | disc_loss: -0.4404482841491699 | gen_loss: 0.07895367592573166\n",
            "Iteration: 367 | disc_loss: -0.4479946196079254 | gen_loss: -0.07183820009231567\n",
            "Iteration: 368 | disc_loss: -0.4448302388191223 | gen_loss: 0.04041812941431999\n"
          ]
        },
        {
          "output_type": "stream",
          "name": "stderr",
          "text": [
            " 31%|███       | 375/1201 [00:20<00:29, 28.35it/s]"
          ]
        },
        {
          "output_type": "stream",
          "name": "stdout",
          "text": [
            "Iteration: 369 | disc_loss: -0.4116770029067993 | gen_loss: 0.02677871473133564\n",
            "Iteration: 370 | disc_loss: -0.4195297956466675 | gen_loss: 0.07188841700553894\n",
            "Iteration: 371 | disc_loss: -0.43090179562568665 | gen_loss: 0.02454439364373684\n",
            "Iteration: 372 | disc_loss: -0.41257786750793457 | gen_loss: 0.055723417550325394\n",
            "Iteration: 373 | disc_loss: -0.4712349474430084 | gen_loss: 0.09316223859786987\n",
            "Iteration: 374 | disc_loss: -0.41049012541770935 | gen_loss: 0.006901097949594259\n"
          ]
        },
        {
          "output_type": "stream",
          "name": "stderr",
          "text": [
            " 32%|███▏      | 382/1201 [00:21<00:28, 28.57it/s]"
          ]
        },
        {
          "output_type": "stream",
          "name": "stdout",
          "text": [
            "Iteration: 375 | disc_loss: -0.459679514169693 | gen_loss: 0.10831067711114883\n",
            "Iteration: 376 | disc_loss: -0.456276535987854 | gen_loss: -0.05438121780753136\n",
            "Iteration: 377 | disc_loss: -0.36172422766685486 | gen_loss: 0.030275145545601845\n",
            "Iteration: 378 | disc_loss: -0.44304969906806946 | gen_loss: 0.18901367485523224\n",
            "Iteration: 379 | disc_loss: -0.4485694169998169 | gen_loss: 0.0848822370171547\n",
            "Iteration: 380 | disc_loss: -0.4426991045475006 | gen_loss: 0.19191379845142365\n",
            "Iteration: 381 | disc_loss: -0.4159524142742157 | gen_loss: 0.053525883704423904\n"
          ]
        },
        {
          "output_type": "stream",
          "name": "stderr",
          "text": [
            " 32%|███▏      | 389/1201 [00:21<00:27, 29.85it/s]"
          ]
        },
        {
          "output_type": "stream",
          "name": "stdout",
          "text": [
            "Iteration: 382 | disc_loss: -0.4224545955657959 | gen_loss: 0.06996957212686539\n",
            "Iteration: 383 | disc_loss: -0.38014742732048035 | gen_loss: 0.0887424424290657\n",
            "Iteration: 384 | disc_loss: -0.39643192291259766 | gen_loss: 0.11727704852819443\n",
            "Iteration: 385 | disc_loss: -0.43669164180755615 | gen_loss: -0.006752417888492346\n",
            "Iteration: 386 | disc_loss: -0.4393743574619293 | gen_loss: 0.05374916270375252\n",
            "Iteration: 387 | disc_loss: -0.3966566026210785 | gen_loss: 0.09299676865339279\n",
            "Iteration: 388 | disc_loss: -0.24256642162799835 | gen_loss: 0.0530751533806324\n"
          ]
        },
        {
          "output_type": "stream",
          "name": "stderr",
          "text": [
            " 33%|███▎      | 396/1201 [00:21<00:26, 30.22it/s]"
          ]
        },
        {
          "output_type": "stream",
          "name": "stdout",
          "text": [
            "Iteration: 389 | disc_loss: -0.42989763617515564 | gen_loss: 0.026806889101862907\n",
            "Iteration: 390 | disc_loss: -0.45085784792900085 | gen_loss: 0.02544700913131237\n",
            "Iteration: 391 | disc_loss: -0.42567482590675354 | gen_loss: 0.010492831468582153\n",
            "Iteration: 392 | disc_loss: -0.42979541420936584 | gen_loss: 0.16145603358745575\n",
            "Iteration: 393 | disc_loss: -0.4420389235019684 | gen_loss: 0.1683187484741211\n",
            "Iteration: 394 | disc_loss: -0.4283517003059387 | gen_loss: 0.016087142750620842\n",
            "Iteration: 395 | disc_loss: -0.4611896872520447 | gen_loss: 0.012621887028217316\n"
          ]
        },
        {
          "output_type": "stream",
          "name": "stderr",
          "text": [
            "\r 33%|███▎      | 400/1201 [00:21<00:26, 30.40it/s]"
          ]
        },
        {
          "output_type": "stream",
          "name": "stdout",
          "text": [
            "Iteration: 396 | disc_loss: -0.40019142627716064 | gen_loss: 0.09984629601240158\n",
            "Iteration: 397 | disc_loss: -0.3531600534915924 | gen_loss: 0.08872940391302109\n",
            "Iteration: 398 | disc_loss: -0.44302451610565186 | gen_loss: 0.13737404346466064\n",
            "Iteration: 399 | disc_loss: -0.41087737679481506 | gen_loss: 0.07512757182121277\n",
            "Iteration: 400 | disc_loss: -0.448333740234375 | gen_loss: 0.08605777472257614\n",
            "Iteration: 401 | disc_loss: -0.4347139000892639 | gen_loss: 0.03388335928320885\n",
            "Iteration: 402 | disc_loss: -0.423335462808609 | gen_loss: 0.017893092706799507\n"
          ]
        },
        {
          "output_type": "stream",
          "name": "stderr",
          "text": [
            " 34%|███▍      | 407/1201 [00:21<00:28, 28.33it/s]"
          ]
        },
        {
          "output_type": "stream",
          "name": "stdout",
          "text": [
            "Iteration: 403 | disc_loss: -0.4474605917930603 | gen_loss: 0.05268238112330437\n",
            "Iteration: 404 | disc_loss: -0.39890265464782715 | gen_loss: 0.10500553995370865\n",
            "Iteration: 405 | disc_loss: -0.38079386949539185 | gen_loss: 0.17937839031219482\n",
            "Iteration: 406 | disc_loss: -0.437347948551178 | gen_loss: 0.08575960248708725\n",
            "Iteration: 407 | disc_loss: -0.403469055891037 | gen_loss: 0.03924323618412018\n",
            "Iteration: 408 | disc_loss: -0.4512886106967926 | gen_loss: -0.001989419339224696\n"
          ]
        },
        {
          "output_type": "stream",
          "name": "stderr",
          "text": [
            " 34%|███▍      | 413/1201 [00:22<00:27, 28.75it/s]"
          ]
        },
        {
          "output_type": "stream",
          "name": "stdout",
          "text": [
            "Iteration: 409 | disc_loss: -0.43000519275665283 | gen_loss: 0.014271549880504608\n",
            "Iteration: 410 | disc_loss: -0.4301769435405731 | gen_loss: 0.1234879121184349\n",
            "Iteration: 411 | disc_loss: -0.3898409605026245 | gen_loss: 0.20687668025493622\n",
            "Iteration: 412 | disc_loss: -0.3809080719947815 | gen_loss: 0.1764463633298874\n",
            "Iteration: 413 | disc_loss: -0.3858722150325775 | gen_loss: 0.10526194423437119\n",
            "Iteration: 414 | disc_loss: -0.4094216227531433 | gen_loss: 0.08097594231367111\n",
            "Iteration: 415 | disc_loss: -0.43549010157585144 | gen_loss: 0.00231521506793797\n"
          ]
        },
        {
          "output_type": "stream",
          "name": "stderr",
          "text": [
            " 35%|███▌      | 421/1201 [00:22<00:25, 30.18it/s]"
          ]
        },
        {
          "output_type": "stream",
          "name": "stdout",
          "text": [
            "Iteration: 416 | disc_loss: -0.42005470395088196 | gen_loss: 0.05623428151011467\n",
            "Iteration: 417 | disc_loss: -0.41976624727249146 | gen_loss: -0.07023050636053085\n",
            "Iteration: 418 | disc_loss: -0.4116990864276886 | gen_loss: 0.12991000711917877\n",
            "Iteration: 419 | disc_loss: -0.3987908959388733 | gen_loss: 0.11660895496606827\n",
            "Iteration: 420 | disc_loss: -0.45246654748916626 | gen_loss: 0.24232693016529083\n",
            "Iteration: 421 | disc_loss: -0.41708481311798096 | gen_loss: 0.17758595943450928\n",
            "Iteration: 422 | disc_loss: -0.4347900152206421 | gen_loss: 0.03334386274218559\n"
          ]
        },
        {
          "output_type": "stream",
          "name": "stderr",
          "text": [
            " 36%|███▌      | 429/1201 [00:22<00:25, 30.55it/s]"
          ]
        },
        {
          "output_type": "stream",
          "name": "stdout",
          "text": [
            "Iteration: 423 | disc_loss: -0.417228639125824 | gen_loss: 0.00661710649728775\n",
            "Iteration: 424 | disc_loss: -0.29457804560661316 | gen_loss: 0.04020276293158531\n",
            "Iteration: 425 | disc_loss: -0.4162745475769043 | gen_loss: -0.00753035768866539\n",
            "Iteration: 426 | disc_loss: -0.42520251870155334 | gen_loss: 0.049453794956207275\n",
            "Iteration: 427 | disc_loss: -0.42538800835609436 | gen_loss: 0.02041793055832386\n",
            "Iteration: 428 | disc_loss: -0.40619298815727234 | gen_loss: 0.08238684386014938\n",
            "Iteration: 429 | disc_loss: -0.4035494029521942 | gen_loss: 0.15532691776752472\n"
          ]
        },
        {
          "output_type": "stream",
          "name": "stderr",
          "text": [
            " 36%|███▋      | 437/1201 [00:22<00:25, 29.89it/s]"
          ]
        },
        {
          "output_type": "stream",
          "name": "stdout",
          "text": [
            "Iteration: 430 | disc_loss: -0.43012797832489014 | gen_loss: 0.1269194632768631\n",
            "Iteration: 431 | disc_loss: -0.4174105226993561 | gen_loss: 0.14930206537246704\n",
            "Iteration: 432 | disc_loss: -0.4054776728153229 | gen_loss: 0.12121248245239258\n",
            "Iteration: 433 | disc_loss: -0.4181974530220032 | gen_loss: 0.07803668826818466\n",
            "Iteration: 434 | disc_loss: -0.3888687193393707 | gen_loss: 0.20536792278289795\n",
            "Iteration: 435 | disc_loss: -0.39538928866386414 | gen_loss: 0.14508521556854248\n",
            "Iteration: 436 | disc_loss: -0.38819506764411926 | gen_loss: 0.11449068039655685\n"
          ]
        },
        {
          "output_type": "stream",
          "name": "stderr",
          "text": [
            "\r 37%|███▋      | 441/1201 [00:23<00:25, 30.18it/s]"
          ]
        },
        {
          "output_type": "stream",
          "name": "stdout",
          "text": [
            "Iteration: 437 | disc_loss: -0.4187535345554352 | gen_loss: 0.13377203047275543\n",
            "Iteration: 438 | disc_loss: -0.40621328353881836 | gen_loss: 0.03825831785798073\n",
            "Iteration: 439 | disc_loss: -0.41886672377586365 | gen_loss: 0.023537084460258484\n",
            "Iteration: 440 | disc_loss: -0.42939576506614685 | gen_loss: -0.030783750116825104\n",
            "Iteration: 441 | disc_loss: -0.35147956013679504 | gen_loss: 0.07408789545297623\n",
            "Iteration: 442 | disc_loss: -0.4340229034423828 | gen_loss: 0.33580389618873596\n",
            "Iteration: 443 | disc_loss: -0.40941542387008667 | gen_loss: 0.2811625897884369\n"
          ]
        },
        {
          "output_type": "stream",
          "name": "stderr",
          "text": [
            " 37%|███▋      | 448/1201 [00:23<00:25, 29.57it/s]"
          ]
        },
        {
          "output_type": "stream",
          "name": "stdout",
          "text": [
            "Iteration: 444 | disc_loss: -0.37221989035606384 | gen_loss: 0.09036445617675781\n",
            "Iteration: 445 | disc_loss: -0.4016977846622467 | gen_loss: 0.053926605731248856\n",
            "Iteration: 446 | disc_loss: -0.4344503879547119 | gen_loss: -0.013078116811811924\n",
            "Iteration: 447 | disc_loss: -0.3977142572402954 | gen_loss: 0.07333976030349731\n",
            "Iteration: 448 | disc_loss: -0.29860448837280273 | gen_loss: 0.06757938861846924\n",
            "Iteration: 449 | disc_loss: -0.40570124983787537 | gen_loss: 0.17449934780597687\n"
          ]
        },
        {
          "output_type": "stream",
          "name": "stderr",
          "text": [
            " 38%|███▊      | 455/1201 [00:23<00:25, 29.58it/s]"
          ]
        },
        {
          "output_type": "stream",
          "name": "stdout",
          "text": [
            "Iteration: 450 | disc_loss: -0.4224206209182739 | gen_loss: 0.0980682373046875\n",
            "Iteration: 451 | disc_loss: -0.44448086619377136 | gen_loss: 0.22883260250091553\n",
            "Iteration: 452 | disc_loss: -0.4065622389316559 | gen_loss: 0.14086662232875824\n",
            "Iteration: 453 | disc_loss: -0.42009150981903076 | gen_loss: 0.06152540072798729\n",
            "Iteration: 454 | disc_loss: -0.40951836109161377 | gen_loss: 0.03900309279561043\n",
            "Iteration: 455 | disc_loss: -0.41783878207206726 | gen_loss: 0.036738812923431396\n",
            "Iteration: 456 | disc_loss: -0.3854483962059021 | gen_loss: -0.03884487971663475\n"
          ]
        },
        {
          "output_type": "stream",
          "name": "stderr",
          "text": [
            " 38%|███▊      | 462/1201 [00:23<00:24, 30.01it/s]"
          ]
        },
        {
          "output_type": "stream",
          "name": "stdout",
          "text": [
            "Iteration: 457 | disc_loss: -0.3877348005771637 | gen_loss: 0.06452084332704544\n",
            "Iteration: 458 | disc_loss: -0.33809614181518555 | gen_loss: 0.09150520712137222\n",
            "Iteration: 459 | disc_loss: -0.41774025559425354 | gen_loss: 0.18137915432453156\n",
            "Iteration: 460 | disc_loss: -0.3923882842063904 | gen_loss: 0.20142872631549835\n",
            "Iteration: 461 | disc_loss: -0.418335497379303 | gen_loss: 0.16848115622997284\n",
            "Iteration: 462 | disc_loss: -0.390620619058609 | gen_loss: 0.1535271406173706\n",
            "Iteration: 463 | disc_loss: -0.39317595958709717 | gen_loss: 0.10902860015630722\n"
          ]
        },
        {
          "output_type": "stream",
          "name": "stderr",
          "text": [
            " 39%|███▉      | 468/1201 [00:24<00:25, 28.74it/s]"
          ]
        },
        {
          "output_type": "stream",
          "name": "stdout",
          "text": [
            "Iteration: 464 | disc_loss: -0.4375491142272949 | gen_loss: -0.04405355826020241\n",
            "Iteration: 465 | disc_loss: -0.3803116977214813 | gen_loss: -0.07263960689306259\n",
            "Iteration: 466 | disc_loss: -0.3566867411136627 | gen_loss: 0.040799450129270554\n",
            "Iteration: 467 | disc_loss: -0.36502790451049805 | gen_loss: 0.2025986909866333\n",
            "Iteration: 468 | disc_loss: -0.385265052318573 | gen_loss: 0.25217103958129883\n",
            "Iteration: 469 | disc_loss: -0.434647798538208 | gen_loss: 0.0982220470905304\n",
            "Iteration: 470 | disc_loss: -0.42231205105781555 | gen_loss: 0.10630673170089722\n"
          ]
        },
        {
          "output_type": "stream",
          "name": "stderr",
          "text": [
            " 40%|███▉      | 475/1201 [00:24<00:24, 29.69it/s]"
          ]
        },
        {
          "output_type": "stream",
          "name": "stdout",
          "text": [
            "Iteration: 471 | disc_loss: -0.3970857858657837 | gen_loss: 0.10242641717195511\n",
            "Iteration: 472 | disc_loss: -0.40279924869537354 | gen_loss: 0.08934763818979263\n",
            "Iteration: 473 | disc_loss: -0.4058537781238556 | gen_loss: 0.03900710120797157\n",
            "Iteration: 474 | disc_loss: -0.34784290194511414 | gen_loss: 0.11801713705062866\n",
            "Iteration: 475 | disc_loss: -0.35771358013153076 | gen_loss: 0.23794524371623993\n",
            "Iteration: 476 | disc_loss: -0.37563055753707886 | gen_loss: 0.26159772276878357\n",
            "Iteration: 477 | disc_loss: -0.40992775559425354 | gen_loss: 0.10644076019525528\n"
          ]
        },
        {
          "output_type": "stream",
          "name": "stderr",
          "text": [
            " 40%|████      | 483/1201 [00:24<00:23, 30.60it/s]"
          ]
        },
        {
          "output_type": "stream",
          "name": "stdout",
          "text": [
            "Iteration: 478 | disc_loss: -0.42073825001716614 | gen_loss: -0.028506366536021233\n",
            "Iteration: 479 | disc_loss: -0.41856059432029724 | gen_loss: 0.06314908713102341\n",
            "Iteration: 480 | disc_loss: -0.42741695046424866 | gen_loss: 0.0033218637108802795\n",
            "Iteration: 481 | disc_loss: -0.3792950212955475 | gen_loss: 0.05666811391711235\n",
            "Iteration: 482 | disc_loss: -0.37457695603370667 | gen_loss: 0.1504291445016861\n",
            "Iteration: 483 | disc_loss: -0.4170435667037964 | gen_loss: 0.08915200084447861\n",
            "Iteration: 484 | disc_loss: -0.39373207092285156 | gen_loss: 0.04799039289355278\n"
          ]
        },
        {
          "output_type": "stream",
          "name": "stderr",
          "text": [
            " 41%|████      | 491/1201 [00:24<00:23, 30.52it/s]"
          ]
        },
        {
          "output_type": "stream",
          "name": "stdout",
          "text": [
            "Iteration: 485 | disc_loss: -0.27590811252593994 | gen_loss: 0.04714439436793327\n",
            "Iteration: 486 | disc_loss: -0.4156844913959503 | gen_loss: 0.013634935952723026\n",
            "Iteration: 487 | disc_loss: -0.3688181936740875 | gen_loss: 0.21144910156726837\n",
            "Iteration: 488 | disc_loss: -0.40181657671928406 | gen_loss: 0.18589507043361664\n",
            "Iteration: 489 | disc_loss: -0.3520454466342926 | gen_loss: 0.1728953868150711\n",
            "Iteration: 490 | disc_loss: -0.38677874207496643 | gen_loss: 0.0493338368833065\n",
            "Iteration: 491 | disc_loss: -0.38782331347465515 | gen_loss: 0.06666523963212967\n"
          ]
        },
        {
          "output_type": "stream",
          "name": "stderr",
          "text": [
            " 41%|████▏     | 498/1201 [00:25<00:24, 29.05it/s]"
          ]
        },
        {
          "output_type": "stream",
          "name": "stdout",
          "text": [
            "Iteration: 492 | disc_loss: -0.3900230824947357 | gen_loss: 0.19491171836853027\n",
            "Iteration: 493 | disc_loss: -0.3467986583709717 | gen_loss: 0.15349452197551727\n",
            "Iteration: 494 | disc_loss: -0.39624857902526855 | gen_loss: 0.10682898759841919\n",
            "Iteration: 495 | disc_loss: -0.36139047145843506 | gen_loss: 0.06771660596132278\n",
            "Iteration: 496 | disc_loss: -0.3999561667442322 | gen_loss: 0.09503909200429916\n",
            "Iteration: 497 | disc_loss: -0.36462709307670593 | gen_loss: 0.09499013423919678\n"
          ]
        },
        {
          "output_type": "stream",
          "name": "stderr",
          "text": [
            "\r 42%|████▏     | 501/1201 [00:25<00:25, 27.39it/s]"
          ]
        },
        {
          "output_type": "stream",
          "name": "stdout",
          "text": [
            "Iteration: 498 | disc_loss: -0.3756867051124573 | gen_loss: 0.10552030056715012\n",
            "Iteration: 499 | disc_loss: -0.40925660729408264 | gen_loss: 0.11607447266578674\n",
            "Iteration: 500 | disc_loss: -0.38891544938087463 | gen_loss: 0.2590382397174835\n",
            "Iteration: 501 | disc_loss: -0.40326976776123047 | gen_loss: 0.07483553141355515\n",
            "Iteration: 502 | disc_loss: -0.3943023085594177 | gen_loss: 0.04577256739139557\n",
            "Iteration: 503 | disc_loss: -0.4017232656478882 | gen_loss: 0.10369476675987244\n"
          ]
        },
        {
          "output_type": "stream",
          "name": "stderr",
          "text": [
            " 42%|████▏     | 509/1201 [00:25<00:23, 29.32it/s]"
          ]
        },
        {
          "output_type": "stream",
          "name": "stdout",
          "text": [
            "Iteration: 504 | disc_loss: -0.3962875306606293 | gen_loss: 0.17173413932323456\n",
            "Iteration: 505 | disc_loss: -0.3809647262096405 | gen_loss: 0.10615400224924088\n",
            "Iteration: 506 | disc_loss: -0.3955443501472473 | gen_loss: 0.15575411915779114\n",
            "Iteration: 507 | disc_loss: -0.370159775018692 | gen_loss: 0.06472910195589066\n",
            "Iteration: 508 | disc_loss: -0.40023982524871826 | gen_loss: 0.007205937057733536\n",
            "Iteration: 509 | disc_loss: -0.3838847875595093 | gen_loss: 0.09117597341537476\n",
            "Iteration: 510 | disc_loss: -0.36877188086509705 | gen_loss: 0.15792226791381836\n"
          ]
        },
        {
          "output_type": "stream",
          "name": "stderr",
          "text": [
            " 43%|████▎     | 515/1201 [00:25<00:23, 29.10it/s]"
          ]
        },
        {
          "output_type": "stream",
          "name": "stdout",
          "text": [
            "Iteration: 511 | disc_loss: -0.34297651052474976 | gen_loss: 0.11269449442625046\n",
            "Iteration: 512 | disc_loss: -0.41134244203567505 | gen_loss: 0.10849588364362717\n",
            "Iteration: 513 | disc_loss: -0.4198557734489441 | gen_loss: 0.03705247864127159\n",
            "Iteration: 514 | disc_loss: -0.3951607644557953 | gen_loss: 0.09511524438858032\n",
            "Iteration: 515 | disc_loss: -0.4073863625526428 | gen_loss: 0.11645424365997314\n",
            "Iteration: 516 | disc_loss: -0.41470158100128174 | gen_loss: 0.24153883755207062\n"
          ]
        },
        {
          "output_type": "stream",
          "name": "stderr",
          "text": [
            " 44%|████▎     | 523/1201 [00:25<00:22, 30.18it/s]"
          ]
        },
        {
          "output_type": "stream",
          "name": "stdout",
          "text": [
            "Iteration: 517 | disc_loss: -0.3924383819103241 | gen_loss: 0.13724571466445923\n",
            "Iteration: 518 | disc_loss: -0.3959028720855713 | gen_loss: 0.122100830078125\n",
            "Iteration: 519 | disc_loss: -0.3798936903476715 | gen_loss: 0.11434948444366455\n",
            "Iteration: 520 | disc_loss: -0.36128610372543335 | gen_loss: 0.1996387094259262\n",
            "Iteration: 521 | disc_loss: -0.3848646581172943 | gen_loss: 0.12158127874135971\n",
            "Iteration: 522 | disc_loss: -0.37652409076690674 | gen_loss: 0.14490137994289398\n",
            "Iteration: 523 | disc_loss: -0.4254482090473175 | gen_loss: 0.14731231331825256\n"
          ]
        },
        {
          "output_type": "stream",
          "name": "stderr",
          "text": [
            "\r 44%|████▍     | 527/1201 [00:25<00:22, 30.27it/s]"
          ]
        },
        {
          "output_type": "stream",
          "name": "stdout",
          "text": [
            "Iteration: 524 | disc_loss: -0.39531663060188293 | gen_loss: 0.2675977945327759\n",
            "Iteration: 525 | disc_loss: -0.37647220492362976 | gen_loss: 0.21831822395324707\n",
            "Iteration: 526 | disc_loss: -0.3637286424636841 | gen_loss: 0.1317957043647766\n",
            "Iteration: 527 | disc_loss: -0.3892439901828766 | gen_loss: 0.13792531192302704\n",
            "Iteration: 528 | disc_loss: -0.40893593430519104 | gen_loss: -0.017447182908654213\n",
            "Iteration: 529 | disc_loss: -0.37825503945350647 | gen_loss: 0.12278633564710617\n"
          ]
        },
        {
          "output_type": "stream",
          "name": "stderr",
          "text": [
            " 44%|████▍     | 534/1201 [00:26<00:22, 29.16it/s]"
          ]
        },
        {
          "output_type": "stream",
          "name": "stdout",
          "text": [
            "Iteration: 530 | disc_loss: -0.39383387565612793 | gen_loss: 0.0705920159816742\n",
            "Iteration: 531 | disc_loss: -0.4029870927333832 | gen_loss: 0.11170020699501038\n",
            "Iteration: 532 | disc_loss: -0.38609734177589417 | gen_loss: 0.1042015552520752\n",
            "Iteration: 533 | disc_loss: -0.3409193158149719 | gen_loss: 0.18359069526195526\n",
            "Iteration: 534 | disc_loss: -0.35229411721229553 | gen_loss: 0.1120079830288887\n",
            "Iteration: 535 | disc_loss: -0.39272618293762207 | gen_loss: 0.14002765715122223\n"
          ]
        },
        {
          "output_type": "stream",
          "name": "stderr",
          "text": [
            " 45%|████▍     | 540/1201 [00:26<00:22, 28.94it/s]"
          ]
        },
        {
          "output_type": "stream",
          "name": "stdout",
          "text": [
            "Iteration: 536 | disc_loss: -0.4168945550918579 | gen_loss: 0.1739700436592102\n",
            "Iteration: 537 | disc_loss: -0.40255361795425415 | gen_loss: 0.08409630507230759\n",
            "Iteration: 538 | disc_loss: -0.397684782743454 | gen_loss: 0.07968779653310776\n",
            "Iteration: 539 | disc_loss: -0.4078511595726013 | gen_loss: 0.2960926294326782\n",
            "Iteration: 540 | disc_loss: -0.40189963579177856 | gen_loss: 0.2683812379837036\n",
            "Iteration: 541 | disc_loss: -0.38033604621887207 | gen_loss: 0.2066762000322342\n",
            "Iteration: 542 | disc_loss: -0.36470210552215576 | gen_loss: 0.11269059032201767\n"
          ]
        },
        {
          "output_type": "stream",
          "name": "stderr",
          "text": [
            " 46%|████▌     | 548/1201 [00:26<00:21, 30.19it/s]"
          ]
        },
        {
          "output_type": "stream",
          "name": "stdout",
          "text": [
            "Iteration: 543 | disc_loss: -0.4168872833251953 | gen_loss: 0.01046892162412405\n",
            "Iteration: 544 | disc_loss: -0.3584018647670746 | gen_loss: 0.097664475440979\n",
            "Iteration: 545 | disc_loss: -0.2786874771118164 | gen_loss: 0.12432215362787247\n",
            "Iteration: 546 | disc_loss: -0.38515806198120117 | gen_loss: 0.18377958238124847\n",
            "Iteration: 547 | disc_loss: -0.3714488446712494 | gen_loss: 0.22180886566638947\n",
            "Iteration: 548 | disc_loss: -0.3739836812019348 | gen_loss: 0.17022497951984406\n",
            "Iteration: 549 | disc_loss: -0.4163774251937866 | gen_loss: 0.22375208139419556\n"
          ]
        },
        {
          "output_type": "stream",
          "name": "stderr",
          "text": [
            " 46%|████▋     | 556/1201 [00:26<00:21, 30.16it/s]"
          ]
        },
        {
          "output_type": "stream",
          "name": "stdout",
          "text": [
            "Iteration: 550 | disc_loss: -0.4043710231781006 | gen_loss: 0.1859908103942871\n",
            "Iteration: 551 | disc_loss: -0.37770530581474304 | gen_loss: 0.15918712317943573\n",
            "Iteration: 552 | disc_loss: -0.4197424352169037 | gen_loss: 0.09417492151260376\n",
            "Iteration: 553 | disc_loss: -0.3738398253917694 | gen_loss: -0.02623528242111206\n",
            "Iteration: 554 | disc_loss: -0.41752955317497253 | gen_loss: 0.10289675742387772\n",
            "Iteration: 555 | disc_loss: -0.39258208870887756 | gen_loss: 0.10897546261548996\n",
            "Iteration: 556 | disc_loss: -0.4114700257778168 | gen_loss: 0.18775661289691925\n"
          ]
        },
        {
          "output_type": "stream",
          "name": "stderr",
          "text": [
            " 47%|████▋     | 564/1201 [00:27<00:21, 30.05it/s]"
          ]
        },
        {
          "output_type": "stream",
          "name": "stdout",
          "text": [
            "Iteration: 557 | disc_loss: -0.3923991024494171 | gen_loss: 0.2548595666885376\n",
            "Iteration: 558 | disc_loss: -0.40267041325569153 | gen_loss: 0.22384704649448395\n",
            "Iteration: 559 | disc_loss: -0.3937557339668274 | gen_loss: 0.20217490196228027\n",
            "Iteration: 560 | disc_loss: -0.3996661603450775 | gen_loss: 0.17479856312274933\n",
            "Iteration: 561 | disc_loss: -0.4001988172531128 | gen_loss: 0.12409019470214844\n",
            "Iteration: 562 | disc_loss: -0.39540383219718933 | gen_loss: 0.08727511018514633\n",
            "Iteration: 563 | disc_loss: -0.3961375653743744 | gen_loss: 0.07715504616498947\n"
          ]
        },
        {
          "output_type": "stream",
          "name": "stderr",
          "text": [
            "\r 47%|████▋     | 568/1201 [00:27<00:20, 30.23it/s]"
          ]
        },
        {
          "output_type": "stream",
          "name": "stdout",
          "text": [
            "Iteration: 564 | disc_loss: -0.4011020362377167 | gen_loss: 0.23397982120513916\n",
            "Iteration: 565 | disc_loss: -0.3979518711566925 | gen_loss: 0.1442343145608902\n",
            "Iteration: 566 | disc_loss: -0.4108212888240814 | gen_loss: 0.15404917299747467\n",
            "Iteration: 567 | disc_loss: -0.416931688785553 | gen_loss: 0.20070217549800873\n",
            "Iteration: 568 | disc_loss: -0.39389607310295105 | gen_loss: 0.14901000261306763\n",
            "Iteration: 569 | disc_loss: -0.39568233489990234 | gen_loss: 0.03674556314945221\n",
            "Iteration: 570 | disc_loss: -0.39905330538749695 | gen_loss: 0.11835044622421265\n"
          ]
        },
        {
          "output_type": "stream",
          "name": "stderr",
          "text": [
            " 48%|████▊     | 576/1201 [00:27<00:20, 30.57it/s]"
          ]
        },
        {
          "output_type": "stream",
          "name": "stdout",
          "text": [
            "Iteration: 571 | disc_loss: -0.37104707956314087 | gen_loss: 0.12202948331832886\n",
            "Iteration: 572 | disc_loss: -0.40371254086494446 | gen_loss: 0.21897459030151367\n",
            "Iteration: 573 | disc_loss: -0.3759360909461975 | gen_loss: 0.12985444068908691\n",
            "Iteration: 574 | disc_loss: -0.3265674114227295 | gen_loss: 0.03607964515686035\n",
            "Iteration: 575 | disc_loss: -0.4219258427619934 | gen_loss: 0.017126142978668213\n",
            "Iteration: 576 | disc_loss: -0.27300092577934265 | gen_loss: 0.12635844945907593\n",
            "Iteration: 577 | disc_loss: -0.40400609374046326 | gen_loss: 0.2268451452255249\n"
          ]
        },
        {
          "output_type": "stream",
          "name": "stderr",
          "text": [
            " 49%|████▊     | 584/1201 [00:27<00:20, 30.51it/s]"
          ]
        },
        {
          "output_type": "stream",
          "name": "stdout",
          "text": [
            "Iteration: 578 | disc_loss: -0.38680893182754517 | gen_loss: 0.17126433551311493\n",
            "Iteration: 579 | disc_loss: -0.38118529319763184 | gen_loss: 0.16589318215847015\n",
            "Iteration: 580 | disc_loss: -0.41736432909965515 | gen_loss: 0.2443995475769043\n",
            "Iteration: 581 | disc_loss: -0.38724929094314575 | gen_loss: 0.21144013106822968\n",
            "Iteration: 582 | disc_loss: -0.3901284337043762 | gen_loss: 0.2057620882987976\n",
            "Iteration: 583 | disc_loss: -0.3341315686702728 | gen_loss: 0.20565907657146454\n",
            "Iteration: 584 | disc_loss: -0.3459014594554901 | gen_loss: 0.18565380573272705\n"
          ]
        },
        {
          "output_type": "stream",
          "name": "stderr",
          "text": [
            " 49%|████▉     | 592/1201 [00:28<00:20, 30.04it/s]"
          ]
        },
        {
          "output_type": "stream",
          "name": "stdout",
          "text": [
            "Iteration: 585 | disc_loss: -0.3997865319252014 | gen_loss: 0.07937220484018326\n",
            "Iteration: 586 | disc_loss: -0.414229154586792 | gen_loss: 0.023944156244397163\n",
            "Iteration: 587 | disc_loss: -0.3764112889766693 | gen_loss: 0.0774037316441536\n",
            "Iteration: 588 | disc_loss: -0.39023032784461975 | gen_loss: 0.20089589059352875\n",
            "Iteration: 589 | disc_loss: -0.3895889222621918 | gen_loss: 0.18402360379695892\n",
            "Iteration: 590 | disc_loss: -0.38010817766189575 | gen_loss: 0.12063423544168472\n",
            "Iteration: 591 | disc_loss: -0.41923055052757263 | gen_loss: 0.1726423054933548\n"
          ]
        },
        {
          "output_type": "stream",
          "name": "stderr",
          "text": [
            "\r 50%|████▉     | 596/1201 [00:28<00:20, 30.12it/s]"
          ]
        },
        {
          "output_type": "stream",
          "name": "stdout",
          "text": [
            "Iteration: 592 | disc_loss: -0.38688018918037415 | gen_loss: 0.18593020737171173\n",
            "Iteration: 593 | disc_loss: -0.3959789276123047 | gen_loss: 0.10317230969667435\n",
            "Iteration: 594 | disc_loss: -0.37877485156059265 | gen_loss: 0.07697883993387222\n",
            "Iteration: 595 | disc_loss: -0.3992706537246704 | gen_loss: 0.14764785766601562\n",
            "Iteration: 596 | disc_loss: -0.36694103479385376 | gen_loss: 0.10318255424499512\n",
            "Iteration: 597 | disc_loss: -0.37704116106033325 | gen_loss: 0.23349134624004364\n",
            "Iteration: 598 | disc_loss: -0.3940451145172119 | gen_loss: 0.28827551007270813\n"
          ]
        },
        {
          "output_type": "stream",
          "name": "stderr",
          "text": [
            " 50%|█████     | 604/1201 [00:28<00:20, 29.53it/s]"
          ]
        },
        {
          "output_type": "stream",
          "name": "stdout",
          "text": [
            "Iteration: 599 | disc_loss: -0.3863391578197479 | gen_loss: 0.21377985179424286\n",
            "Iteration: 600 | disc_loss: -0.3702538013458252 | gen_loss: 0.2034541368484497\n",
            "Iteration: 601 | disc_loss: -0.33927851915359497 | gen_loss: 0.14371460676193237\n",
            "Iteration: 602 | disc_loss: -0.4023215174674988 | gen_loss: 0.17527751624584198\n",
            "Iteration: 603 | disc_loss: -0.2920724153518677 | gen_loss: 0.2539759874343872\n",
            "Iteration: 604 | disc_loss: -0.3899831175804138 | gen_loss: 0.16505305469036102\n"
          ]
        },
        {
          "output_type": "stream",
          "name": "stderr",
          "text": [
            " 51%|█████     | 612/1201 [00:28<00:19, 30.06it/s]"
          ]
        },
        {
          "output_type": "stream",
          "name": "stdout",
          "text": [
            "Iteration: 605 | disc_loss: -0.37554654479026794 | gen_loss: 0.17732375860214233\n",
            "Iteration: 606 | disc_loss: -0.3942209482192993 | gen_loss: 0.1048021912574768\n",
            "Iteration: 607 | disc_loss: -0.3790806233882904 | gen_loss: 0.07527758926153183\n",
            "Iteration: 608 | disc_loss: -0.3771730959415436 | gen_loss: 0.11315909028053284\n",
            "Iteration: 609 | disc_loss: -0.4571056067943573 | gen_loss: 0.12217745929956436\n",
            "Iteration: 610 | disc_loss: -0.3345269560813904 | gen_loss: 0.18615593016147614\n",
            "Iteration: 611 | disc_loss: -0.37353289127349854 | gen_loss: 0.1774623543024063\n"
          ]
        },
        {
          "output_type": "stream",
          "name": "stderr",
          "text": [
            "\r 51%|█████▏    | 616/1201 [00:28<00:19, 30.00it/s]"
          ]
        },
        {
          "output_type": "stream",
          "name": "stdout",
          "text": [
            "Iteration: 612 | disc_loss: -0.3939277231693268 | gen_loss: 0.19127456843852997\n",
            "Iteration: 613 | disc_loss: -0.3762318193912506 | gen_loss: 0.25243067741394043\n",
            "Iteration: 614 | disc_loss: -0.3920954763889313 | gen_loss: 0.12268736213445663\n",
            "Iteration: 615 | disc_loss: -0.366841584444046 | gen_loss: 0.049075644463300705\n",
            "Iteration: 616 | disc_loss: -0.3662828803062439 | gen_loss: 0.1412549763917923\n",
            "Iteration: 617 | disc_loss: -0.39656323194503784 | gen_loss: 0.22460877895355225\n",
            "Iteration: 618 | disc_loss: -0.378974050283432 | gen_loss: 0.25823456048965454\n"
          ]
        },
        {
          "output_type": "stream",
          "name": "stderr",
          "text": [
            " 52%|█████▏    | 624/1201 [00:29<00:19, 30.21it/s]"
          ]
        },
        {
          "output_type": "stream",
          "name": "stdout",
          "text": [
            "Iteration: 619 | disc_loss: -0.3790871500968933 | gen_loss: 0.18374191224575043\n",
            "Iteration: 620 | disc_loss: -0.37576642632484436 | gen_loss: 0.13575555384159088\n",
            "Iteration: 621 | disc_loss: -0.3853401839733124 | gen_loss: 0.11995745450258255\n",
            "Iteration: 622 | disc_loss: -0.3549112379550934 | gen_loss: 0.19843198359012604\n",
            "Iteration: 623 | disc_loss: -0.37354788184165955 | gen_loss: 0.13665033876895905\n",
            "Iteration: 624 | disc_loss: -0.34761589765548706 | gen_loss: 0.14549793303012848\n",
            "Iteration: 625 | disc_loss: -0.38970324397087097 | gen_loss: 0.11897167563438416\n"
          ]
        },
        {
          "output_type": "stream",
          "name": "stderr",
          "text": [
            " 53%|█████▎    | 632/1201 [00:29<00:18, 30.59it/s]"
          ]
        },
        {
          "output_type": "stream",
          "name": "stdout",
          "text": [
            "Iteration: 626 | disc_loss: -0.40346774458885193 | gen_loss: 0.12102853506803513\n",
            "Iteration: 627 | disc_loss: -0.41134265065193176 | gen_loss: 0.2243841290473938\n",
            "Iteration: 628 | disc_loss: -0.38836878538131714 | gen_loss: 0.2581981122493744\n",
            "Iteration: 629 | disc_loss: -0.34416669607162476 | gen_loss: 0.20980031788349152\n",
            "Iteration: 630 | disc_loss: -0.39115872979164124 | gen_loss: 0.2286045104265213\n",
            "Iteration: 631 | disc_loss: -0.4173853397369385 | gen_loss: 0.25108346343040466\n",
            "Iteration: 632 | disc_loss: -0.382024347782135 | gen_loss: 0.22399283945560455\n"
          ]
        },
        {
          "output_type": "stream",
          "name": "stderr",
          "text": [
            " 53%|█████▎    | 640/1201 [00:29<00:18, 30.39it/s]"
          ]
        },
        {
          "output_type": "stream",
          "name": "stdout",
          "text": [
            "Iteration: 633 | disc_loss: -0.38944828510284424 | gen_loss: 0.2453784942626953\n",
            "Iteration: 634 | disc_loss: -0.366614431142807 | gen_loss: 0.25012725591659546\n",
            "Iteration: 635 | disc_loss: -0.3537534773349762 | gen_loss: 0.14694079756736755\n",
            "Iteration: 636 | disc_loss: -0.3987932801246643 | gen_loss: 0.07319913059473038\n",
            "Iteration: 637 | disc_loss: -0.38957247138023376 | gen_loss: 0.05277491733431816\n",
            "Iteration: 638 | disc_loss: -0.38754361867904663 | gen_loss: 0.15202829241752625\n",
            "Iteration: 639 | disc_loss: -0.38609060645103455 | gen_loss: 0.09793531149625778\n"
          ]
        },
        {
          "output_type": "stream",
          "name": "stderr",
          "text": [
            "\r 54%|█████▎    | 644/1201 [00:29<00:18, 30.01it/s]"
          ]
        },
        {
          "output_type": "stream",
          "name": "stdout",
          "text": [
            "Iteration: 640 | disc_loss: -0.39554187655448914 | gen_loss: 0.14119410514831543\n",
            "Iteration: 641 | disc_loss: -0.3568462133407593 | gen_loss: 0.11234880238771439\n",
            "Iteration: 642 | disc_loss: -0.39588189125061035 | gen_loss: 0.12833215296268463\n",
            "Iteration: 643 | disc_loss: -0.3842589259147644 | gen_loss: 0.12847623229026794\n",
            "Iteration: 644 | disc_loss: -0.3684312701225281 | gen_loss: 0.34103432297706604\n",
            "Iteration: 645 | disc_loss: -0.38072988390922546 | gen_loss: 0.2719596028327942\n",
            "Iteration: 646 | disc_loss: -0.33620601892471313 | gen_loss: 0.17066603899002075\n"
          ]
        },
        {
          "output_type": "stream",
          "name": "stderr",
          "text": [
            " 54%|█████▍    | 651/1201 [00:30<00:18, 29.16it/s]"
          ]
        },
        {
          "output_type": "stream",
          "name": "stdout",
          "text": [
            "Iteration: 647 | disc_loss: -0.4339836835861206 | gen_loss: 0.20365466177463531\n",
            "Iteration: 648 | disc_loss: -0.39146414399147034 | gen_loss: 0.1499963253736496\n",
            "Iteration: 649 | disc_loss: -0.38042593002319336 | gen_loss: 0.02733672223985195\n",
            "Iteration: 650 | disc_loss: -0.3562825620174408 | gen_loss: 0.05921834707260132\n",
            "Iteration: 651 | disc_loss: -0.40271899104118347 | gen_loss: 0.12800796329975128\n",
            "Iteration: 652 | disc_loss: -0.407135009765625 | gen_loss: 0.26485610008239746\n"
          ]
        },
        {
          "output_type": "stream",
          "name": "stderr",
          "text": [
            " 55%|█████▍    | 657/1201 [00:30<00:20, 26.52it/s]"
          ]
        },
        {
          "output_type": "stream",
          "name": "stdout",
          "text": [
            "Iteration: 653 | disc_loss: -0.3901955783367157 | gen_loss: 0.24847905337810516\n",
            "Iteration: 654 | disc_loss: -0.35780584812164307 | gen_loss: 0.2414618730545044\n",
            "Iteration: 655 | disc_loss: -0.3901582658290863 | gen_loss: 0.17063893377780914\n",
            "Iteration: 656 | disc_loss: -0.39939945936203003 | gen_loss: 0.1498517543077469\n",
            "Iteration: 657 | disc_loss: -0.3990461230278015 | gen_loss: 0.0397283136844635\n"
          ]
        },
        {
          "output_type": "stream",
          "name": "stderr",
          "text": [
            " 55%|█████▌    | 663/1201 [00:30<00:24, 22.39it/s]"
          ]
        },
        {
          "output_type": "stream",
          "name": "stdout",
          "text": [
            "Iteration: 658 | disc_loss: -0.34867721796035767 | gen_loss: 0.05981765687465668\n",
            "Iteration: 659 | disc_loss: -0.37501731514930725 | gen_loss: 0.14575916528701782\n",
            "Iteration: 660 | disc_loss: -0.38688212633132935 | gen_loss: 0.14315152168273926\n",
            "Iteration: 661 | disc_loss: -0.40205302834510803 | gen_loss: 0.28135618567466736\n",
            "Iteration: 662 | disc_loss: -0.35954540967941284 | gen_loss: 0.30538609623908997\n"
          ]
        },
        {
          "output_type": "stream",
          "name": "stderr",
          "text": [
            "\r 55%|█████▌    | 666/1201 [00:30<00:26, 20.46it/s]"
          ]
        },
        {
          "output_type": "stream",
          "name": "stdout",
          "text": [
            "Iteration: 663 | disc_loss: -0.36904940009117126 | gen_loss: 0.2172689437866211\n",
            "Iteration: 664 | disc_loss: -0.38861382007598877 | gen_loss: 0.19980072975158691\n",
            "Iteration: 665 | disc_loss: -0.37707194685935974 | gen_loss: 0.21718735992908478\n",
            "Iteration: 666 | disc_loss: -0.3732800781726837 | gen_loss: 0.21945226192474365\n"
          ]
        },
        {
          "output_type": "stream",
          "name": "stderr",
          "text": [
            "\r 56%|█████▌    | 669/1201 [00:31<00:26, 19.81it/s]"
          ]
        },
        {
          "output_type": "stream",
          "name": "stdout",
          "text": [
            "Iteration: 667 | disc_loss: -0.36101844906806946 | gen_loss: 0.17917649447917938\n",
            "Iteration: 668 | disc_loss: -0.35942503809928894 | gen_loss: 0.25723764300346375\n",
            "Iteration: 669 | disc_loss: -0.3837496042251587 | gen_loss: 0.17945951223373413\n",
            "Iteration: 670 | disc_loss: -0.3889946937561035 | gen_loss: 0.19368357956409454\n"
          ]
        },
        {
          "output_type": "stream",
          "name": "stderr",
          "text": [
            " 56%|█████▌    | 674/1201 [00:31<00:27, 18.92it/s]"
          ]
        },
        {
          "output_type": "stream",
          "name": "stdout",
          "text": [
            "Iteration: 671 | disc_loss: -0.33971911668777466 | gen_loss: 0.18026776611804962\n",
            "Iteration: 672 | disc_loss: -0.366410493850708 | gen_loss: 0.15169619023799896\n",
            "Iteration: 673 | disc_loss: -0.377453088760376 | gen_loss: 0.0717257633805275\n",
            "Iteration: 674 | disc_loss: -0.40537601709365845 | gen_loss: 0.136990487575531\n"
          ]
        },
        {
          "output_type": "stream",
          "name": "stderr",
          "text": [
            " 56%|█████▋    | 678/1201 [00:31<00:28, 18.62it/s]"
          ]
        },
        {
          "output_type": "stream",
          "name": "stdout",
          "text": [
            "Iteration: 675 | disc_loss: -0.39119845628738403 | gen_loss: 0.17354117333889008\n",
            "Iteration: 676 | disc_loss: -0.37040844559669495 | gen_loss: 0.1550808697938919\n",
            "Iteration: 677 | disc_loss: -0.38794568181037903 | gen_loss: 0.20813977718353271\n",
            "Iteration: 678 | disc_loss: -0.3436110019683838 | gen_loss: 0.20593146979808807\n"
          ]
        },
        {
          "output_type": "stream",
          "name": "stderr",
          "text": [
            " 57%|█████▋    | 682/1201 [00:31<00:27, 18.59it/s]"
          ]
        },
        {
          "output_type": "stream",
          "name": "stdout",
          "text": [
            "Iteration: 679 | disc_loss: -0.4065423011779785 | gen_loss: 0.12229299545288086\n",
            "Iteration: 680 | disc_loss: -0.3911168873310089 | gen_loss: 0.061043545603752136\n",
            "Iteration: 681 | disc_loss: -0.37874630093574524 | gen_loss: 0.19221101701259613\n",
            "Iteration: 682 | disc_loss: -0.378567099571228 | gen_loss: 0.25942113995552063\n"
          ]
        },
        {
          "output_type": "stream",
          "name": "stderr",
          "text": [
            " 57%|█████▋    | 686/1201 [00:31<00:28, 17.88it/s]"
          ]
        },
        {
          "output_type": "stream",
          "name": "stdout",
          "text": [
            "Iteration: 683 | disc_loss: -0.3939897119998932 | gen_loss: 0.32474690675735474\n",
            "Iteration: 684 | disc_loss: -0.3839872479438782 | gen_loss: 0.2940461337566376\n",
            "Iteration: 685 | disc_loss: -0.38679733872413635 | gen_loss: 0.23543722927570343\n",
            "Iteration: 686 | disc_loss: -0.40208700299263 | gen_loss: 0.2260122448205948\n"
          ]
        },
        {
          "output_type": "stream",
          "name": "stderr",
          "text": [
            " 57%|█████▋    | 690/1201 [00:32<00:28, 18.20it/s]"
          ]
        },
        {
          "output_type": "stream",
          "name": "stdout",
          "text": [
            "Iteration: 687 | disc_loss: -0.3587857782840729 | gen_loss: 0.18775220215320587\n",
            "Iteration: 688 | disc_loss: -0.3661668598651886 | gen_loss: 0.1666949987411499\n",
            "Iteration: 689 | disc_loss: -0.30760347843170166 | gen_loss: 0.16851717233657837\n",
            "Iteration: 690 | disc_loss: -0.35125523805618286 | gen_loss: 0.17102186381816864\n"
          ]
        },
        {
          "output_type": "stream",
          "name": "stderr",
          "text": [
            " 58%|█████▊    | 694/1201 [00:32<00:26, 18.80it/s]"
          ]
        },
        {
          "output_type": "stream",
          "name": "stdout",
          "text": [
            "Iteration: 691 | disc_loss: -0.36965665221214294 | gen_loss: 0.1797390729188919\n",
            "Iteration: 692 | disc_loss: -0.39242273569107056 | gen_loss: 0.15617167949676514\n",
            "Iteration: 693 | disc_loss: -0.364808589220047 | gen_loss: 0.20814712345600128\n",
            "Iteration: 694 | disc_loss: -0.3646664321422577 | gen_loss: 0.13175620138645172\n"
          ]
        },
        {
          "output_type": "stream",
          "name": "stderr",
          "text": [
            " 58%|█████▊    | 698/1201 [00:32<00:26, 19.10it/s]"
          ]
        },
        {
          "output_type": "stream",
          "name": "stdout",
          "text": [
            "Iteration: 695 | disc_loss: -0.39422115683555603 | gen_loss: 0.07642143964767456\n",
            "Iteration: 696 | disc_loss: -0.39002007246017456 | gen_loss: 0.1151168942451477\n",
            "Iteration: 697 | disc_loss: -0.3999876081943512 | gen_loss: 0.05465051531791687\n",
            "Iteration: 698 | disc_loss: -0.3810668885707855 | gen_loss: 0.1813821792602539\n"
          ]
        },
        {
          "output_type": "stream",
          "name": "stderr",
          "text": [
            " 58%|█████▊    | 702/1201 [00:32<00:27, 17.90it/s]"
          ]
        },
        {
          "output_type": "stream",
          "name": "stdout",
          "text": [
            "Iteration: 699 | disc_loss: -0.38266894221305847 | gen_loss: 0.18951672315597534\n",
            "Iteration: 700 | disc_loss: -0.3690623939037323 | gen_loss: 0.24487590789794922\n",
            "Iteration: 701 | disc_loss: -0.38113734126091003 | gen_loss: 0.32920050621032715\n",
            "Iteration: 702 | disc_loss: -0.3687916100025177 | gen_loss: 0.258663535118103\n"
          ]
        },
        {
          "output_type": "stream",
          "name": "stderr",
          "text": [
            " 59%|█████▉    | 706/1201 [00:33<00:28, 17.51it/s]"
          ]
        },
        {
          "output_type": "stream",
          "name": "stdout",
          "text": [
            "Iteration: 703 | disc_loss: -0.3630971312522888 | gen_loss: 0.21543149650096893\n",
            "Iteration: 704 | disc_loss: -0.3888746500015259 | gen_loss: 0.16821922361850739\n",
            "Iteration: 705 | disc_loss: -0.33771035075187683 | gen_loss: 0.26905369758605957\n",
            "Iteration: 706 | disc_loss: -0.3816811144351959 | gen_loss: 0.24550826847553253\n"
          ]
        },
        {
          "output_type": "stream",
          "name": "stderr",
          "text": [
            " 59%|█████▉    | 710/1201 [00:33<00:27, 17.56it/s]"
          ]
        },
        {
          "output_type": "stream",
          "name": "stdout",
          "text": [
            "Iteration: 707 | disc_loss: -0.36643368005752563 | gen_loss: 0.17030419409275055\n",
            "Iteration: 708 | disc_loss: -0.3837870955467224 | gen_loss: 0.22618252038955688\n",
            "Iteration: 709 | disc_loss: -0.30043506622314453 | gen_loss: 0.20470984280109406\n",
            "Iteration: 710 | disc_loss: -0.3913035988807678 | gen_loss: 0.21168078482151031\n"
          ]
        },
        {
          "output_type": "stream",
          "name": "stderr",
          "text": [
            " 59%|█████▉    | 714/1201 [00:33<00:27, 17.85it/s]"
          ]
        },
        {
          "output_type": "stream",
          "name": "stdout",
          "text": [
            "Iteration: 711 | disc_loss: -0.38248786330223083 | gen_loss: 0.18982310593128204\n",
            "Iteration: 712 | disc_loss: -0.36788007616996765 | gen_loss: 0.2234131097793579\n",
            "Iteration: 713 | disc_loss: -0.3308534026145935 | gen_loss: 0.23208852112293243\n",
            "Iteration: 714 | disc_loss: -0.4013410806655884 | gen_loss: 0.10986114293336868\n"
          ]
        },
        {
          "output_type": "stream",
          "name": "stderr",
          "text": [
            " 60%|█████▉    | 719/1201 [00:33<00:25, 18.80it/s]"
          ]
        },
        {
          "output_type": "stream",
          "name": "stdout",
          "text": [
            "Iteration: 715 | disc_loss: -0.3497394025325775 | gen_loss: 0.12128033488988876\n",
            "Iteration: 716 | disc_loss: -0.36173802614212036 | gen_loss: 0.11274252086877823\n",
            "Iteration: 717 | disc_loss: -0.3760789930820465 | gen_loss: 0.1922062188386917\n",
            "Iteration: 718 | disc_loss: -0.30617600679397583 | gen_loss: 0.29896172881126404\n"
          ]
        },
        {
          "output_type": "stream",
          "name": "stderr",
          "text": [
            " 60%|██████    | 723/1201 [00:34<00:26, 18.33it/s]"
          ]
        },
        {
          "output_type": "stream",
          "name": "stdout",
          "text": [
            "Iteration: 719 | disc_loss: -0.38603881001472473 | gen_loss: 0.3143077492713928\n",
            "Iteration: 720 | disc_loss: -0.36885005235671997 | gen_loss: 0.22093570232391357\n",
            "Iteration: 721 | disc_loss: -0.34699496626853943 | gen_loss: 0.21578824520111084\n",
            "Iteration: 722 | disc_loss: -0.38551002740859985 | gen_loss: 0.15025092661380768\n"
          ]
        },
        {
          "output_type": "stream",
          "name": "stderr",
          "text": [
            " 61%|██████    | 727/1201 [00:34<00:25, 18.66it/s]"
          ]
        },
        {
          "output_type": "stream",
          "name": "stdout",
          "text": [
            "Iteration: 723 | disc_loss: -0.3955131471157074 | gen_loss: 0.1257091760635376\n",
            "Iteration: 724 | disc_loss: -0.41488540172576904 | gen_loss: 0.12478538602590561\n",
            "Iteration: 725 | disc_loss: -0.40649616718292236 | gen_loss: 0.18611979484558105\n",
            "Iteration: 726 | disc_loss: -0.37286266684532166 | gen_loss: 0.26064276695251465\n"
          ]
        },
        {
          "output_type": "stream",
          "name": "stderr",
          "text": [
            " 61%|██████    | 731/1201 [00:34<00:25, 18.70it/s]"
          ]
        },
        {
          "output_type": "stream",
          "name": "stdout",
          "text": [
            "Iteration: 727 | disc_loss: -0.3665633499622345 | gen_loss: 0.1713417023420334\n",
            "Iteration: 728 | disc_loss: -0.3689434826374054 | gen_loss: 0.11710777133703232\n",
            "Iteration: 729 | disc_loss: -0.39547809958457947 | gen_loss: 0.19914205372333527\n",
            "Iteration: 730 | disc_loss: -0.4018956124782562 | gen_loss: 0.19544322788715363\n"
          ]
        },
        {
          "output_type": "stream",
          "name": "stderr",
          "text": [
            " 61%|██████    | 735/1201 [00:34<00:24, 18.78it/s]"
          ]
        },
        {
          "output_type": "stream",
          "name": "stdout",
          "text": [
            "Iteration: 731 | disc_loss: -0.37715867161750793 | gen_loss: 0.16540110111236572\n",
            "Iteration: 732 | disc_loss: -0.39709436893463135 | gen_loss: 0.14316418766975403\n",
            "Iteration: 733 | disc_loss: -0.41438212990760803 | gen_loss: 0.23234479129314423\n",
            "Iteration: 734 | disc_loss: -0.3406009078025818 | gen_loss: 0.2830689251422882\n"
          ]
        },
        {
          "output_type": "stream",
          "name": "stderr",
          "text": [
            " 62%|██████▏   | 739/1201 [00:34<00:24, 18.98it/s]"
          ]
        },
        {
          "output_type": "stream",
          "name": "stdout",
          "text": [
            "Iteration: 735 | disc_loss: -0.42243269085884094 | gen_loss: 0.32392969727516174\n",
            "Iteration: 736 | disc_loss: -0.33988022804260254 | gen_loss: 0.2747304141521454\n",
            "Iteration: 737 | disc_loss: -0.3527207672595978 | gen_loss: 0.2063550502061844\n",
            "Iteration: 738 | disc_loss: -0.34577733278274536 | gen_loss: 0.14786405861377716\n"
          ]
        },
        {
          "output_type": "stream",
          "name": "stderr",
          "text": [
            " 62%|██████▏   | 743/1201 [00:35<00:24, 18.65it/s]"
          ]
        },
        {
          "output_type": "stream",
          "name": "stdout",
          "text": [
            "Iteration: 739 | disc_loss: -0.3635241687297821 | gen_loss: 0.16083912551403046\n",
            "Iteration: 740 | disc_loss: -0.32286369800567627 | gen_loss: 0.097653329372406\n",
            "Iteration: 741 | disc_loss: -0.39837101101875305 | gen_loss: 0.12562550604343414\n",
            "Iteration: 742 | disc_loss: -0.3912222981452942 | gen_loss: 0.19333232939243317\n"
          ]
        },
        {
          "output_type": "stream",
          "name": "stderr",
          "text": [
            " 62%|██████▏   | 747/1201 [00:35<00:24, 18.82it/s]"
          ]
        },
        {
          "output_type": "stream",
          "name": "stdout",
          "text": [
            "Iteration: 743 | disc_loss: -0.41385212540626526 | gen_loss: 0.3263835310935974\n",
            "Iteration: 744 | disc_loss: -0.3864435851573944 | gen_loss: 0.2922370433807373\n",
            "Iteration: 745 | disc_loss: -0.4356766641139984 | gen_loss: 0.15549294650554657\n",
            "Iteration: 746 | disc_loss: -0.3669230341911316 | gen_loss: 0.09615787863731384\n"
          ]
        },
        {
          "output_type": "stream",
          "name": "stderr",
          "text": [
            " 63%|██████▎   | 752/1201 [00:35<00:20, 22.02it/s]"
          ]
        },
        {
          "output_type": "stream",
          "name": "stdout",
          "text": [
            "Iteration: 747 | disc_loss: -0.3632814288139343 | gen_loss: 0.163922980427742\n",
            "Iteration: 748 | disc_loss: -0.35491159558296204 | gen_loss: 0.18488068878650665\n",
            "Iteration: 749 | disc_loss: -0.3361552655696869 | gen_loss: 0.18352019786834717\n",
            "Iteration: 750 | disc_loss: -0.38685882091522217 | gen_loss: 0.14297915995121002\n",
            "Iteration: 751 | disc_loss: -0.4030812084674835 | gen_loss: 0.1496790498495102\n",
            "Iteration: 752 | disc_loss: -0.3807116150856018 | gen_loss: 0.26909032464027405\n"
          ]
        },
        {
          "output_type": "stream",
          "name": "stderr",
          "text": [
            " 63%|██████▎   | 759/1201 [00:35<00:16, 26.18it/s]"
          ]
        },
        {
          "output_type": "stream",
          "name": "stdout",
          "text": [
            "Iteration: 753 | disc_loss: -0.40178483724594116 | gen_loss: 0.3778257668018341\n",
            "Iteration: 754 | disc_loss: -0.39526277780532837 | gen_loss: 0.14290545880794525\n",
            "Iteration: 755 | disc_loss: -0.37199828028678894 | gen_loss: 0.23052382469177246\n",
            "Iteration: 756 | disc_loss: -0.3743393123149872 | gen_loss: 0.23025977611541748\n",
            "Iteration: 757 | disc_loss: -0.3984646797180176 | gen_loss: 0.19182933866977692\n",
            "Iteration: 758 | disc_loss: -0.37970981001853943 | gen_loss: 0.18913941085338593\n",
            "Iteration: 759 | disc_loss: -0.3882351815700531 | gen_loss: 0.2733822166919708\n"
          ]
        },
        {
          "output_type": "stream",
          "name": "stderr",
          "text": [
            " 64%|██████▍   | 766/1201 [00:35<00:15, 28.09it/s]"
          ]
        },
        {
          "output_type": "stream",
          "name": "stdout",
          "text": [
            "Iteration: 760 | disc_loss: -0.3765503466129303 | gen_loss: 0.23948316276073456\n",
            "Iteration: 761 | disc_loss: -0.3971601724624634 | gen_loss: 0.18854396045207977\n",
            "Iteration: 762 | disc_loss: -0.3843725919723511 | gen_loss: 0.2468612939119339\n",
            "Iteration: 763 | disc_loss: -0.37016838788986206 | gen_loss: 0.26331087946891785\n",
            "Iteration: 764 | disc_loss: -0.404813677072525 | gen_loss: 0.22586245834827423\n",
            "Iteration: 765 | disc_loss: -0.34071141481399536 | gen_loss: 0.26197609305381775\n",
            "Iteration: 766 | disc_loss: -0.3826307952404022 | gen_loss: 0.17599426209926605\n"
          ]
        },
        {
          "output_type": "stream",
          "name": "stderr",
          "text": [
            " 64%|██████▍   | 774/1201 [00:36<00:14, 30.07it/s]"
          ]
        },
        {
          "output_type": "stream",
          "name": "stdout",
          "text": [
            "Iteration: 767 | disc_loss: -0.3921717703342438 | gen_loss: 0.20097284018993378\n",
            "Iteration: 768 | disc_loss: -0.37247973680496216 | gen_loss: 0.1708052158355713\n",
            "Iteration: 769 | disc_loss: -0.3799079656600952 | gen_loss: 0.0361243300139904\n",
            "Iteration: 770 | disc_loss: -0.369431734085083 | gen_loss: 0.19357047975063324\n",
            "Iteration: 771 | disc_loss: -0.4024295210838318 | gen_loss: 0.283490926027298\n",
            "Iteration: 772 | disc_loss: -0.3863424062728882 | gen_loss: 0.40906426310539246\n",
            "Iteration: 773 | disc_loss: -0.3716449439525604 | gen_loss: 0.3099372386932373\n"
          ]
        },
        {
          "output_type": "stream",
          "name": "stderr",
          "text": [
            " 65%|██████▍   | 780/1201 [00:36<00:14, 29.15it/s]"
          ]
        },
        {
          "output_type": "stream",
          "name": "stdout",
          "text": [
            "Iteration: 774 | disc_loss: -0.3971240222454071 | gen_loss: 0.247910276055336\n",
            "Iteration: 775 | disc_loss: -0.3923730254173279 | gen_loss: 0.20136630535125732\n",
            "Iteration: 776 | disc_loss: -0.3744231164455414 | gen_loss: 0.21171075105667114\n",
            "Iteration: 777 | disc_loss: -0.37887585163116455 | gen_loss: 0.24600869417190552\n",
            "Iteration: 778 | disc_loss: -0.38407233357429504 | gen_loss: 0.23297297954559326\n",
            "Iteration: 779 | disc_loss: -0.411103218793869 | gen_loss: 0.18607068061828613\n"
          ]
        },
        {
          "output_type": "stream",
          "name": "stderr",
          "text": [
            " 66%|██████▌   | 787/1201 [00:36<00:13, 30.07it/s]"
          ]
        },
        {
          "output_type": "stream",
          "name": "stdout",
          "text": [
            "Iteration: 780 | disc_loss: -0.37706318497657776 | gen_loss: 0.23499202728271484\n",
            "Iteration: 781 | disc_loss: -0.381783664226532 | gen_loss: 0.19413988292217255\n",
            "Iteration: 782 | disc_loss: -0.3567265272140503 | gen_loss: 0.2731415331363678\n",
            "Iteration: 783 | disc_loss: -0.3927959203720093 | gen_loss: 0.2077265977859497\n",
            "Iteration: 784 | disc_loss: -0.3817389905452728 | gen_loss: 0.24722616374492645\n",
            "Iteration: 785 | disc_loss: -0.3330066204071045 | gen_loss: 0.27766305208206177\n",
            "Iteration: 786 | disc_loss: -0.38875576853752136 | gen_loss: 0.19026760756969452\n"
          ]
        },
        {
          "output_type": "stream",
          "name": "stderr",
          "text": [
            " 66%|██████▌   | 793/1201 [00:36<00:13, 29.58it/s]"
          ]
        },
        {
          "output_type": "stream",
          "name": "stdout",
          "text": [
            "Iteration: 787 | disc_loss: -0.4428914487361908 | gen_loss: 0.16340208053588867\n",
            "Iteration: 788 | disc_loss: -0.3679179549217224 | gen_loss: 0.12116968631744385\n",
            "Iteration: 789 | disc_loss: -0.3145575225353241 | gen_loss: 0.20078545808792114\n",
            "Iteration: 790 | disc_loss: -0.4198938310146332 | gen_loss: 0.363443523645401\n",
            "Iteration: 791 | disc_loss: -0.363618403673172 | gen_loss: 0.3233974575996399\n",
            "Iteration: 792 | disc_loss: -0.35150253772735596 | gen_loss: 0.27154114842414856\n",
            "Iteration: 793 | disc_loss: -0.3546467125415802 | gen_loss: 0.2067747563123703\n"
          ]
        },
        {
          "output_type": "stream",
          "name": "stderr",
          "text": [
            " 67%|██████▋   | 799/1201 [00:37<00:13, 29.46it/s]"
          ]
        },
        {
          "output_type": "stream",
          "name": "stdout",
          "text": [
            "Iteration: 794 | disc_loss: -0.34865859150886536 | gen_loss: 0.2243926078081131\n",
            "Iteration: 795 | disc_loss: -0.36968135833740234 | gen_loss: 0.18210434913635254\n",
            "Iteration: 796 | disc_loss: -0.3507976531982422 | gen_loss: 0.18321017920970917\n",
            "Iteration: 797 | disc_loss: -0.4031675457954407 | gen_loss: 0.3114527463912964\n",
            "Iteration: 798 | disc_loss: -0.35599446296691895 | gen_loss: 0.22286765277385712\n",
            "Iteration: 799 | disc_loss: -0.36778324842453003 | gen_loss: 0.21005959808826447\n",
            "Iteration: 800 | disc_loss: -0.3663631081581116 | gen_loss: 0.16962361335754395\n"
          ]
        },
        {
          "output_type": "stream",
          "name": "stderr",
          "text": [
            " 67%|██████▋   | 805/1201 [00:37<00:13, 28.37it/s]"
          ]
        },
        {
          "output_type": "stream",
          "name": "stdout",
          "text": [
            "Iteration: 801 | disc_loss: -0.32503366470336914 | gen_loss: 0.11246216297149658\n",
            "Iteration: 802 | disc_loss: -0.4182767868041992 | gen_loss: 0.12095388025045395\n",
            "Iteration: 803 | disc_loss: -0.3816815912723541 | gen_loss: 0.22382871806621552\n",
            "Iteration: 804 | disc_loss: -0.4294854700565338 | gen_loss: 0.15177005529403687\n",
            "Iteration: 805 | disc_loss: -0.38672396540641785 | gen_loss: 0.260879248380661\n",
            "Iteration: 806 | disc_loss: -0.3847416043281555 | gen_loss: 0.2597528398036957\n",
            "Iteration: 807 | disc_loss: -0.39786696434020996 | gen_loss: 0.3818461000919342\n"
          ]
        },
        {
          "output_type": "stream",
          "name": "stderr",
          "text": [
            " 68%|██████▊   | 812/1201 [00:37<00:13, 28.17it/s]"
          ]
        },
        {
          "output_type": "stream",
          "name": "stdout",
          "text": [
            "Iteration: 808 | disc_loss: -0.42438632249832153 | gen_loss: 0.32432082295417786\n",
            "Iteration: 809 | disc_loss: -0.4115963280200958 | gen_loss: 0.24167244136333466\n",
            "Iteration: 810 | disc_loss: -0.3826916217803955 | gen_loss: 0.3350374400615692\n",
            "Iteration: 811 | disc_loss: -0.3303035497665405 | gen_loss: 0.20261599123477936\n",
            "Iteration: 812 | disc_loss: -0.3620612323284149 | gen_loss: 0.21159397065639496\n",
            "Iteration: 813 | disc_loss: -0.39190617203712463 | gen_loss: 0.1770068258047104\n",
            "Iteration: 814 | disc_loss: -0.402121901512146 | gen_loss: 0.21357055008411407\n"
          ]
        },
        {
          "output_type": "stream",
          "name": "stderr",
          "text": [
            " 68%|██████▊   | 820/1201 [00:37<00:12, 29.66it/s]"
          ]
        },
        {
          "output_type": "stream",
          "name": "stdout",
          "text": [
            "Iteration: 815 | disc_loss: -0.3549750745296478 | gen_loss: 0.2435026913881302\n",
            "Iteration: 816 | disc_loss: -0.4061715304851532 | gen_loss: 0.25208020210266113\n",
            "Iteration: 817 | disc_loss: -0.42261722683906555 | gen_loss: 0.12203443050384521\n",
            "Iteration: 818 | disc_loss: -0.3747090697288513 | gen_loss: 0.19840383529663086\n",
            "Iteration: 819 | disc_loss: -0.39065882563591003 | gen_loss: 0.13117225468158722\n",
            "Iteration: 820 | disc_loss: -0.34672853350639343 | gen_loss: 0.17355792224407196\n",
            "Iteration: 821 | disc_loss: -0.24896655976772308 | gen_loss: 0.3097812235355377\n"
          ]
        },
        {
          "output_type": "stream",
          "name": "stderr",
          "text": [
            " 69%|██████▉   | 826/1201 [00:38<00:12, 29.33it/s]"
          ]
        },
        {
          "output_type": "stream",
          "name": "stdout",
          "text": [
            "Iteration: 822 | disc_loss: -0.21317212283611298 | gen_loss: 0.3986494541168213\n",
            "Iteration: 823 | disc_loss: -0.35415562987327576 | gen_loss: 0.31876158714294434\n",
            "Iteration: 824 | disc_loss: -0.3441566228866577 | gen_loss: 0.32582738995552063\n",
            "Iteration: 825 | disc_loss: -0.3813348114490509 | gen_loss: 0.23732464015483856\n",
            "Iteration: 826 | disc_loss: -0.4106171727180481 | gen_loss: 0.16491703689098358\n",
            "Iteration: 827 | disc_loss: -0.3760489225387573 | gen_loss: 0.1543763130903244\n"
          ]
        },
        {
          "output_type": "stream",
          "name": "stderr",
          "text": [
            " 69%|██████▉   | 833/1201 [00:38<00:12, 29.82it/s]"
          ]
        },
        {
          "output_type": "stream",
          "name": "stdout",
          "text": [
            "Iteration: 828 | disc_loss: -0.37562429904937744 | gen_loss: 0.2431221753358841\n",
            "Iteration: 829 | disc_loss: -0.35314786434173584 | gen_loss: 0.3085882067680359\n",
            "Iteration: 830 | disc_loss: -0.39836132526397705 | gen_loss: 0.28877022862434387\n",
            "Iteration: 831 | disc_loss: -0.3731825649738312 | gen_loss: 0.2470758557319641\n",
            "Iteration: 832 | disc_loss: -0.3563932478427887 | gen_loss: 0.1867944747209549\n",
            "Iteration: 833 | disc_loss: -0.3823985457420349 | gen_loss: 0.20846961438655853\n",
            "Iteration: 834 | disc_loss: -0.3342176675796509 | gen_loss: 0.1689075231552124\n"
          ]
        },
        {
          "output_type": "stream",
          "name": "stderr",
          "text": [
            " 70%|██████▉   | 839/1201 [00:38<00:12, 28.69it/s]"
          ]
        },
        {
          "output_type": "stream",
          "name": "stdout",
          "text": [
            "Iteration: 835 | disc_loss: -0.37876594066619873 | gen_loss: 0.21373450756072998\n",
            "Iteration: 836 | disc_loss: -0.37745723128318787 | gen_loss: 0.24279086291790009\n",
            "Iteration: 837 | disc_loss: -0.38070133328437805 | gen_loss: 0.30416595935821533\n",
            "Iteration: 838 | disc_loss: -0.35334086418151855 | gen_loss: 0.2824070155620575\n",
            "Iteration: 839 | disc_loss: -0.4116409420967102 | gen_loss: 0.35832738876342773\n",
            "Iteration: 840 | disc_loss: -0.3592452108860016 | gen_loss: 0.2539752423763275\n"
          ]
        },
        {
          "output_type": "stream",
          "name": "stderr",
          "text": [
            " 70%|███████   | 846/1201 [00:38<00:12, 29.18it/s]"
          ]
        },
        {
          "output_type": "stream",
          "name": "stdout",
          "text": [
            "Iteration: 841 | disc_loss: -0.3460562229156494 | gen_loss: 0.22281043231487274\n",
            "Iteration: 842 | disc_loss: -0.4016128182411194 | gen_loss: 0.30380597710609436\n",
            "Iteration: 843 | disc_loss: -0.3591148555278778 | gen_loss: 0.30182698369026184\n",
            "Iteration: 844 | disc_loss: -0.3905567228794098 | gen_loss: 0.259088397026062\n",
            "Iteration: 845 | disc_loss: -0.2433047890663147 | gen_loss: 0.31126055121421814\n",
            "Iteration: 846 | disc_loss: -0.3839375674724579 | gen_loss: 0.23829364776611328\n",
            "Iteration: 847 | disc_loss: -0.4041880667209625 | gen_loss: 0.20609219372272491\n"
          ]
        },
        {
          "output_type": "stream",
          "name": "stderr",
          "text": [
            " 71%|███████   | 852/1201 [00:38<00:11, 29.35it/s]"
          ]
        },
        {
          "output_type": "stream",
          "name": "stdout",
          "text": [
            "Iteration: 848 | disc_loss: -0.39200296998023987 | gen_loss: 0.15358711779117584\n",
            "Iteration: 849 | disc_loss: -0.3957260847091675 | gen_loss: 0.14890283346176147\n",
            "Iteration: 850 | disc_loss: -0.3941313326358795 | gen_loss: 0.16542871296405792\n",
            "Iteration: 851 | disc_loss: -0.36808693408966064 | gen_loss: 0.18333788216114044\n",
            "Iteration: 852 | disc_loss: -0.4084618091583252 | gen_loss: 0.177317813038826\n",
            "Iteration: 853 | disc_loss: -0.38645222783088684 | gen_loss: 0.18228387832641602\n"
          ]
        },
        {
          "output_type": "stream",
          "name": "stderr",
          "text": [
            " 71%|███████▏  | 858/1201 [00:39<00:11, 28.85it/s]"
          ]
        },
        {
          "output_type": "stream",
          "name": "stdout",
          "text": [
            "Iteration: 854 | disc_loss: -0.40710464119911194 | gen_loss: 0.341638445854187\n",
            "Iteration: 855 | disc_loss: -0.4008152484893799 | gen_loss: 0.4431573152542114\n",
            "Iteration: 856 | disc_loss: -0.37107202410697937 | gen_loss: 0.32179105281829834\n",
            "Iteration: 857 | disc_loss: -0.38862964510917664 | gen_loss: 0.20567457377910614\n",
            "Iteration: 858 | disc_loss: -0.3640018701553345 | gen_loss: 0.21164828538894653\n",
            "Iteration: 859 | disc_loss: -0.39419496059417725 | gen_loss: 0.31287524104118347\n"
          ]
        },
        {
          "output_type": "stream",
          "name": "stderr",
          "text": [
            " 72%|███████▏  | 864/1201 [00:39<00:11, 29.01it/s]"
          ]
        },
        {
          "output_type": "stream",
          "name": "stdout",
          "text": [
            "Iteration: 860 | disc_loss: -0.3666115999221802 | gen_loss: 0.23721762001514435\n",
            "Iteration: 861 | disc_loss: -0.3480548560619354 | gen_loss: 0.31002333760261536\n",
            "Iteration: 862 | disc_loss: -0.24518543481826782 | gen_loss: 0.21771614253520966\n",
            "Iteration: 863 | disc_loss: -0.33109092712402344 | gen_loss: 0.22049282491207123\n",
            "Iteration: 864 | disc_loss: -0.40915006399154663 | gen_loss: 0.18787474930286407\n",
            "Iteration: 865 | disc_loss: -0.3647862374782562 | gen_loss: 0.2034970372915268\n"
          ]
        },
        {
          "output_type": "stream",
          "name": "stderr",
          "text": [
            " 72%|███████▏  | 870/1201 [00:39<00:11, 28.11it/s]"
          ]
        },
        {
          "output_type": "stream",
          "name": "stdout",
          "text": [
            "Iteration: 866 | disc_loss: -0.3518241345882416 | gen_loss: 0.2364286184310913\n",
            "Iteration: 867 | disc_loss: -0.363508939743042 | gen_loss: 0.22342748939990997\n",
            "Iteration: 868 | disc_loss: -0.4198184609413147 | gen_loss: 0.2269679307937622\n",
            "Iteration: 869 | disc_loss: -0.37213924527168274 | gen_loss: 0.26654237508773804\n",
            "Iteration: 870 | disc_loss: -0.35850897431373596 | gen_loss: 0.3268541395664215\n",
            "Iteration: 871 | disc_loss: -0.39407381415367126 | gen_loss: 0.28859320282936096\n"
          ]
        },
        {
          "output_type": "stream",
          "name": "stderr",
          "text": [
            " 73%|███████▎  | 876/1201 [00:39<00:11, 27.60it/s]"
          ]
        },
        {
          "output_type": "stream",
          "name": "stdout",
          "text": [
            "Iteration: 872 | disc_loss: -0.3923782706260681 | gen_loss: 0.31683745980262756\n",
            "Iteration: 873 | disc_loss: -0.3789595067501068 | gen_loss: 0.2616519629955292\n",
            "Iteration: 874 | disc_loss: -0.3611670434474945 | gen_loss: 0.2834400534629822\n",
            "Iteration: 875 | disc_loss: -0.4024592339992523 | gen_loss: 0.07709457725286484\n",
            "Iteration: 876 | disc_loss: -0.3636588454246521 | gen_loss: 0.28527942299842834\n",
            "Iteration: 877 | disc_loss: -0.35466644167900085 | gen_loss: 0.30653712153434753\n"
          ]
        },
        {
          "output_type": "stream",
          "name": "stderr",
          "text": [
            " 73%|███████▎  | 882/1201 [00:39<00:11, 27.82it/s]"
          ]
        },
        {
          "output_type": "stream",
          "name": "stdout",
          "text": [
            "Iteration: 878 | disc_loss: -0.37577950954437256 | gen_loss: 0.30317291617393494\n",
            "Iteration: 879 | disc_loss: -0.36674439907073975 | gen_loss: 0.29840102791786194\n",
            "Iteration: 880 | disc_loss: -0.3727583587169647 | gen_loss: 0.26508721709251404\n",
            "Iteration: 881 | disc_loss: -0.3597778379917145 | gen_loss: 0.24505507946014404\n",
            "Iteration: 882 | disc_loss: -0.3593038320541382 | gen_loss: 0.21940648555755615\n",
            "Iteration: 883 | disc_loss: -0.4012722671031952 | gen_loss: 0.19696108996868134\n"
          ]
        },
        {
          "output_type": "stream",
          "name": "stderr",
          "text": [
            " 74%|███████▍  | 888/1201 [00:40<00:11, 28.24it/s]"
          ]
        },
        {
          "output_type": "stream",
          "name": "stdout",
          "text": [
            "Iteration: 884 | disc_loss: -0.377993643283844 | gen_loss: 0.2278069257736206\n",
            "Iteration: 885 | disc_loss: -0.34019312262535095 | gen_loss: 0.3141023516654968\n",
            "Iteration: 886 | disc_loss: -0.41290637850761414 | gen_loss: 0.21295587718486786\n",
            "Iteration: 887 | disc_loss: -0.3525511622428894 | gen_loss: 0.2064058929681778\n",
            "Iteration: 888 | disc_loss: -0.36842501163482666 | gen_loss: 0.2048194855451584\n",
            "Iteration: 889 | disc_loss: -0.38877251744270325 | gen_loss: 0.2672511339187622\n"
          ]
        },
        {
          "output_type": "stream",
          "name": "stderr",
          "text": [
            " 74%|███████▍  | 894/1201 [00:40<00:10, 28.71it/s]"
          ]
        },
        {
          "output_type": "stream",
          "name": "stdout",
          "text": [
            "Iteration: 890 | disc_loss: -0.40044671297073364 | gen_loss: 0.2348307967185974\n",
            "Iteration: 891 | disc_loss: -0.39456573128700256 | gen_loss: 0.21981973946094513\n",
            "Iteration: 892 | disc_loss: -0.3675638735294342 | gen_loss: 0.24796538054943085\n",
            "Iteration: 893 | disc_loss: -0.39466825127601624 | gen_loss: 0.2542731761932373\n",
            "Iteration: 894 | disc_loss: -0.3816851079463959 | gen_loss: 0.2616139054298401\n",
            "Iteration: 895 | disc_loss: -0.36817216873168945 | gen_loss: 0.20329070091247559\n"
          ]
        },
        {
          "output_type": "stream",
          "name": "stderr",
          "text": [
            " 75%|███████▍  | 900/1201 [00:40<00:10, 27.43it/s]"
          ]
        },
        {
          "output_type": "stream",
          "name": "stdout",
          "text": [
            "Iteration: 896 | disc_loss: -0.3956069350242615 | gen_loss: 0.13408569991588593\n",
            "Iteration: 897 | disc_loss: -0.3850458264350891 | gen_loss: 0.21754276752471924\n",
            "Iteration: 898 | disc_loss: -0.3105570673942566 | gen_loss: 0.31139305233955383\n",
            "Iteration: 899 | disc_loss: -0.3461916148662567 | gen_loss: 0.3429203927516937\n",
            "Iteration: 900 | disc_loss: -0.3911149799823761 | gen_loss: 0.27206873893737793\n"
          ]
        },
        {
          "output_type": "stream",
          "name": "stderr",
          "text": [
            " 76%|███████▌  | 907/1201 [00:40<00:10, 27.81it/s]"
          ]
        },
        {
          "output_type": "stream",
          "name": "stdout",
          "text": [
            "Iteration: 901 | disc_loss: -0.4066835939884186 | gen_loss: 0.2781064212322235\n",
            "Iteration: 902 | disc_loss: -0.30655431747436523 | gen_loss: 0.2293521910905838\n",
            "Iteration: 903 | disc_loss: -0.394514799118042 | gen_loss: 0.17839723825454712\n",
            "Iteration: 904 | disc_loss: -0.3611724078655243 | gen_loss: 0.20392823219299316\n",
            "Iteration: 905 | disc_loss: -0.30160781741142273 | gen_loss: 0.26444992423057556\n",
            "Iteration: 906 | disc_loss: -0.34810778498649597 | gen_loss: 0.35308876633644104\n"
          ]
        },
        {
          "output_type": "stream",
          "name": "stderr",
          "text": [
            " 76%|███████▌  | 914/1201 [00:41<00:10, 28.66it/s]"
          ]
        },
        {
          "output_type": "stream",
          "name": "stdout",
          "text": [
            "Iteration: 907 | disc_loss: -0.37132728099823 | gen_loss: 0.1899459958076477\n",
            "Iteration: 908 | disc_loss: -0.33328282833099365 | gen_loss: 0.23219084739685059\n",
            "Iteration: 909 | disc_loss: -0.40337279438972473 | gen_loss: 0.2026597112417221\n",
            "Iteration: 910 | disc_loss: -0.35252854228019714 | gen_loss: 0.2661413848400116\n",
            "Iteration: 911 | disc_loss: -0.37247467041015625 | gen_loss: 0.23468495905399323\n",
            "Iteration: 912 | disc_loss: -0.41770991683006287 | gen_loss: 0.11959757655858994\n",
            "Iteration: 913 | disc_loss: -0.3757091760635376 | gen_loss: 0.24498653411865234\n"
          ]
        },
        {
          "output_type": "stream",
          "name": "stderr",
          "text": [
            " 77%|███████▋  | 921/1201 [00:41<00:09, 29.93it/s]"
          ]
        },
        {
          "output_type": "stream",
          "name": "stdout",
          "text": [
            "Iteration: 914 | disc_loss: -0.36764225363731384 | gen_loss: 0.2354319542646408\n",
            "Iteration: 915 | disc_loss: -0.38857802748680115 | gen_loss: 0.20197542011737823\n",
            "Iteration: 916 | disc_loss: -0.3890928626060486 | gen_loss: 0.189655140042305\n",
            "Iteration: 917 | disc_loss: -0.35915282368659973 | gen_loss: 0.26310083270072937\n",
            "Iteration: 918 | disc_loss: -0.3868425190448761 | gen_loss: 0.4178408086299896\n",
            "Iteration: 919 | disc_loss: -0.448724627494812 | gen_loss: 0.4768752157688141\n",
            "Iteration: 920 | disc_loss: -0.34093135595321655 | gen_loss: 0.36240068078041077\n"
          ]
        },
        {
          "output_type": "stream",
          "name": "stderr",
          "text": [
            " 77%|███████▋  | 927/1201 [00:41<00:09, 27.97it/s]"
          ]
        },
        {
          "output_type": "stream",
          "name": "stdout",
          "text": [
            "Iteration: 921 | disc_loss: -0.4081318974494934 | gen_loss: 0.2571887969970703\n",
            "Iteration: 922 | disc_loss: -0.36876094341278076 | gen_loss: 0.29133161902427673\n",
            "Iteration: 923 | disc_loss: -0.39166146516799927 | gen_loss: 0.2262967824935913\n",
            "Iteration: 924 | disc_loss: -0.341453492641449 | gen_loss: 0.22818171977996826\n",
            "Iteration: 925 | disc_loss: -0.3760775327682495 | gen_loss: 0.3428994417190552\n",
            "Iteration: 926 | disc_loss: -0.3888927698135376 | gen_loss: 0.1919291615486145\n"
          ]
        },
        {
          "output_type": "stream",
          "name": "stderr",
          "text": [
            " 78%|███████▊  | 934/1201 [00:41<00:09, 28.73it/s]"
          ]
        },
        {
          "output_type": "stream",
          "name": "stdout",
          "text": [
            "Iteration: 927 | disc_loss: -0.4154343903064728 | gen_loss: 0.13478851318359375\n",
            "Iteration: 928 | disc_loss: -0.4012422263622284 | gen_loss: 0.1938386708498001\n",
            "Iteration: 929 | disc_loss: -0.34779635071754456 | gen_loss: 0.16397209465503693\n",
            "Iteration: 930 | disc_loss: -0.33963072299957275 | gen_loss: 0.25182533264160156\n",
            "Iteration: 931 | disc_loss: -0.38264602422714233 | gen_loss: 0.2502051889896393\n",
            "Iteration: 932 | disc_loss: -0.40412637591362 | gen_loss: 0.2585330903530121\n",
            "Iteration: 933 | disc_loss: -0.34413424134254456 | gen_loss: 0.28666484355926514\n"
          ]
        },
        {
          "output_type": "stream",
          "name": "stderr",
          "text": [
            " 78%|███████▊  | 940/1201 [00:42<00:09, 27.78it/s]"
          ]
        },
        {
          "output_type": "stream",
          "name": "stdout",
          "text": [
            "Iteration: 934 | disc_loss: -0.3998834490776062 | gen_loss: 0.33943843841552734\n",
            "Iteration: 935 | disc_loss: -0.4231598973274231 | gen_loss: 0.4457894563674927\n",
            "Iteration: 936 | disc_loss: -0.34400495886802673 | gen_loss: 0.35433268547058105\n",
            "Iteration: 937 | disc_loss: -0.40018337965011597 | gen_loss: 0.26406267285346985\n",
            "Iteration: 938 | disc_loss: -0.3626435101032257 | gen_loss: 0.3240567743778229\n",
            "Iteration: 939 | disc_loss: -0.31482183933258057 | gen_loss: 0.27523481845855713\n"
          ]
        },
        {
          "output_type": "stream",
          "name": "stderr",
          "text": [
            " 79%|███████▉  | 947/1201 [00:42<00:08, 28.95it/s]"
          ]
        },
        {
          "output_type": "stream",
          "name": "stdout",
          "text": [
            "Iteration: 940 | disc_loss: -0.3684248924255371 | gen_loss: 0.25043371319770813\n",
            "Iteration: 941 | disc_loss: -0.3781013786792755 | gen_loss: 0.23809237778186798\n",
            "Iteration: 942 | disc_loss: -0.36680328845977783 | gen_loss: 0.2839052677154541\n",
            "Iteration: 943 | disc_loss: -0.40292540192604065 | gen_loss: 0.27238693833351135\n",
            "Iteration: 944 | disc_loss: -0.30765771865844727 | gen_loss: 0.28351619839668274\n",
            "Iteration: 945 | disc_loss: -0.40536606311798096 | gen_loss: 0.24506361782550812\n",
            "Iteration: 946 | disc_loss: -0.41265857219696045 | gen_loss: 0.18782703578472137\n"
          ]
        },
        {
          "output_type": "stream",
          "name": "stderr",
          "text": [
            " 79%|███████▉  | 954/1201 [00:42<00:08, 29.44it/s]"
          ]
        },
        {
          "output_type": "stream",
          "name": "stdout",
          "text": [
            "Iteration: 947 | disc_loss: -0.36131805181503296 | gen_loss: 0.21808765828609467\n",
            "Iteration: 948 | disc_loss: -0.3698468804359436 | gen_loss: 0.38017892837524414\n",
            "Iteration: 949 | disc_loss: -0.37488406896591187 | gen_loss: 0.42434239387512207\n",
            "Iteration: 950 | disc_loss: -0.3800203204154968 | gen_loss: 0.4365035593509674\n",
            "Iteration: 951 | disc_loss: -0.34735992550849915 | gen_loss: 0.2535196840763092\n",
            "Iteration: 952 | disc_loss: -0.35717886686325073 | gen_loss: 0.2912448048591614\n",
            "Iteration: 953 | disc_loss: -0.3664191961288452 | gen_loss: 0.25180956721305847\n"
          ]
        },
        {
          "output_type": "stream",
          "name": "stderr",
          "text": [
            " 80%|███████▉  | 960/1201 [00:42<00:08, 27.98it/s]"
          ]
        },
        {
          "output_type": "stream",
          "name": "stdout",
          "text": [
            "Iteration: 954 | disc_loss: -0.3613646924495697 | gen_loss: 0.22174741327762604\n",
            "Iteration: 955 | disc_loss: -0.38745197653770447 | gen_loss: 0.1527533084154129\n",
            "Iteration: 956 | disc_loss: -0.29799073934555054 | gen_loss: 0.3268013894557953\n",
            "Iteration: 957 | disc_loss: -0.37603849172592163 | gen_loss: 0.3562241792678833\n",
            "Iteration: 958 | disc_loss: -0.40003734827041626 | gen_loss: 0.33903875946998596\n",
            "Iteration: 959 | disc_loss: -0.35837581753730774 | gen_loss: 0.28406038880348206\n"
          ]
        },
        {
          "output_type": "stream",
          "name": "stderr",
          "text": [
            " 80%|████████  | 966/1201 [00:42<00:08, 28.08it/s]"
          ]
        },
        {
          "output_type": "stream",
          "name": "stdout",
          "text": [
            "Iteration: 960 | disc_loss: -0.3664979934692383 | gen_loss: 0.28178277611732483\n",
            "Iteration: 961 | disc_loss: -0.4001888334751129 | gen_loss: 0.2693330645561218\n",
            "Iteration: 962 | disc_loss: -0.3783982992172241 | gen_loss: 0.21821749210357666\n",
            "Iteration: 963 | disc_loss: -0.38994064927101135 | gen_loss: 0.32940998673439026\n",
            "Iteration: 964 | disc_loss: -0.3439960479736328 | gen_loss: 0.3275463581085205\n",
            "Iteration: 965 | disc_loss: -0.3907494843006134 | gen_loss: 0.25652214884757996\n"
          ]
        },
        {
          "output_type": "stream",
          "name": "stderr",
          "text": [
            " 81%|████████  | 973/1201 [00:43<00:07, 29.46it/s]"
          ]
        },
        {
          "output_type": "stream",
          "name": "stdout",
          "text": [
            "Iteration: 966 | disc_loss: -0.3910684287548065 | gen_loss: 0.2123861312866211\n",
            "Iteration: 967 | disc_loss: -0.37776172161102295 | gen_loss: 0.3238831162452698\n",
            "Iteration: 968 | disc_loss: -0.4031337797641754 | gen_loss: 0.20641322433948517\n",
            "Iteration: 969 | disc_loss: -0.41546082496643066 | gen_loss: 0.18166916072368622\n",
            "Iteration: 970 | disc_loss: -0.34215155243873596 | gen_loss: 0.16570661962032318\n",
            "Iteration: 971 | disc_loss: -0.3604446351528168 | gen_loss: 0.18645399808883667\n",
            "Iteration: 972 | disc_loss: -0.35189035534858704 | gen_loss: 0.3246839940547943\n"
          ]
        },
        {
          "output_type": "stream",
          "name": "stderr",
          "text": [
            " 82%|████████▏ | 980/1201 [00:43<00:07, 29.13it/s]"
          ]
        },
        {
          "output_type": "stream",
          "name": "stdout",
          "text": [
            "Iteration: 973 | disc_loss: -0.3670074939727783 | gen_loss: 0.2817307710647583\n",
            "Iteration: 974 | disc_loss: -0.41702431440353394 | gen_loss: 0.22367586195468903\n",
            "Iteration: 975 | disc_loss: -0.3424038290977478 | gen_loss: 0.2401328831911087\n",
            "Iteration: 976 | disc_loss: -0.4217863082885742 | gen_loss: 0.23295855522155762\n",
            "Iteration: 977 | disc_loss: -0.3593319058418274 | gen_loss: 0.36145201325416565\n",
            "Iteration: 978 | disc_loss: -0.37857216596603394 | gen_loss: 0.44846200942993164\n",
            "Iteration: 979 | disc_loss: -0.3569459617137909 | gen_loss: 0.3407607078552246\n"
          ]
        },
        {
          "output_type": "stream",
          "name": "stderr",
          "text": [
            " 82%|████████▏ | 986/1201 [00:43<00:07, 27.89it/s]"
          ]
        },
        {
          "output_type": "stream",
          "name": "stdout",
          "text": [
            "Iteration: 980 | disc_loss: -0.3670705258846283 | gen_loss: 0.27462509274482727\n",
            "Iteration: 981 | disc_loss: -0.39529794454574585 | gen_loss: 0.30984511971473694\n",
            "Iteration: 982 | disc_loss: -0.38061845302581787 | gen_loss: 0.23704440891742706\n",
            "Iteration: 983 | disc_loss: -0.32119235396385193 | gen_loss: 0.29339030385017395\n",
            "Iteration: 984 | disc_loss: -0.19366081058979034 | gen_loss: 0.3440631330013275\n",
            "Iteration: 985 | disc_loss: -0.4199857711791992 | gen_loss: 0.1887250542640686\n"
          ]
        },
        {
          "output_type": "stream",
          "name": "stderr",
          "text": [
            " 83%|████████▎ | 993/1201 [00:43<00:07, 29.27it/s]"
          ]
        },
        {
          "output_type": "stream",
          "name": "stdout",
          "text": [
            "Iteration: 986 | disc_loss: -0.3325517177581787 | gen_loss: 0.29144352674484253\n",
            "Iteration: 987 | disc_loss: -0.3766280710697174 | gen_loss: 0.2792086899280548\n",
            "Iteration: 988 | disc_loss: -0.3923764228820801 | gen_loss: 0.27479997277259827\n",
            "Iteration: 989 | disc_loss: -0.31656932830810547 | gen_loss: 0.2960904836654663\n",
            "Iteration: 990 | disc_loss: -0.3984713554382324 | gen_loss: 0.33542656898498535\n",
            "Iteration: 991 | disc_loss: -0.3627232611179352 | gen_loss: 0.3394568860530853\n",
            "Iteration: 992 | disc_loss: -0.37482014298439026 | gen_loss: 0.32762226462364197\n"
          ]
        },
        {
          "output_type": "stream",
          "name": "stderr",
          "text": [
            " 83%|████████▎ | 999/1201 [00:44<00:07, 28.74it/s]"
          ]
        },
        {
          "output_type": "stream",
          "name": "stdout",
          "text": [
            "Iteration: 993 | disc_loss: -0.3794070780277252 | gen_loss: 0.2909814715385437\n",
            "Iteration: 994 | disc_loss: -0.3717326521873474 | gen_loss: 0.27835336327552795\n",
            "Iteration: 995 | disc_loss: -0.3719155788421631 | gen_loss: 0.24892453849315643\n",
            "Iteration: 996 | disc_loss: -0.3299993872642517 | gen_loss: 0.29785260558128357\n",
            "Iteration: 997 | disc_loss: -0.41762807965278625 | gen_loss: 0.13302825391292572\n",
            "Iteration: 998 | disc_loss: -0.34380990266799927 | gen_loss: 0.21258187294006348\n"
          ]
        },
        {
          "output_type": "stream",
          "name": "stderr",
          "text": [
            " 84%|████████▎ | 1005/1201 [00:44<00:07, 27.87it/s]"
          ]
        },
        {
          "output_type": "stream",
          "name": "stdout",
          "text": [
            "Iteration: 999 | disc_loss: -0.4089261293411255 | gen_loss: 0.2040930986404419\n",
            "Iteration: 1000 | disc_loss: -0.38958296179771423 | gen_loss: 0.19350719451904297\n",
            "Iteration: 1001 | disc_loss: -0.3479806184768677 | gen_loss: 0.3091447949409485\n",
            "Iteration: 1002 | disc_loss: -0.3846656084060669 | gen_loss: 0.3712306022644043\n",
            "Iteration: 1003 | disc_loss: -0.37579232454299927 | gen_loss: 0.29363664984703064\n",
            "Iteration: 1004 | disc_loss: -0.3543098270893097 | gen_loss: 0.3313145339488983\n"
          ]
        },
        {
          "output_type": "stream",
          "name": "stderr",
          "text": [
            " 84%|████████▍ | 1012/1201 [00:44<00:06, 28.75it/s]"
          ]
        },
        {
          "output_type": "stream",
          "name": "stdout",
          "text": [
            "Iteration: 1005 | disc_loss: -0.3502451181411743 | gen_loss: 0.40699970722198486\n",
            "Iteration: 1006 | disc_loss: -0.4266582429409027 | gen_loss: 0.4679539203643799\n",
            "Iteration: 1007 | disc_loss: -0.36063116788864136 | gen_loss: 0.35064610838890076\n",
            "Iteration: 1008 | disc_loss: -0.3767193555831909 | gen_loss: 0.3441828787326813\n",
            "Iteration: 1009 | disc_loss: -0.36489465832710266 | gen_loss: 0.31150662899017334\n",
            "Iteration: 1010 | disc_loss: -0.28050893545150757 | gen_loss: 0.3106466233730316\n",
            "Iteration: 1011 | disc_loss: -0.36298272013664246 | gen_loss: 0.2982237637042999\n"
          ]
        },
        {
          "output_type": "stream",
          "name": "stderr",
          "text": [
            "\r 85%|████████▍ | 1015/1201 [00:44<00:06, 27.90it/s]"
          ]
        },
        {
          "output_type": "stream",
          "name": "stdout",
          "text": [
            "Iteration: 1012 | disc_loss: -0.3702404797077179 | gen_loss: 0.23653440177440643\n",
            "Iteration: 1013 | disc_loss: -0.38073503971099854 | gen_loss: 0.2844357490539551\n",
            "Iteration: 1014 | disc_loss: -0.388254314661026 | gen_loss: 0.2466692328453064\n",
            "Iteration: 1015 | disc_loss: -0.4040961265563965 | gen_loss: 0.25965893268585205\n",
            "Iteration: 1016 | disc_loss: -0.3896160423755646 | gen_loss: 0.3672342300415039\n",
            "Iteration: 1017 | disc_loss: -0.3932022452354431 | gen_loss: 0.3122940957546234\n"
          ]
        },
        {
          "output_type": "stream",
          "name": "stderr",
          "text": [
            " 85%|████████▌ | 1022/1201 [00:44<00:06, 28.18it/s]"
          ]
        },
        {
          "output_type": "stream",
          "name": "stdout",
          "text": [
            "Iteration: 1018 | disc_loss: -0.3908330202102661 | gen_loss: 0.2006419152021408\n",
            "Iteration: 1019 | disc_loss: -0.3139961063861847 | gen_loss: 0.21851597726345062\n",
            "Iteration: 1020 | disc_loss: -0.386760950088501 | gen_loss: 0.21605558693408966\n",
            "Iteration: 1021 | disc_loss: -0.3376525342464447 | gen_loss: 0.1692701131105423\n",
            "Iteration: 1022 | disc_loss: -0.3715207576751709 | gen_loss: 0.23774488270282745\n",
            "Iteration: 1023 | disc_loss: -0.36056265234947205 | gen_loss: 0.2464807629585266\n"
          ]
        },
        {
          "output_type": "stream",
          "name": "stderr",
          "text": [
            " 86%|████████▌ | 1028/1201 [00:45<00:06, 28.19it/s]"
          ]
        },
        {
          "output_type": "stream",
          "name": "stdout",
          "text": [
            "Iteration: 1024 | disc_loss: -0.3997167646884918 | gen_loss: 0.27098000049591064\n",
            "Iteration: 1025 | disc_loss: -0.3828376531600952 | gen_loss: 0.3818263113498688\n",
            "Iteration: 1026 | disc_loss: -0.35670197010040283 | gen_loss: 0.28641021251678467\n",
            "Iteration: 1027 | disc_loss: -0.37136775255203247 | gen_loss: 0.22769518196582794\n",
            "Iteration: 1028 | disc_loss: -0.4293869137763977 | gen_loss: 0.17301972210407257\n",
            "Iteration: 1029 | disc_loss: -0.3944552540779114 | gen_loss: 0.17841768264770508\n",
            "Iteration: 1030 | disc_loss: -0.35231077671051025 | gen_loss: 0.3352889120578766\n"
          ]
        },
        {
          "output_type": "stream",
          "name": "stderr",
          "text": [
            " 86%|████████▌ | 1035/1201 [00:45<00:05, 28.85it/s]"
          ]
        },
        {
          "output_type": "stream",
          "name": "stdout",
          "text": [
            "Iteration: 1031 | disc_loss: -0.3931315243244171 | gen_loss: 0.33656248450279236\n",
            "Iteration: 1032 | disc_loss: -0.37442606687545776 | gen_loss: 0.3891258239746094\n",
            "Iteration: 1033 | disc_loss: -0.377529114484787 | gen_loss: 0.30946099758148193\n",
            "Iteration: 1034 | disc_loss: -0.3720473349094391 | gen_loss: 0.3090970516204834\n",
            "Iteration: 1035 | disc_loss: -0.3466399312019348 | gen_loss: 0.36225780844688416\n"
          ]
        },
        {
          "output_type": "stream",
          "name": "stderr",
          "text": [
            "\r 86%|████████▋ | 1038/1201 [00:45<00:06, 25.15it/s]"
          ]
        },
        {
          "output_type": "stream",
          "name": "stdout",
          "text": [
            "Iteration: 1036 | disc_loss: -0.3682801425457001 | gen_loss: 0.36012884974479675\n",
            "Iteration: 1037 | disc_loss: -0.40282782912254333 | gen_loss: 0.3602491617202759\n",
            "Iteration: 1038 | disc_loss: -0.3899839222431183 | gen_loss: 0.19487042725086212\n",
            "Iteration: 1039 | disc_loss: -0.4361781179904938 | gen_loss: 0.23454880714416504\n"
          ]
        },
        {
          "output_type": "stream",
          "name": "stderr",
          "text": [
            " 87%|████████▋ | 1044/1201 [00:45<00:07, 21.94it/s]"
          ]
        },
        {
          "output_type": "stream",
          "name": "stdout",
          "text": [
            "Iteration: 1040 | disc_loss: -0.3793689012527466 | gen_loss: 0.2768230736255646\n",
            "Iteration: 1041 | disc_loss: -0.38534265756607056 | gen_loss: 0.3085213601589203\n",
            "Iteration: 1042 | disc_loss: -0.4181341826915741 | gen_loss: 0.2907143533229828\n",
            "Iteration: 1043 | disc_loss: -0.3433515131473541 | gen_loss: 0.3107373118400574\n"
          ]
        },
        {
          "output_type": "stream",
          "name": "stderr",
          "text": [
            "\r 87%|████████▋ | 1047/1201 [00:45<00:07, 21.17it/s]"
          ]
        },
        {
          "output_type": "stream",
          "name": "stdout",
          "text": [
            "Iteration: 1044 | disc_loss: -0.35875678062438965 | gen_loss: 0.31179073452949524\n",
            "Iteration: 1045 | disc_loss: -0.3356466591358185 | gen_loss: 0.3889051377773285\n",
            "Iteration: 1046 | disc_loss: -0.4048900604248047 | gen_loss: 0.317889541387558\n",
            "Iteration: 1047 | disc_loss: -0.38711491227149963 | gen_loss: 0.2657110393047333\n",
            "Iteration: 1048 | disc_loss: -0.38221365213394165 | gen_loss: 0.27421510219573975\n"
          ]
        },
        {
          "output_type": "stream",
          "name": "stderr",
          "text": [
            " 88%|████████▊ | 1053/1201 [00:46<00:07, 20.10it/s]"
          ]
        },
        {
          "output_type": "stream",
          "name": "stdout",
          "text": [
            "Iteration: 1049 | disc_loss: -0.3761146664619446 | gen_loss: 0.24022279679775238\n",
            "Iteration: 1050 | disc_loss: -0.3934764266014099 | gen_loss: 0.2240806221961975\n",
            "Iteration: 1051 | disc_loss: -0.3542737662792206 | gen_loss: 0.2577117383480072\n",
            "Iteration: 1052 | disc_loss: -0.38820651173591614 | gen_loss: 0.26790621876716614\n"
          ]
        },
        {
          "output_type": "stream",
          "name": "stderr",
          "text": [
            "\r 88%|████████▊ | 1056/1201 [00:46<00:07, 19.67it/s]"
          ]
        },
        {
          "output_type": "stream",
          "name": "stdout",
          "text": [
            "Iteration: 1053 | disc_loss: -0.35787656903266907 | gen_loss: 0.2105061411857605\n",
            "Iteration: 1054 | disc_loss: -0.40405505895614624 | gen_loss: 0.19925101101398468\n",
            "Iteration: 1055 | disc_loss: -0.3685111701488495 | gen_loss: 0.27903375029563904\n",
            "Iteration: 1056 | disc_loss: -0.40045103430747986 | gen_loss: 0.2636926472187042\n"
          ]
        },
        {
          "output_type": "stream",
          "name": "stderr",
          "text": [
            " 88%|████████▊ | 1060/1201 [00:46<00:07, 19.16it/s]"
          ]
        },
        {
          "output_type": "stream",
          "name": "stdout",
          "text": [
            "Iteration: 1057 | disc_loss: -0.39334237575531006 | gen_loss: 0.2910650074481964\n",
            "Iteration: 1058 | disc_loss: -0.3781082034111023 | gen_loss: 0.3054060637950897\n",
            "Iteration: 1059 | disc_loss: -0.3720855712890625 | gen_loss: 0.3324153423309326\n",
            "Iteration: 1060 | disc_loss: -0.3939344584941864 | gen_loss: 0.3344324827194214\n"
          ]
        },
        {
          "output_type": "stream",
          "name": "stderr",
          "text": [
            " 89%|████████▊ | 1064/1201 [00:46<00:07, 18.73it/s]"
          ]
        },
        {
          "output_type": "stream",
          "name": "stdout",
          "text": [
            "Iteration: 1061 | disc_loss: -0.33264124393463135 | gen_loss: 0.2691235840320587\n",
            "Iteration: 1062 | disc_loss: -0.3912140130996704 | gen_loss: 0.25090935826301575\n",
            "Iteration: 1063 | disc_loss: -0.39573046565055847 | gen_loss: 0.24438047409057617\n",
            "Iteration: 1064 | disc_loss: -0.3813352882862091 | gen_loss: 0.23022234439849854\n"
          ]
        },
        {
          "output_type": "stream",
          "name": "stderr",
          "text": [
            " 89%|████████▉ | 1068/1201 [00:47<00:07, 18.08it/s]"
          ]
        },
        {
          "output_type": "stream",
          "name": "stdout",
          "text": [
            "Iteration: 1065 | disc_loss: -0.36939069628715515 | gen_loss: 0.2338988035917282\n",
            "Iteration: 1066 | disc_loss: -0.3932362198829651 | gen_loss: 0.23758627474308014\n",
            "Iteration: 1067 | disc_loss: -0.39544248580932617 | gen_loss: 0.23389291763305664\n",
            "Iteration: 1068 | disc_loss: -0.3365476727485657 | gen_loss: 0.23929738998413086\n"
          ]
        },
        {
          "output_type": "stream",
          "name": "stderr",
          "text": [
            " 89%|████████▉ | 1073/1201 [00:47<00:06, 19.14it/s]"
          ]
        },
        {
          "output_type": "stream",
          "name": "stdout",
          "text": [
            "Iteration: 1069 | disc_loss: -0.2939547300338745 | gen_loss: 0.28776344656944275\n",
            "Iteration: 1070 | disc_loss: -0.36802706122398376 | gen_loss: 0.19983947277069092\n",
            "Iteration: 1071 | disc_loss: -0.39322927594184875 | gen_loss: 0.2744690775871277\n",
            "Iteration: 1072 | disc_loss: -0.371308833360672 | gen_loss: 0.258800745010376\n",
            "Iteration: 1073 | disc_loss: -0.37464895844459534 | gen_loss: 0.3977242708206177\n"
          ]
        },
        {
          "output_type": "stream",
          "name": "stderr",
          "text": [
            " 90%|████████▉ | 1077/1201 [00:47<00:06, 18.48it/s]"
          ]
        },
        {
          "output_type": "stream",
          "name": "stdout",
          "text": [
            "Iteration: 1074 | disc_loss: -0.39411449432373047 | gen_loss: 0.3706517219543457\n",
            "Iteration: 1075 | disc_loss: -0.36306408047676086 | gen_loss: 0.29048389196395874\n",
            "Iteration: 1076 | disc_loss: -0.401754766702652 | gen_loss: 0.31822469830513\n",
            "Iteration: 1077 | disc_loss: -0.387653112411499 | gen_loss: 0.2778646945953369\n"
          ]
        },
        {
          "output_type": "stream",
          "name": "stderr",
          "text": [
            " 90%|█████████ | 1081/1201 [00:47<00:06, 18.77it/s]"
          ]
        },
        {
          "output_type": "stream",
          "name": "stdout",
          "text": [
            "Iteration: 1078 | disc_loss: -0.33583369851112366 | gen_loss: 0.3177964389324188\n",
            "Iteration: 1079 | disc_loss: -0.40130454301834106 | gen_loss: 0.26402050256729126\n",
            "Iteration: 1080 | disc_loss: -0.3769770562648773 | gen_loss: 0.2838972806930542\n",
            "Iteration: 1081 | disc_loss: -0.391789048910141 | gen_loss: 0.15875452756881714\n"
          ]
        },
        {
          "output_type": "stream",
          "name": "stderr",
          "text": [
            " 90%|█████████ | 1085/1201 [00:48<00:06, 18.36it/s]"
          ]
        },
        {
          "output_type": "stream",
          "name": "stdout",
          "text": [
            "Iteration: 1082 | disc_loss: -0.3762912452220917 | gen_loss: 0.2764069139957428\n",
            "Iteration: 1083 | disc_loss: -0.32439759373664856 | gen_loss: 0.28803977370262146\n",
            "Iteration: 1084 | disc_loss: -0.37136250734329224 | gen_loss: 0.275203675031662\n",
            "Iteration: 1085 | disc_loss: -0.37469443678855896 | gen_loss: 0.2925134301185608\n"
          ]
        },
        {
          "output_type": "stream",
          "name": "stderr",
          "text": [
            " 91%|█████████ | 1089/1201 [00:48<00:06, 18.46it/s]"
          ]
        },
        {
          "output_type": "stream",
          "name": "stdout",
          "text": [
            "Iteration: 1086 | disc_loss: -0.342317670583725 | gen_loss: 0.2583518922328949\n",
            "Iteration: 1087 | disc_loss: -0.3494781255722046 | gen_loss: 0.22016577422618866\n",
            "Iteration: 1088 | disc_loss: -0.37951359152793884 | gen_loss: 0.226067915558815\n",
            "Iteration: 1089 | disc_loss: -0.3654431998729706 | gen_loss: 0.2729932367801666\n"
          ]
        },
        {
          "output_type": "stream",
          "name": "stderr",
          "text": [
            " 91%|█████████ | 1093/1201 [00:48<00:05, 18.54it/s]"
          ]
        },
        {
          "output_type": "stream",
          "name": "stdout",
          "text": [
            "Iteration: 1090 | disc_loss: -0.30841192603111267 | gen_loss: 0.32714012265205383\n",
            "Iteration: 1091 | disc_loss: -0.38570812344551086 | gen_loss: 0.32469478249549866\n",
            "Iteration: 1092 | disc_loss: -0.3660701811313629 | gen_loss: 0.28797999024391174\n",
            "Iteration: 1093 | disc_loss: -0.3411397635936737 | gen_loss: 0.37419164180755615\n"
          ]
        },
        {
          "output_type": "stream",
          "name": "stderr",
          "text": [
            " 91%|█████████▏| 1097/1201 [00:48<00:05, 18.71it/s]"
          ]
        },
        {
          "output_type": "stream",
          "name": "stdout",
          "text": [
            "Iteration: 1094 | disc_loss: -0.3752109110355377 | gen_loss: 0.2712734639644623\n",
            "Iteration: 1095 | disc_loss: -0.33863818645477295 | gen_loss: 0.2864627540111542\n",
            "Iteration: 1096 | disc_loss: -0.3690294921398163 | gen_loss: 0.2500497102737427\n",
            "Iteration: 1097 | disc_loss: -0.39562055468559265 | gen_loss: 0.20266316831111908\n"
          ]
        },
        {
          "output_type": "stream",
          "name": "stderr",
          "text": [
            " 92%|█████████▏| 1101/1201 [00:48<00:05, 17.30it/s]"
          ]
        },
        {
          "output_type": "stream",
          "name": "stdout",
          "text": [
            "Iteration: 1098 | disc_loss: -0.37782424688339233 | gen_loss: 0.21343153715133667\n",
            "Iteration: 1099 | disc_loss: -0.36135226488113403 | gen_loss: 0.279727965593338\n",
            "Iteration: 1100 | disc_loss: -0.36874452233314514 | gen_loss: 0.3007590174674988\n",
            "Iteration: 1101 | disc_loss: -0.37638986110687256 | gen_loss: 0.1968880146741867\n"
          ]
        },
        {
          "output_type": "stream",
          "name": "stderr",
          "text": [
            " 92%|█████████▏| 1105/1201 [00:49<00:05, 17.49it/s]"
          ]
        },
        {
          "output_type": "stream",
          "name": "stdout",
          "text": [
            "Iteration: 1102 | disc_loss: -0.3408317267894745 | gen_loss: 0.2730858027935028\n",
            "Iteration: 1103 | disc_loss: -0.4197818636894226 | gen_loss: 0.23969666659832\n",
            "Iteration: 1104 | disc_loss: -0.4153892695903778 | gen_loss: 0.2771339416503906\n",
            "Iteration: 1105 | disc_loss: -0.3855170011520386 | gen_loss: 0.3712228834629059\n"
          ]
        },
        {
          "output_type": "stream",
          "name": "stderr",
          "text": [
            " 92%|█████████▏| 1109/1201 [00:49<00:05, 17.98it/s]"
          ]
        },
        {
          "output_type": "stream",
          "name": "stdout",
          "text": [
            "Iteration: 1106 | disc_loss: -0.37205633521080017 | gen_loss: 0.44534173607826233\n",
            "Iteration: 1107 | disc_loss: -0.36206379532814026 | gen_loss: 0.33491790294647217\n",
            "Iteration: 1108 | disc_loss: -0.39439859986305237 | gen_loss: 0.3566817343235016\n",
            "Iteration: 1109 | disc_loss: -0.3940029740333557 | gen_loss: 0.4681259095668793\n"
          ]
        },
        {
          "output_type": "stream",
          "name": "stderr",
          "text": [
            " 93%|█████████▎| 1113/1201 [00:49<00:04, 18.52it/s]"
          ]
        },
        {
          "output_type": "stream",
          "name": "stdout",
          "text": [
            "Iteration: 1110 | disc_loss: -0.3611644208431244 | gen_loss: 0.2829563021659851\n",
            "Iteration: 1111 | disc_loss: -0.382774293422699 | gen_loss: 0.19848807156085968\n",
            "Iteration: 1112 | disc_loss: -0.362262487411499 | gen_loss: 0.2489059418439865\n",
            "Iteration: 1113 | disc_loss: -0.3557615578174591 | gen_loss: 0.3114650547504425\n",
            "Iteration: 1114 | disc_loss: -0.36931994557380676 | gen_loss: 0.26895150542259216\n"
          ]
        },
        {
          "output_type": "stream",
          "name": "stderr",
          "text": [
            " 93%|█████████▎| 1118/1201 [00:49<00:04, 19.54it/s]"
          ]
        },
        {
          "output_type": "stream",
          "name": "stdout",
          "text": [
            "Iteration: 1115 | disc_loss: -0.4081684350967407 | gen_loss: 0.2659318447113037\n",
            "Iteration: 1116 | disc_loss: -0.33671486377716064 | gen_loss: 0.2701469361782074\n",
            "Iteration: 1117 | disc_loss: -0.404827743768692 | gen_loss: 0.23115770518779755\n",
            "Iteration: 1118 | disc_loss: -0.3675854504108429 | gen_loss: 0.1503116935491562\n"
          ]
        },
        {
          "output_type": "stream",
          "name": "stderr",
          "text": [
            " 93%|█████████▎| 1122/1201 [00:50<00:04, 19.54it/s]"
          ]
        },
        {
          "output_type": "stream",
          "name": "stdout",
          "text": [
            "Iteration: 1119 | disc_loss: -0.36238086223602295 | gen_loss: 0.24046707153320312\n",
            "Iteration: 1120 | disc_loss: -0.3828440308570862 | gen_loss: 0.2967081665992737\n",
            "Iteration: 1121 | disc_loss: -0.3962651789188385 | gen_loss: 0.3131527304649353\n",
            "Iteration: 1122 | disc_loss: -0.38688480854034424 | gen_loss: 0.39113083481788635\n",
            "Iteration: 1123 | disc_loss: -0.39395636320114136 | gen_loss: 0.3095013201236725\n"
          ]
        },
        {
          "output_type": "stream",
          "name": "stderr",
          "text": [
            " 94%|█████████▍| 1127/1201 [00:50<00:03, 19.62it/s]"
          ]
        },
        {
          "output_type": "stream",
          "name": "stdout",
          "text": [
            "Iteration: 1124 | disc_loss: -0.38595688343048096 | gen_loss: 0.3827345371246338\n",
            "Iteration: 1125 | disc_loss: -0.38381779193878174 | gen_loss: 0.2455158233642578\n",
            "Iteration: 1126 | disc_loss: -0.35530123114585876 | gen_loss: 0.2662912607192993\n",
            "Iteration: 1127 | disc_loss: -0.3769267797470093 | gen_loss: 0.2924623191356659\n",
            "Iteration: 1128 | disc_loss: -0.4038645029067993 | gen_loss: 0.29783859848976135\n"
          ]
        },
        {
          "output_type": "stream",
          "name": "stderr",
          "text": [
            " 94%|█████████▍| 1132/1201 [00:50<00:03, 19.70it/s]"
          ]
        },
        {
          "output_type": "stream",
          "name": "stdout",
          "text": [
            "Iteration: 1129 | disc_loss: -0.39210572838783264 | gen_loss: 0.38503459095954895\n",
            "Iteration: 1130 | disc_loss: -0.32817891240119934 | gen_loss: 0.43160006403923035\n",
            "Iteration: 1131 | disc_loss: -0.37171927094459534 | gen_loss: 0.36287054419517517\n",
            "Iteration: 1132 | disc_loss: -0.4099940061569214 | gen_loss: 0.32655227184295654\n"
          ]
        },
        {
          "output_type": "stream",
          "name": "stderr",
          "text": [
            " 95%|█████████▍| 1137/1201 [00:50<00:02, 21.95it/s]"
          ]
        },
        {
          "output_type": "stream",
          "name": "stdout",
          "text": [
            "Iteration: 1133 | disc_loss: -0.40011066198349 | gen_loss: 0.24632807075977325\n",
            "Iteration: 1134 | disc_loss: -0.40025195479393005 | gen_loss: 0.2611667811870575\n",
            "Iteration: 1135 | disc_loss: -0.39274364709854126 | gen_loss: 0.2590438425540924\n",
            "Iteration: 1136 | disc_loss: -0.27454885840415955 | gen_loss: 0.2910737693309784\n",
            "Iteration: 1137 | disc_loss: -0.3693378269672394 | gen_loss: 0.2837578356266022\n",
            "Iteration: 1138 | disc_loss: -0.4149508476257324 | gen_loss: 0.2447139471769333\n",
            "Iteration: 1139 | disc_loss: -0.3806133568286896 | gen_loss: 0.17128805816173553\n"
          ]
        },
        {
          "output_type": "stream",
          "name": "stderr",
          "text": [
            " 95%|█████████▌| 1144/1201 [00:51<00:02, 24.28it/s]"
          ]
        },
        {
          "output_type": "stream",
          "name": "stdout",
          "text": [
            "Iteration: 1140 | disc_loss: -0.37954404950141907 | gen_loss: 0.22240769863128662\n",
            "Iteration: 1141 | disc_loss: -0.413272500038147 | gen_loss: 0.2530977725982666\n",
            "Iteration: 1142 | disc_loss: -0.30116719007492065 | gen_loss: 0.2410057932138443\n",
            "Iteration: 1143 | disc_loss: -0.3422170877456665 | gen_loss: 0.2819819450378418\n",
            "Iteration: 1144 | disc_loss: -0.37300196290016174 | gen_loss: 0.2963210344314575\n",
            "Iteration: 1145 | disc_loss: -0.38680028915405273 | gen_loss: 0.4349295198917389\n"
          ]
        },
        {
          "output_type": "stream",
          "name": "stderr",
          "text": [
            " 96%|█████████▌| 1150/1201 [00:51<00:01, 25.93it/s]"
          ]
        },
        {
          "output_type": "stream",
          "name": "stdout",
          "text": [
            "Iteration: 1146 | disc_loss: -0.3684241771697998 | gen_loss: 0.42297109961509705\n",
            "Iteration: 1147 | disc_loss: -0.3458104133605957 | gen_loss: 0.3683967888355255\n",
            "Iteration: 1148 | disc_loss: -0.3421175181865692 | gen_loss: 0.31227949261665344\n",
            "Iteration: 1149 | disc_loss: -0.38393083214759827 | gen_loss: 0.41124868392944336\n",
            "Iteration: 1150 | disc_loss: -0.33220967650413513 | gen_loss: 0.24173350632190704\n",
            "Iteration: 1151 | disc_loss: -0.378788560628891 | gen_loss: 0.2515299618244171\n"
          ]
        },
        {
          "output_type": "stream",
          "name": "stderr",
          "text": [
            " 96%|█████████▋| 1156/1201 [00:51<00:01, 27.39it/s]"
          ]
        },
        {
          "output_type": "stream",
          "name": "stdout",
          "text": [
            "Iteration: 1152 | disc_loss: -0.3839973211288452 | gen_loss: 0.19137029349803925\n",
            "Iteration: 1153 | disc_loss: -0.4320610761642456 | gen_loss: 0.2659950256347656\n",
            "Iteration: 1154 | disc_loss: -0.3902445435523987 | gen_loss: 0.3196595013141632\n",
            "Iteration: 1155 | disc_loss: -0.38972851634025574 | gen_loss: 0.23940801620483398\n",
            "Iteration: 1156 | disc_loss: -0.3212505280971527 | gen_loss: 0.2924068868160248\n",
            "Iteration: 1157 | disc_loss: -0.3774307668209076 | gen_loss: 0.3576769530773163\n",
            "Iteration: 1158 | disc_loss: -0.38183724880218506 | gen_loss: 0.2871132791042328\n"
          ]
        },
        {
          "output_type": "stream",
          "name": "stderr",
          "text": [
            " 97%|█████████▋| 1163/1201 [00:51<00:01, 28.76it/s]"
          ]
        },
        {
          "output_type": "stream",
          "name": "stdout",
          "text": [
            "Iteration: 1159 | disc_loss: -0.3359782099723816 | gen_loss: 0.27622225880622864\n",
            "Iteration: 1160 | disc_loss: -0.38024887442588806 | gen_loss: 0.38517236709594727\n",
            "Iteration: 1161 | disc_loss: -0.39163514971733093 | gen_loss: 0.32488033175468445\n",
            "Iteration: 1162 | disc_loss: -0.3663756549358368 | gen_loss: 0.27962160110473633\n",
            "Iteration: 1163 | disc_loss: -0.34598445892333984 | gen_loss: 0.28179776668548584\n",
            "Iteration: 1164 | disc_loss: -0.38743138313293457 | gen_loss: 0.2886224687099457\n",
            "Iteration: 1165 | disc_loss: -0.34672409296035767 | gen_loss: 0.2762690484523773\n"
          ]
        },
        {
          "output_type": "stream",
          "name": "stderr",
          "text": [
            " 97%|█████████▋| 1170/1201 [00:51<00:01, 29.05it/s]"
          ]
        },
        {
          "output_type": "stream",
          "name": "stdout",
          "text": [
            "Iteration: 1166 | disc_loss: -0.38840383291244507 | gen_loss: 0.262239009141922\n",
            "Iteration: 1167 | disc_loss: -0.39065197110176086 | gen_loss: 0.2954176962375641\n",
            "Iteration: 1168 | disc_loss: -0.3515540361404419 | gen_loss: 0.2858155369758606\n",
            "Iteration: 1169 | disc_loss: -0.35337501764297485 | gen_loss: 0.23158514499664307\n",
            "Iteration: 1170 | disc_loss: -0.3746008574962616 | gen_loss: 0.2224564552307129\n",
            "Iteration: 1171 | disc_loss: -0.40521785616874695 | gen_loss: 0.27428165078163147\n"
          ]
        },
        {
          "output_type": "stream",
          "name": "stderr",
          "text": [
            " 98%|█████████▊| 1176/1201 [00:52<00:00, 27.84it/s]"
          ]
        },
        {
          "output_type": "stream",
          "name": "stdout",
          "text": [
            "Iteration: 1172 | disc_loss: -0.34397953748703003 | gen_loss: 0.30200549960136414\n",
            "Iteration: 1173 | disc_loss: -0.30057886242866516 | gen_loss: 0.3276292383670807\n",
            "Iteration: 1174 | disc_loss: -0.35739877820014954 | gen_loss: 0.30409058928489685\n",
            "Iteration: 1175 | disc_loss: -0.36677655577659607 | gen_loss: 0.35962939262390137\n",
            "Iteration: 1176 | disc_loss: -0.37221309542655945 | gen_loss: 0.27436625957489014\n",
            "Iteration: 1177 | disc_loss: -0.385061651468277 | gen_loss: 0.25403621792793274\n"
          ]
        },
        {
          "output_type": "stream",
          "name": "stderr",
          "text": [
            " 99%|█████████▊| 1183/1201 [00:52<00:00, 28.24it/s]"
          ]
        },
        {
          "output_type": "stream",
          "name": "stdout",
          "text": [
            "Iteration: 1178 | disc_loss: -0.38551223278045654 | gen_loss: 0.23557233810424805\n",
            "Iteration: 1179 | disc_loss: -0.3917624056339264 | gen_loss: 0.23909521102905273\n",
            "Iteration: 1180 | disc_loss: -0.3869019150733948 | gen_loss: 0.3083873689174652\n",
            "Iteration: 1181 | disc_loss: -0.28908872604370117 | gen_loss: 0.2583976984024048\n",
            "Iteration: 1182 | disc_loss: -0.37113407254219055 | gen_loss: 0.2039021998643875\n",
            "Iteration: 1183 | disc_loss: -0.3960599899291992 | gen_loss: 0.23531174659729004\n"
          ]
        },
        {
          "output_type": "stream",
          "name": "stderr",
          "text": [
            " 99%|█████████▉| 1189/1201 [00:52<00:00, 28.28it/s]"
          ]
        },
        {
          "output_type": "stream",
          "name": "stdout",
          "text": [
            "Iteration: 1184 | disc_loss: -0.3726601004600525 | gen_loss: 0.20323537290096283\n",
            "Iteration: 1185 | disc_loss: -0.3808728754520416 | gen_loss: 0.2921774089336395\n",
            "Iteration: 1186 | disc_loss: -0.3935488164424896 | gen_loss: 0.32924309372901917\n",
            "Iteration: 1187 | disc_loss: -0.37818780541419983 | gen_loss: 0.21833336353302002\n",
            "Iteration: 1188 | disc_loss: -0.3529300093650818 | gen_loss: 0.2373247891664505\n",
            "Iteration: 1189 | disc_loss: -0.34258684515953064 | gen_loss: 0.3352757394313812\n",
            "Iteration: 1190 | disc_loss: -0.3836110830307007 | gen_loss: 0.39124298095703125\n"
          ]
        },
        {
          "output_type": "stream",
          "name": "stderr",
          "text": [
            "100%|█████████▉| 1196/1201 [00:52<00:00, 29.06it/s]"
          ]
        },
        {
          "output_type": "stream",
          "name": "stdout",
          "text": [
            "Iteration: 1191 | disc_loss: -0.34832820296287537 | gen_loss: 0.31991046667099\n",
            "Iteration: 1192 | disc_loss: -0.3702976405620575 | gen_loss: 0.3654841482639313\n",
            "Iteration: 1193 | disc_loss: -0.33613845705986023 | gen_loss: 0.3242352306842804\n",
            "Iteration: 1194 | disc_loss: -0.3029392957687378 | gen_loss: 0.3455840051174164\n",
            "Iteration: 1195 | disc_loss: -0.3980407118797302 | gen_loss: 0.2913108170032501\n",
            "Iteration: 1196 | disc_loss: -0.34860748052597046 | gen_loss: 0.3063311278820038\n",
            "Iteration: 1197 | disc_loss: -0.38933923840522766 | gen_loss: 0.2246101349592209\n"
          ]
        },
        {
          "output_type": "stream",
          "name": "stderr",
          "text": [
            "100%|██████████| 1201/1201 [00:53<00:00, 22.64it/s]"
          ]
        },
        {
          "output_type": "stream",
          "name": "stdout",
          "text": [
            "Iteration: 1198 | disc_loss: -0.33739912509918213 | gen_loss: 0.3107666075229645\n",
            "Iteration: 1199 | disc_loss: -0.37638023495674133 | gen_loss: 0.44185054302215576\n",
            "Iteration: 1200 | disc_loss: -0.3130316734313965 | gen_loss: 0.3519265949726105\n"
          ]
        },
        {
          "output_type": "stream",
          "name": "stderr",
          "text": [
            "\n"
          ]
        }
      ]
    },
    {
      "cell_type": "code",
      "source": [
        "# Generator discription\n",
        "synthesizer.generator.summary()"
      ],
      "metadata": {
        "colab": {
          "base_uri": "https://localhost:8080/"
        },
        "id": "LducSabEghhe",
        "outputId": "9b0da70f-4dc6-41a1-8d4a-270721031598"
      },
      "execution_count": null,
      "outputs": [
        {
          "output_type": "stream",
          "name": "stdout",
          "text": [
            "Model: \"model\"\n",
            "_________________________________________________________________\n",
            " Layer (type)                Output Shape              Param #   \n",
            "=================================================================\n",
            " input_1 (InputLayer)        [(192, 32)]               0         \n",
            "                                                                 \n",
            " dense (Dense)               (192, 64)                 2112      \n",
            "                                                                 \n",
            " dense_1 (Dense)             (192, 128)                8320      \n",
            "                                                                 \n",
            " dense_2 (Dense)             (192, 256)                33024     \n",
            "                                                                 \n",
            " dense_3 (Dense)             (192, 29)                 7453      \n",
            "                                                                 \n",
            "=================================================================\n",
            "Total params: 50909 (198.86 KB)\n",
            "Trainable params: 50909 (198.86 KB)\n",
            "Non-trainable params: 0 (0.00 Byte)\n",
            "_________________________________________________________________\n"
          ]
        }
      ]
    },
    {
      "cell_type": "code",
      "source": [
        "# Critic description\n",
        "synthesizer.critic.summary()"
      ],
      "metadata": {
        "colab": {
          "base_uri": "https://localhost:8080/"
        },
        "id": "3LeS3w4WgxTd",
        "outputId": "0fedb732-3e00-4f2b-f6e6-b6b4f81c4050"
      },
      "execution_count": null,
      "outputs": [
        {
          "output_type": "stream",
          "name": "stdout",
          "text": [
            "Model: \"model_1\"\n",
            "_________________________________________________________________\n",
            " Layer (type)                Output Shape              Param #   \n",
            "=================================================================\n",
            " input_2 (InputLayer)        [(192, 29)]               0         \n",
            "                                                                 \n",
            " dense_4 (Dense)             (192, 256)                7680      \n",
            "                                                                 \n",
            " dropout (Dropout)           (192, 256)                0         \n",
            "                                                                 \n",
            " dense_5 (Dense)             (192, 128)                32896     \n",
            "                                                                 \n",
            " dropout_1 (Dropout)         (192, 128)                0         \n",
            "                                                                 \n",
            " dense_6 (Dense)             (192, 64)                 8256      \n",
            "                                                                 \n",
            " dense_7 (Dense)             (192, 1)                  65        \n",
            "                                                                 \n",
            "=================================================================\n",
            "Total params: 48897 (191.00 KB)\n",
            "Trainable params: 48897 (191.00 KB)\n",
            "Non-trainable params: 0 (0.00 Byte)\n",
            "_________________________________________________________________\n"
          ]
        }
      ]
    },
    {
      "cell_type": "code",
      "source": [
        "!mkdir -p saved/gan\n",
        "#You can easily save the trained generator and loaded it aftwerwards\n",
        "synthesizer.save('./saved/gan', 'generator_fraud')"
      ],
      "metadata": {
        "id": "YmSHi-wTg0yM"
      },
      "execution_count": null,
      "outputs": []
    },
    {
      "cell_type": "code",
      "source": [
        "models = {'GAN': ['GAN', False, synthesizer.generator]}"
      ],
      "metadata": {
        "id": "D-0yayKRg5Sd"
      },
      "execution_count": null,
      "outputs": []
    },
    {
      "cell_type": "code",
      "source": [
        "!ls cache/"
      ],
      "metadata": {
        "colab": {
          "base_uri": "https://localhost:8080/"
        },
        "id": "jS8Kynh9g7l8",
        "outputId": "d924ebba-d28f-4759-d7ce-2f13ee037ba0"
      },
      "execution_count": null,
      "outputs": [
        {
          "output_type": "stream",
          "name": "stdout",
          "text": [
            "_critic_model_weights_step_0.h5     _generator_model_weights_step_0.h5\n",
            "_critic_model_weights_step_1000.h5  _generator_model_weights_step_1000.h5\n",
            "_critic_model_weights_step_100.h5   _generator_model_weights_step_100.h5\n",
            "_critic_model_weights_step_1100.h5  _generator_model_weights_step_1100.h5\n",
            "_critic_model_weights_step_1200.h5  _generator_model_weights_step_1200.h5\n",
            "_critic_model_weights_step_200.h5   _generator_model_weights_step_200.h5\n",
            "_critic_model_weights_step_300.h5   _generator_model_weights_step_300.h5\n",
            "_critic_model_weights_step_400.h5   _generator_model_weights_step_400.h5\n",
            "_critic_model_weights_step_500.h5   _generator_model_weights_step_500.h5\n",
            "_critic_model_weights_step_600.h5   _generator_model_weights_step_600.h5\n",
            "_critic_model_weights_step_700.h5   _generator_model_weights_step_700.h5\n",
            "_critic_model_weights_step_800.h5   _generator_model_weights_step_800.h5\n",
            "_critic_model_weights_step_900.h5   _generator_model_weights_step_900.h5\n"
          ]
        }
      ]
    },
    {
      "cell_type": "code",
      "metadata": {
        "pycharm": {
          "name": "#%%\n"
        },
        "id": "ebXufJMz9b3m",
        "colab": {
          "base_uri": "https://localhost:8080/",
          "height": 1000
        },
        "outputId": "9e1ea51d-6fee-40f3-e317-ee79cc868eb1"
      },
      "source": [
        "# Setup parameters visualization parameters\n",
        "seed = 42\n",
        "test_size = train_samples.shape[0] # number of fraud cases\n",
        "\n",
        "np.random.seed(seed)\n",
        "z = np.random.normal(size=(1024, noise_dim))\n",
        "real = synthesizer.get_data_batch(train=train_samples, batch_size=test_size, seed=seed)\n",
        "real_samples = pd.DataFrame(real, columns=data_cols)\n",
        "\n",
        "model_names = ['GAN']\n",
        "colors = ['deepskyblue','blue']\n",
        "markers = ['o','^']\n",
        "class_labels = ['Class 1','Class 2']\n",
        "\n",
        "col1, col2 = 'V5', 'V17'\n",
        "\n",
        "base_dir = 'cache/'\n",
        "\n",
        "#Actual fraud data visualization\n",
        "model_steps = [ 0, 400, 800, 1200]\n",
        "rows = len(model_steps)\n",
        "columns = 5\n",
        "\n",
        "axarr = [[]]*len(model_steps)\n",
        "\n",
        "fig = plt.figure(figsize=(14,rows*3))\n",
        "\n",
        "for model_step_ix, model_step in enumerate(model_steps):\n",
        "    axarr[model_step_ix] = plt.subplot(rows, columns, model_step_ix*columns + 1)\n",
        "\n",
        "    # for group, color, marker, label in zip(real_samples.groupby('Class'), colors, markers, class_labels ):\n",
        "    plt.scatter(\n",
        "        real_samples[[col1]], real_samples[[col2]],\n",
        "        marker='o', edgecolors=['deepskyblue'], facecolors='none' )\n",
        "\n",
        "    plt.title('Actual Fraud Data')\n",
        "    plt.ylabel(col2) # Only add y label to left plot\n",
        "    plt.xlabel(col1)\n",
        "    xlims, ylims = axarr[model_step_ix].get_xlim(), axarr[model_step_ix].get_ylim()\n",
        "\n",
        "    # if model_step_ix == 0:\n",
        "        # legend = plt.legend()\n",
        "        # legend.get_frame().set_facecolor('white')\n",
        "\n",
        "    for i, model_name in enumerate( model_names[:] ):\n",
        "\n",
        "        [model_name, with_class, generator_model] = models[model_name]\n",
        "\n",
        "        generator_model.load_weights( base_dir + '_generator_model_weights_step_'+str(model_step)+'.h5')\n",
        "\n",
        "        ax = plt.subplot(rows, columns, model_step_ix*columns + 1 + (i+1) )\n",
        "\n",
        "        if with_class:\n",
        "            raise NotImplementedError()\n",
        "            # g_z = generator_model.predict([z, labels])\n",
        "            # gen_samples = pd.DataFrame(g_z, columns=data_cols)\n",
        "            # for group, color, marker, label in zip( gen_samples.groupby('Class'), colors, markers, class_labels ):\n",
        "            #     plt.scatter( group[1][[col1]], group[1][[col2]],\n",
        "            #                      label=label, marker=marker, edgecolors=color, facecolors='none' )\n",
        "        else:\n",
        "            g_z = generator_model.predict(z)\n",
        "            gen_samples = pd.DataFrame(g_z, columns=data_cols)\n",
        "            gen_samples.to_csv('Generated_sample.csv')\n",
        "            plt.scatter( gen_samples[[col1]], gen_samples[[col2]],\n",
        "                         marker=markers[0], edgecolors=colors[0], facecolors='none' )\n",
        "        plt.title(model_name)\n",
        "        plt.xlabel(col1)\n",
        "        ax.set_xlim(xlims), ax.set_ylim(ylims)\n",
        "\n",
        "plt.suptitle('Comparison of GAN outputs', size=16, fontweight='bold')\n",
        "plt.tight_layout(rect=[0.075,0,1,0.95])\n",
        "\n",
        "# Adding text labels for traning steps\n",
        "vpositions = np.array([ i._position.bounds[1] for i in axarr ])\n",
        "vpositions += ((vpositions[0] - vpositions[1]) * 0.35 )\n",
        "for model_step_ix, model_step in enumerate( model_steps ):\n",
        "    fig.text( 0.05, vpositions[model_step_ix], 'training\\nstep\\n'+str(model_step), ha='center', va='center', size=12)\n",
        "\n",
        "plt.savefig('Comparison_of_GAN_outputs.png')"
      ],
      "execution_count": null,
      "outputs": [
        {
          "output_type": "stream",
          "name": "stdout",
          "text": [
            "32/32 [==============================] - 0s 1ms/step\n",
            "32/32 [==============================] - 0s 2ms/step\n",
            "32/32 [==============================] - 0s 2ms/step\n",
            "32/32 [==============================] - 0s 2ms/step\n"
          ]
        },
        {
          "output_type": "display_data",
          "data": {
            "text/plain": [
              "<Figure size 1400x1200 with 8 Axes>"
            ],
            "image/png": "[encoded data removed]"
          },
          "metadata": {}
        }
      ]
    },
    {
      "cell_type": "code",
      "source": [
        "from sklearn.metrics import confusion_matrix, accuracy_score, f1_score, roc_auc_score\n",
        "import numpy as np\n",
        "def evaluate(model, X, y, cutoff=None):\n",
        "    # y_hat = model.predict(X)\n",
        "    y_hat_prob = model.predict_proba(X)[:, 1]\n",
        "    if cutoff:\n",
        "        best_cutoff = cutoff\n",
        "        best_f1 = f1_score(y, (y_hat_prob >= cutoff).astype('int'))\n",
        "    else:\n",
        "        best_f1, best_cutoff = 0, 0\n",
        "        for cutoff in np.arange(0., 1, 0.01):\n",
        "            y_hat = (y_hat_prob >= cutoff).astype('int')\n",
        "            score = f1_score(y, y_hat)\n",
        "            if score > best_f1:\n",
        "                best_f1, best_cutoff = score, cutoff\n",
        "    print(f\"F1: {best_f1} @ {best_cutoff:.2f}\")\n",
        "    # print(f\"Acc: {accuracy_score(y, y_hat)}\")\n",
        "    print(confusion_matrix(y, (y_hat_prob >= best_cutoff).astype('int')))\n",
        "\n",
        "    print(f\"AUC: {roc_auc_score(y, y_hat_prob)}\")\n",
        "    return best_cutoff"
      ],
      "metadata": {
        "id": "aiqV1IeGhCw2"
      },
      "execution_count": null,
      "outputs": []
    },
    {
      "cell_type": "code",
      "source": [
        "model_params = dict(\n",
        "    n_estimators=300, max_depth=8, max_leaf_nodes=2**6, class_weight=\"balanced_subsample\"\n",
        ")"
      ],
      "metadata": {
        "id": "oXTM97VqdU6H"
      },
      "execution_count": null,
      "outputs": []
    },
    {
      "cell_type": "code",
      "source": [
        "y_train.shape"
      ],
      "metadata": {
        "colab": {
          "base_uri": "https://localhost:8080/"
        },
        "id": "cnT3PCqXdjvY",
        "outputId": "8ab8f891-6666-4fe1-dbd0-1768fd5417d3"
      },
      "execution_count": null,
      "outputs": [
        {
          "output_type": "execute_result",
          "data": {
            "text/plain": [
              "(12295,)"
            ]
          },
          "metadata": {},
          "execution_count": 26
        }
      ]
    },
    {
      "cell_type": "code",
      "source": [
        "model = RandomForestClassifier(**model_params)\n",
        "model.fit(X_train.values, y_train.values)"
      ],
      "metadata": {
        "colab": {
          "base_uri": "https://localhost:8080/",
          "height": 91
        },
        "id": "4bfNtfK-eXWr",
        "outputId": "2f119082-bca3-4a51-d373-36e7d8e49121"
      },
      "execution_count": null,
      "outputs": [
        {
          "output_type": "execute_result",
          "data": {
            "text/plain": [
              "RandomForestClassifier(class_weight='balanced_subsample', max_depth=8,\n",
              "                       max_leaf_nodes=64, n_estimators=300)"
            ],
            "text/html": [
              "<style>#sk-container-id-1 {color: black;background-color: white;}#sk-container-id-1 pre{padding: 0;}#sk-container-id-1 div.sk-toggleable {background-color: white;}#sk-container-id-1 label.sk-toggleable__label {cursor: pointer;display: block;width: 100%;margin-bottom: 0;padding: 0.3em;box-sizing: border-box;text-align: center;}#sk-container-id-1 label.sk-toggleable__label-arrow:before {content: \"▸\";float: left;margin-right: 0.25em;color: #696969;}#sk-container-id-1 label.sk-toggleable__label-arrow:hover:before {color: black;}#sk-container-id-1 div.sk-estimator:hover label.sk-toggleable__label-arrow:before {color: black;}#sk-container-id-1 div.sk-toggleable__content {max-height: 0;max-width: 0;overflow: hidden;text-align: left;background-color: #f0f8ff;}#sk-container-id-1 div.sk-toggleable__content pre {margin: 0.2em;color: black;border-radius: 0.25em;background-color: #f0f8ff;}#sk-container-id-1 input.sk-toggleable__control:checked~div.sk-toggleable__content {max-height: 200px;max-width: 100%;overflow: auto;}#sk-container-id-1 input.sk-toggleable__control:checked~label.sk-toggleable__label-arrow:before {content: \"▾\";}#sk-container-id-1 div.sk-estimator input.sk-toggleable__control:checked~label.sk-toggleable__label {background-color: #d4ebff;}#sk-container-id-1 div.sk-label input.sk-toggleable__control:checked~label.sk-toggleable__label {background-color: #d4ebff;}#sk-container-id-1 input.sk-hidden--visually {border: 0;clip: rect(1px 1px 1px 1px);clip: rect(1px, 1px, 1px, 1px);height: 1px;margin: -1px;overflow: hidden;padding: 0;position: absolute;width: 1px;}#sk-container-id-1 div.sk-estimator {font-family: monospace;background-color: #f0f8ff;border: 1px dotted black;border-radius: 0.25em;box-sizing: border-box;margin-bottom: 0.5em;}#sk-container-id-1 div.sk-estimator:hover {background-color: #d4ebff;}#sk-container-id-1 div.sk-parallel-item::after {content: \"\";width: 100%;border-bottom: 1px solid gray;flex-grow: 1;}#sk-container-id-1 div.sk-label:hover label.sk-toggleable__label {background-color: #d4ebff;}#sk-container-id-1 div.sk-serial::before {content: \"\";position: absolute;border-left: 1px solid gray;box-sizing: border-box;top: 0;bottom: 0;left: 50%;z-index: 0;}#sk-container-id-1 div.sk-serial {display: flex;flex-direction: column;align-items: center;background-color: white;padding-right: 0.2em;padding-left: 0.2em;position: relative;}#sk-container-id-1 div.sk-item {position: relative;z-index: 1;}#sk-container-id-1 div.sk-parallel {display: flex;align-items: stretch;justify-content: center;background-color: white;position: relative;}#sk-container-id-1 div.sk-item::before, #sk-container-id-1 div.sk-parallel-item::before {content: \"\";position: absolute;border-left: 1px solid gray;box-sizing: border-box;top: 0;bottom: 0;left: 50%;z-index: -1;}#sk-container-id-1 div.sk-parallel-item {display: flex;flex-direction: column;z-index: 1;position: relative;background-color: white;}#sk-container-id-1 div.sk-parallel-item:first-child::after {align-self: flex-end;width: 50%;}#sk-container-id-1 div.sk-parallel-item:last-child::after {align-self: flex-start;width: 50%;}#sk-container-id-1 div.sk-parallel-item:only-child::after {width: 0;}#sk-container-id-1 div.sk-dashed-wrapped {border: 1px dashed gray;margin: 0 0.4em 0.5em 0.4em;box-sizing: border-box;padding-bottom: 0.4em;background-color: white;}#sk-container-id-1 div.sk-label label {font-family: monospace;font-weight: bold;display: inline-block;line-height: 1.2em;}#sk-container-id-1 div.sk-label-container {text-align: center;}#sk-container-id-1 div.sk-container {/* jupyter's `normalize.less` sets `[hidden] { display: none; }` but bootstrap.min.css set `[hidden] { display: none !important; }` so we also need the `!important` here to be able to override the default hidden behavior on the sphinx rendered scikit-learn.org. See: https://github.com/scikit-learn/scikit-learn/issues/21755 */display: inline-block !important;position: relative;}#sk-container-id-1 div.sk-text-repr-fallback {display: none;}</style><div id=\"sk-container-id-1\" class=\"sk-top-container\"><div class=\"sk-text-repr-fallback\"><pre>RandomForestClassifier(class_weight=&#x27;balanced_subsample&#x27;, max_depth=8,\n",
              "                       max_leaf_nodes=64, n_estimators=300)</pre><b>In a Jupyter environment, please rerun this cell to show the HTML representation or trust the notebook. <br />On GitHub, the HTML representation is unable to render, please try loading this page with nbviewer.org.</b></div><div class=\"sk-container\" hidden><div class=\"sk-item\"><div class=\"sk-estimator sk-toggleable\"><input class=\"sk-toggleable__control sk-hidden--visually\" id=\"sk-estimator-id-1\" type=\"checkbox\" checked><label for=\"sk-estimator-id-1\" class=\"sk-toggleable__label sk-toggleable__label-arrow\">RandomForestClassifier</label><div class=\"sk-toggleable__content\"><pre>RandomForestClassifier(class_weight=&#x27;balanced_subsample&#x27;, max_depth=8,\n",
              "                       max_leaf_nodes=64, n_estimators=300)</pre></div></div></div></div></div>"
            ]
          },
          "metadata": {},
          "execution_count": 27
        }
      ]
    },
    {
      "cell_type": "code",
      "source": [
        "cutoff = evaluate(model, X_valid.values, y_valid.values)"
      ],
      "metadata": {
        "colab": {
          "base_uri": "https://localhost:8080/"
        },
        "id": "PC-CK4OfeZ1L",
        "outputId": "e393b571-5e2b-47aa-8aba-7a09189a9cbd"
      },
      "execution_count": null,
      "outputs": [
        {
          "output_type": "stream",
          "name": "stdout",
          "text": [
            "F1: 0.9111111111111111 @ 0.48\n",
            "[[4000    0]\n",
            " [  16   82]]\n",
            "AUC: 0.9782168367346938\n"
          ]
        }
      ]
    },
    {
      "cell_type": "code",
      "source": [
        "acc_test = evaluate(model, X_test.values, y_test.values, cutoff)"
      ],
      "metadata": {
        "colab": {
          "base_uri": "https://localhost:8080/"
        },
        "id": "g3lgpa9Neo6p",
        "outputId": "f535aa90-2ab7-448e-d5c1-4eb6f9320d26"
      },
      "execution_count": null,
      "outputs": [
        {
          "output_type": "stream",
          "name": "stdout",
          "text": [
            "F1: 0.9206349206349207 @ 0.48\n",
            "[[3997    3]\n",
            " [  12   87]]\n",
            "AUC: 0.9793409090909092\n"
          ]
        }
      ]
    }
  ]
}